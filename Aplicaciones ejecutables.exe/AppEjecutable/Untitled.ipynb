{
 "cells": [
  {
   "cell_type": "code",
   "execution_count": 16,
   "id": "6666ace4",
   "metadata": {},
   "outputs": [],
   "source": [
    "from selenium import webdriver\n",
    "from selenium.webdriver.common.by import By\n",
    "from time import sleep\n",
    "from selenium.webdriver.support.ui import Select\n",
    "import tkinter as tk\n",
    "\n",
    "texto_guardado = \"\"  # Variable global para guardar el texto\n",
    "\n",
    "def capturar_texto():\n",
    "    global texto_guardado\n",
    "    texto_ingresado = entrada.get()\n",
    "    texto_guardado = texto_ingresado  # Guardar el texto en la variable global\n",
    "    ventana.destroy()\n",
    "\n",
    "ventana = tk.Tk()\n",
    "ventana.title(\"Captura de Texto\")\n",
    "\n",
    "etiqueta = tk.Label(ventana, text=\"Ingrese un texto:\")\n",
    "etiqueta.pack()\n",
    "\n",
    "entrada = tk.Entry(ventana)\n",
    "entrada.pack()\n",
    "\n",
    "boton_capturar = tk.Button(ventana, text=\"Capturar Texto\", command=capturar_texto)\n",
    "boton_capturar.pack()\n",
    "\n",
    "etiqueta_resultado = tk.Label(ventana, text=\"Texto guardado: \")\n",
    "etiqueta_resultado.pack()\n",
    "\n",
    "ventana.mainloop()\n",
    "\n",
    "\n",
    "\n",
    "browser = webdriver.Chrome()\n",
    "\n",
    "titulo = texto_guardado\n",
    "link = f'https://www.indeed.com/career/{titulo.replace(\" \",\"-\")}/salaries'\n",
    "\n",
    "browser.get(link)\n",
    "\n",
    "\n",
    "sleep(5)  \n",
    "\n",
    "periodo = 'MONTHLY'\n",
    "\n",
    "select = Select(browser.find_element(By.ID, 'pay-period-selector'))\n",
    "select.select_by_value(periodo)\n",
    "\n",
    "sleep(5)  \n",
    "\n",
    "elements = browser.find_elements(By.CLASS_NAME, 'css-15so73c.e19afand0')\n",
    "salaries = browser.find_elements(By.CLASS_NAME, 'css-k60owf.e1wnkr790')\n",
    "\n",
    "with open('indeed_info.txt', 'w') as archivo:\n",
    "\n",
    "    for i in range(len(salaries)):\n",
    "        company_name = elements[i].text\n",
    "        salary_info = salaries[i].text.split()\n",
    "        salary = salary_info[0]\n",
    "        #print(f\"{company_name}: {salary} per {periodo.lower()}\")\n",
    "        \n",
    "        archivo.write(company_name + \" \" + salary + \" \" + periodo.lower() + '\\n')\n",
    "\n",
    "sleep(5)  \n",
    "browser.quit()"
   ]
  },
  {
   "cell_type": "code",
   "execution_count": 7,
   "id": "e3dfc51f",
   "metadata": {},
   "outputs": [
    {
     "name": "stdout",
     "output_type": "stream",
     "text": [
      "Escriba el titulo del cargo: hola mundo\n",
      "https://www.indeed.com/career/hola-mundo/salaries\n"
     ]
    }
   ],
   "source": [
    "titulo = input('Escriba el titulo del cargo: ')\n",
    "link = f'https://www.indeed.com/career/{titulo.replace(\" \",\"-\")}/salaries'\n",
    "print(link)"
   ]
  },
  {
   "cell_type": "code",
   "execution_count": 6,
   "id": "5c17dd81",
   "metadata": {},
   "outputs": [
    {
     "name": "stdout",
     "output_type": "stream",
     "text": [
      "hola-mundo\n"
     ]
    }
   ],
   "source": [
    "cadena = \"hola mundo\"\n",
    "cadena_modificada = cadena.replace(\" \", \"-\")\n",
    "print(cadena_modificada)\n"
   ]
  },
  {
   "cell_type": "code",
   "execution_count": 10,
   "id": "eef31b20",
   "metadata": {},
   "outputs": [
    {
     "name": "stdout",
     "output_type": "stream",
     "text": [
      "Texto ingresado: Hola mundo\n"
     ]
    }
   ],
   "source": [
    "import tkinter as tk\n",
    "\n",
    "def capturar_texto():\n",
    "    texto_ingresado = entrada.get()\n",
    "    print(\"Texto ingresado: \" + texto_ingresado)\n",
    "    ventana.destroy()\n",
    "\n",
    "ventana = tk.Tk()\n",
    "ventana.title(\"Captura de Texto\")\n",
    "\n",
    "etiqueta = tk.Label(ventana, text=\"Ingrese un texto:\")\n",
    "etiqueta.pack()\n",
    "\n",
    "entrada = tk.Entry(ventana)\n",
    "entrada.pack()\n",
    "\n",
    "boton_capturar = tk.Button(ventana, text=\"Capturar Texto\", command=capturar_texto)\n",
    "boton_capturar.pack()\n",
    "\n",
    "ventana.mainloop()\n"
   ]
  },
  {
   "cell_type": "code",
   "execution_count": 11,
   "id": "04b3d8ef",
   "metadata": {},
   "outputs": [],
   "source": [
    "import tkinter as tk\n",
    "\n",
    "def capturar_texto():\n",
    "    texto_ingresado = entrada.get()\n",
    "    variable_guardada.set(texto_ingresado)  # Guardar el texto en la variable\n",
    "    ventana.destroy()\n",
    "\n",
    "ventana = tk.Tk()\n",
    "ventana.title(\"Captura de Texto\")\n",
    "\n",
    "etiqueta = tk.Label(ventana, text=\"Ingrese un texto:\")\n",
    "etiqueta.pack()\n",
    "\n",
    "entrada = tk.Entry(ventana)\n",
    "entrada.pack()\n",
    "\n",
    "boton_capturar = tk.Button(ventana, text=\"Capturar Texto\", command=capturar_texto)\n",
    "boton_capturar.pack()\n",
    "\n",
    "variable_guardada = tk.StringVar()  # Variable para guardar el texto\n",
    "etiqueta_resultado = tk.Label(ventana, textvariable=variable_guardada)\n",
    "etiqueta_resultado.pack()\n",
    "\n",
    "ventana.mainloop()\n"
   ]
  },
  {
   "cell_type": "code",
   "execution_count": 12,
   "id": "77875ec6",
   "metadata": {},
   "outputs": [
    {
     "ename": "NameError",
     "evalue": "name 'texto_ingresado' is not defined",
     "output_type": "error",
     "traceback": [
      "\u001b[1;31m---------------------------------------------------------------------------\u001b[0m",
      "\u001b[1;31mNameError\u001b[0m                                 Traceback (most recent call last)",
      "Cell \u001b[1;32mIn[12], line 1\u001b[0m\n\u001b[1;32m----> 1\u001b[0m texto_ingresado\n",
      "\u001b[1;31mNameError\u001b[0m: name 'texto_ingresado' is not defined"
     ]
    }
   ],
   "source": [
    "texto_ingresado"
   ]
  },
  {
   "cell_type": "code",
   "execution_count": 13,
   "id": "3ef0f293",
   "metadata": {},
   "outputs": [
    {
     "name": "stdout",
     "output_type": "stream",
     "text": [
      "Texto guardado fuera de la función: hola mundo\n"
     ]
    }
   ],
   "source": [
    "import tkinter as tk\n",
    "\n",
    "texto_guardado = \"\"  # Variable global para guardar el texto\n",
    "\n",
    "def capturar_texto():\n",
    "    global texto_guardado\n",
    "    texto_ingresado = entrada.get()\n",
    "    texto_guardado = texto_ingresado  # Guardar el texto en la variable global\n",
    "    ventana.destroy()\n",
    "\n",
    "ventana = tk.Tk()\n",
    "ventana.title(\"Captura de Texto\")\n",
    "\n",
    "etiqueta = tk.Label(ventana, text=\"Ingrese un texto:\")\n",
    "etiqueta.pack()\n",
    "\n",
    "entrada = tk.Entry(ventana)\n",
    "entrada.pack()\n",
    "\n",
    "boton_capturar = tk.Button(ventana, text=\"Capturar Texto\", command=capturar_texto)\n",
    "boton_capturar.pack()\n",
    "\n",
    "etiqueta_resultado = tk.Label(ventana, text=\"Texto guardado: \")\n",
    "etiqueta_resultado.pack()\n",
    "\n",
    "ventana.mainloop()\n",
    "\n",
    "# Después de cerrar la ventana, puedes imprimir la variable global\n",
    "print(\"Texto guardado fuera de la función: \" + texto_guardado)\n"
   ]
  },
  {
   "cell_type": "code",
   "execution_count": null,
   "id": "d11f082a",
   "metadata": {},
   "outputs": [],
   "source": []
  }
 ],
 "metadata": {
  "kernelspec": {
   "display_name": "Python 3 (ipykernel)",
   "language": "python",
   "name": "python3"
  },
  "language_info": {
   "codemirror_mode": {
    "name": "ipython",
    "version": 3
   },
   "file_extension": ".py",
   "mimetype": "text/x-python",
   "name": "python",
   "nbconvert_exporter": "python",
   "pygments_lexer": "ipython3",
   "version": "3.11.4"
  }
 },
 "nbformat": 4,
 "nbformat_minor": 5
}
