{
  "nbformat": 4,
  "nbformat_minor": 0,
  "metadata": {
    "colab": {
      "provenance": []
    },
    "kernelspec": {
      "name": "python3",
      "display_name": "Python 3"
    },
    "language_info": {
      "name": "python"
    }
  },
  "cells": [
    {
      "cell_type": "markdown",
      "source": [
        "# Imputacion con KNN"
      ],
      "metadata": {
        "id": "YBDGEBAAsRdh"
      }
    },
    {
      "cell_type": "code",
      "source": [
        "import pandas as pd\n",
        "from sklearn.impute import KNNImputer\n",
        "\n",
        "# Crear un DataFrame de ejemplo\n",
        "data = {\n",
        "    'feature1': [1.1, 2.2, 3.3, 4.4, 5.5],\n",
        "    'feature2': [2.2, 3.3, 4.4, 5.5, 6.6],\n",
        "    'columna_faltante': [1.1, None, 3.3, None, 5.5]\n",
        "}\n",
        "\n",
        "df = pd.DataFrame(data)\n",
        "\n",
        "# Crear un imputador KNN\n",
        "imputer = KNNImputer(n_neighbors=2)  # Especifica el número de vecinos cercanos\n",
        "\n",
        "# Aplicar la imputación a la columna con valores faltantes\n",
        "df['columna_faltante'] = imputer.fit_transform(df[['feature1', 'feature2', 'columna_faltante']])\n",
        "\n",
        "# Ahora, la columna 'columna_faltante' ha sido imputada utilizando KNN\n",
        "print(df)"
      ],
      "metadata": {
        "colab": {
          "base_uri": "https://localhost:8080/"
        },
        "id": "gqq6XSLgsZ06",
        "outputId": "f0507b47-7ed3-4764-f828-60cdae718296"
      },
      "execution_count": 5,
      "outputs": [
        {
          "output_type": "stream",
          "name": "stdout",
          "text": [
            "   feature1  feature2  columna_faltante\n",
            "0       1.1       2.2               1.1\n",
            "1       2.2       3.3               2.2\n",
            "2       3.3       4.4               3.3\n",
            "3       4.4       5.5               4.4\n",
            "4       5.5       6.6               5.5\n"
          ]
        }
      ]
    },
    {
      "cell_type": "markdown",
      "source": [
        "# Imputacion con la media"
      ],
      "metadata": {
        "id": "IBuUJAuMse5h"
      }
    },
    {
      "cell_type": "code",
      "source": [
        "import pandas as pd\n",
        "\n",
        "# Crear un DataFrame de ejemplo\n",
        "data = {\n",
        "    'feature1': [1.1, 2.2, 3.3, 4.4, 5.5],\n",
        "    'feature2': [2.2, 3.3, 4.4, 5.5, 6.6],\n",
        "    'columna_faltante': [1.1, None, 3.3, None, 5.5]\n",
        "}\n",
        "\n",
        "df = pd.DataFrame(data)\n",
        "\n",
        "# Calcular la media de la columna \"columna_faltante\"\n",
        "media_columna_faltante = df['columna_faltante'].mean()\n",
        "\n",
        "# Imputar los valores faltantes con la media\n",
        "df['columna_faltante'].fillna(media_columna_faltante, inplace=True)\n",
        "\n",
        "# Ahora, la columna \"columna_faltante\" ha sido imputada utilizando la media\n",
        "print(df)\n"
      ],
      "metadata": {
        "colab": {
          "base_uri": "https://localhost:8080/"
        },
        "id": "BJFZZRDaq-xN",
        "outputId": "e51edc5e-3924-4a31-fa48-584df9f2c545"
      },
      "execution_count": 2,
      "outputs": [
        {
          "output_type": "stream",
          "name": "stdout",
          "text": [
            "   feature1  feature2  columna_faltante\n",
            "0       1.1       2.2               1.1\n",
            "1       2.2       3.3               3.3\n",
            "2       3.3       4.4               3.3\n",
            "3       4.4       5.5               3.3\n",
            "4       5.5       6.6               5.5\n"
          ]
        }
      ]
    },
    {
      "cell_type": "markdown",
      "source": [
        "# Imputacion con la moda"
      ],
      "metadata": {
        "id": "EN1nIvZ4smxg"
      }
    },
    {
      "cell_type": "code",
      "source": [
        "import pandas as pd\n",
        "\n",
        "# Crear un DataFrame de ejemplo\n",
        "data = {\n",
        "    'feature1': ['A', 'B', 'C', 'A', 'B'],\n",
        "    'feature2': ['X', 'Y', 'X', 'Y', 'Z'],\n",
        "    'columna_categorica': ['A', 'B', None, 'B', None]\n",
        "}\n",
        "\n",
        "df = pd.DataFrame(data)\n",
        "\n",
        "# Calcular la moda de la columna \"columna_categorica\"\n",
        "moda_columna_categorica = df['columna_categorica'].mode()[0]  # Usamos [0] para obtener el primer valor de moda si hay múltiples modas\n",
        "\n",
        "# Imputar los valores faltantes con la moda\n",
        "df['columna_categorica'].fillna(moda_columna_categorica, inplace=True)\n",
        "\n",
        "# Ahora, la columna \"columna_categorica\" ha sido imputada utilizando la moda\n",
        "print(df)\n"
      ],
      "metadata": {
        "colab": {
          "base_uri": "https://localhost:8080/"
        },
        "id": "GCvwrE1BrhvC",
        "outputId": "ed1e370e-81b4-48dd-f9e7-9ec3f5c49033"
      },
      "execution_count": 3,
      "outputs": [
        {
          "output_type": "stream",
          "name": "stdout",
          "text": [
            "  feature1 feature2 columna_categorica\n",
            "0        A        X                  A\n",
            "1        B        Y                  B\n",
            "2        C        X                  B\n",
            "3        A        Y                  B\n",
            "4        B        Z                  B\n"
          ]
        }
      ]
    },
    {
      "cell_type": "markdown",
      "source": [
        "# Eliminar el registro"
      ],
      "metadata": {
        "id": "aP0OC1ivsudr"
      }
    },
    {
      "cell_type": "code",
      "source": [
        "import pandas as pd\n",
        "\n",
        "# Crear un DataFrame de ejemplo con valores faltantes\n",
        "data = {\n",
        "    'feature1': [1.1, 2.2, None, 4.4, 5.5],\n",
        "    'feature2': [2.2, None, 4.4, 5.5, 6.6],\n",
        "    'columna_categorica': ['A', 'B', 'C', None, 'A']\n",
        "}\n",
        "\n",
        "df = pd.DataFrame(data)\n",
        "\n",
        "# Eliminar filas con valores faltantes\n",
        "df = df.dropna()\n",
        "\n",
        "# Ahora, df contendrá solo las filas que no tienen valores faltantes\n",
        "print(df)\n"
      ],
      "metadata": {
        "colab": {
          "base_uri": "https://localhost:8080/"
        },
        "id": "ttK4hm9pr_F2",
        "outputId": "cd279133-fbdc-4d7c-a470-3e85862468e0"
      },
      "execution_count": 4,
      "outputs": [
        {
          "output_type": "stream",
          "name": "stdout",
          "text": [
            "   feature1  feature2 columna_categorica\n",
            "0       1.1       2.2                  A\n",
            "4       5.5       6.6                  A\n"
          ]
        }
      ]
    },
    {
      "cell_type": "code",
      "source": [],
      "metadata": {
        "id": "IMoqCTt0sPj6"
      },
      "execution_count": null,
      "outputs": []
    }
  ]
}