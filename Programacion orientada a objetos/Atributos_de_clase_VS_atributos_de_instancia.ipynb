{
  "nbformat": 4,
  "nbformat_minor": 0,
  "metadata": {
    "colab": {
      "provenance": []
    },
    "kernelspec": {
      "name": "python3",
      "display_name": "Python 3"
    },
    "language_info": {
      "name": "python"
    }
  },
  "cells": [
    {
      "cell_type": "markdown",
      "source": [
        "# **Atributos de clase VS atributos de objetos**\n",
        "Imaginemos que deseamos crear una serie de objetos (carros) cada carro creado debe tener un id que corresponde al k-esimo carro creado. Delegar esta responsabilidad a un programador puede llevar a errores de codificación, por lo que una buena práctica puede ser crear un atributo de clase, en este caso crearemos un atributo de clase compartido entre las instancias llamado `folio`, además no daremos tanta libertad al usuario de personalizar el carro con el color que quiera, por el contrario, restringiremos los colores permitiendo además que el color que escriba sea válido, en caso de que no se agregará el primer color de la tupla por defecto."
      ],
      "metadata": {
        "id": "ZAPdN-etC0Ip"
      }
    },
    {
      "cell_type": "code",
      "source": [
        "class Vehiculo:\n",
        "\n",
        "  folio = 0\n",
        "  # En mayusculas es una buena practica para anunciar que el atributo es constante\n",
        "  COLORES = (\"ROJO\", \"BLANCO\", \"VERDE\")\n",
        "\n",
        "  def __init__(self, color):\n",
        "    Vehiculo.folio += 1\n",
        "    self.serie = Vehiculo.folio\n",
        "    self.set_color(color)\n",
        "\n",
        "  def __str__(self):\n",
        "    return str(self.serie) + \" \" + self.color\n",
        "\n",
        "  # Los seters son métodos que validan que los atributos adopten valores válidos\n",
        "  def set_color(self,color):\n",
        "    # upper convierte todo a mayusculas, strip elimina espacios al inicio o al final\n",
        "    color = color.upper().strip()\n",
        "    if color in Vehiculo.COLORES:\n",
        "      self.color = color\n",
        "\n",
        "    else:\n",
        "      self.color = Vehiculo.COLORES[0] # default"
      ],
      "metadata": {
        "id": "8885uANYC0gi"
      },
      "execution_count": 30,
      "outputs": []
    },
    {
      "cell_type": "code",
      "source": [
        "vehiculo_a = Vehiculo(\"azul\")\n",
        "vehiculo_b = Vehiculo(\"verde\")"
      ],
      "metadata": {
        "id": "IM1KNUVN-BK9"
      },
      "execution_count": 31,
      "outputs": []
    },
    {
      "cell_type": "code",
      "source": [
        "print(vehiculo_a)\n",
        "print(vehiculo_b)"
      ],
      "metadata": {
        "colab": {
          "base_uri": "https://localhost:8080/"
        },
        "id": "9twMeQrO-H8B",
        "outputId": "41257e74-e049-49bd-f8df-c5acf410b2c4"
      },
      "execution_count": 32,
      "outputs": [
        {
          "output_type": "stream",
          "name": "stdout",
          "text": [
            "1 ROJO\n",
            "2 VERDE\n"
          ]
        }
      ]
    },
    {
      "cell_type": "markdown",
      "source": [
        "Podemos acceder al folio de clase llamando directamente la clase"
      ],
      "metadata": {
        "id": "AshVivIgEIMR"
      }
    },
    {
      "cell_type": "code",
      "source": [
        "Vehiculo.folio"
      ],
      "metadata": {
        "colab": {
          "base_uri": "https://localhost:8080/"
        },
        "id": "XrOoldoE-PSk",
        "outputId": "75c94854-c2f6-4b82-cb77-ef352883c0af"
      },
      "execution_count": 19,
      "outputs": [
        {
          "output_type": "execute_result",
          "data": {
            "text/plain": [
              "2"
            ]
          },
          "metadata": {},
          "execution_count": 19
        }
      ]
    },
    {
      "cell_type": "code",
      "source": [
        "vehiculo_c = Vehiculo(\"  BlanCo\")"
      ],
      "metadata": {
        "id": "t0u3JS9z_P4S"
      },
      "execution_count": 33,
      "outputs": []
    },
    {
      "cell_type": "code",
      "source": [
        "print(vehiculo_c)"
      ],
      "metadata": {
        "colab": {
          "base_uri": "https://localhost:8080/"
        },
        "id": "nHuV85KoEaaZ",
        "outputId": "a02ef6d2-b719-4d60-c5dc-87f2d3ce2f51"
      },
      "execution_count": 34,
      "outputs": [
        {
          "output_type": "stream",
          "name": "stdout",
          "text": [
            "3 BLANCO\n"
          ]
        }
      ]
    },
    {
      "cell_type": "code",
      "source": [
        "Vehiculo.folio"
      ],
      "metadata": {
        "colab": {
          "base_uri": "https://localhost:8080/"
        },
        "id": "YegHpaXv_h2k",
        "outputId": "f6704615-df4b-462d-a433-52ddf3132f56"
      },
      "execution_count": 35,
      "outputs": [
        {
          "output_type": "execute_result",
          "data": {
            "text/plain": [
              "3"
            ]
          },
          "metadata": {},
          "execution_count": 35
        }
      ]
    },
    {
      "cell_type": "markdown",
      "source": [
        "El valor de folio para los tres vehiculos es el mismo dado que este es un atributo de clase compartido entre todas las instancias"
      ],
      "metadata": {
        "id": "YOlZhJAuALGA"
      }
    },
    {
      "cell_type": "code",
      "source": [
        "print(vehiculo_a.folio)\n",
        "print(vehiculo_b.folio)\n",
        "print(vehiculo_c.folio)"
      ],
      "metadata": {
        "colab": {
          "base_uri": "https://localhost:8080/"
        },
        "id": "xSUcD4Wr_jlq",
        "outputId": "4c9c7103-92a4-4f8e-917f-7e8beb4c6cc3"
      },
      "execution_count": 36,
      "outputs": [
        {
          "output_type": "stream",
          "name": "stdout",
          "text": [
            "3\n",
            "3\n",
            "3\n"
          ]
        }
      ]
    },
    {
      "cell_type": "markdown",
      "source": [
        "Sin embargo, estamos usando folio para crear un atributo único de cada instancia y el atributo serie es único, veamos esto"
      ],
      "metadata": {
        "id": "yQeZGO-6AWhM"
      }
    },
    {
      "cell_type": "code",
      "source": [
        "print(vehiculo_a.serie)\n",
        "print(vehiculo_b.serie)\n",
        "print(vehiculo_c.serie)"
      ],
      "metadata": {
        "colab": {
          "base_uri": "https://localhost:8080/"
        },
        "id": "rkd5BuDK_6Rj",
        "outputId": "91ca22e6-917a-4b31-874f-80f073cafca3"
      },
      "execution_count": 37,
      "outputs": [
        {
          "output_type": "stream",
          "name": "stdout",
          "text": [
            "1\n",
            "2\n",
            "3\n"
          ]
        }
      ]
    }
  ]
}