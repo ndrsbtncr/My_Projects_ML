{
  "nbformat": 4,
  "nbformat_minor": 0,
  "metadata": {
    "colab": {
      "provenance": []
    },
    "kernelspec": {
      "name": "python3",
      "display_name": "Python 3"
    },
    "language_info": {
      "name": "python"
    }
  },
  "cells": [
    {
      "cell_type": "markdown",
      "source": [
        "# **Estudiemos programación orientada a objetos**\n",
        "\n",
        "Supongamos que tenemos un casino, en este tenemos diferentes tragamonedas, cada uno puede tener unas caracteristicas diferentes.\n",
        "\n",
        "`__init__` python lo reconoce como el constructor\n",
        "\n",
        "`self` todos los métodos de una clase deben tener `self` al inicio, a este se le conoce como el alma y nos permite acceder a los valores de los atributos del objeto\n",
        "\n",
        "`self.id` es un atributo, `id` es el parámetro\n",
        "\n",
        "Las instancias de las clases son comunmente llamadas objetos\n",
        "\n",
        "Como buena práctica de programación, los nombres de las clases se inicializan con letra mayúscula\n",
        "\n",
        "cuando utilizo `def` dentro de una clase ya no estoy definiendo una función, ahora el tipo de definición es conocido como método"
      ],
      "metadata": {
        "id": "iT7JUmJidGVM"
      }
    },
    {
      "cell_type": "code",
      "source": [
        "from random import randint\n",
        "class Tragamonedas:\n",
        "  def __init__(self, id, premio):\n",
        "    #Creamos los atributos\n",
        "    self.id=id\n",
        "    self.premio = premio\n",
        "    # Los atributos no necesariamente deben ser pasados como argumentos\n",
        "    self.monedas = 0\n",
        "    self.jackpots = 0\n",
        "\n",
        "# Podemos sobrecargar nuestra clase\n",
        "\n",
        "# El método __str__ permite personalizar el mensaje por defecto con print()\n",
        "  def __str__(self):\n",
        "    return \"Id: \" + str(self.id) + \" - Premio: \" + str(self.premio)\n",
        "\n",
        "# El método __eq__ permite comparar en este caso dos tragamonedas en función de sus monedas\n",
        "  def __eq__(self,otro):\n",
        "    return self.monedas == otro.monedas\n",
        "\n",
        "# El método __lt__ es el comparador de menor que\n",
        "  def __lt__(self,otro):\n",
        "    return self.monedas < otro.monedas\n",
        "\n",
        "# El método __gt__ es el comparador de mayor que\n",
        "  def __lt__(self,otro):\n",
        "    return self.monedas > otro.monedas\n",
        "\n",
        "  # Creemos un nuevo metodo\n",
        "  def jugar(self):\n",
        "    self.monedas +=1\n",
        "    numeros = randint(0,9),randint(0,9),randint(0,9)\n",
        "\n",
        "    if numeros[0] == numeros [1] == numeros[2]:\n",
        "      self.jackpots += 1\n",
        "      mensaje = \"Felicidades !!! Ganaste %0.2f\" % self.premio\n",
        "\n",
        "    else:\n",
        "      mensaje = \"Mejor suerte para la próxima!\"\n",
        "    return numeros, mensaje"
      ],
      "metadata": {
        "id": "G0GSPP15dZmh"
      },
      "execution_count": 66,
      "outputs": []
    },
    {
      "cell_type": "code",
      "source": [
        "# Creamos dos objetos o instancias nuevas\n",
        "tragamonedas_a = Tragamonedas(1,1000)\n",
        "tragamonedas_b = Tragamonedas(1,700)"
      ],
      "metadata": {
        "id": "uuT6pmMji7lm"
      },
      "execution_count": 67,
      "outputs": []
    },
    {
      "cell_type": "code",
      "source": [
        "# Podemos acceder a sus atributos\n",
        "tragamonedas_a.monedas, tragamonedas_b.monedas"
      ],
      "metadata": {
        "colab": {
          "base_uri": "https://localhost:8080/"
        },
        "id": "aTKYVr83o8jM",
        "outputId": "9d0932bf-129c-4018-b9c0-eba5854faf86"
      },
      "execution_count": 68,
      "outputs": [
        {
          "output_type": "execute_result",
          "data": {
            "text/plain": [
              "(0, 0)"
            ]
          },
          "metadata": {},
          "execution_count": 68
        }
      ]
    },
    {
      "cell_type": "code",
      "source": [
        "# También podemos acceder a sus métodos\n",
        "tragamonedas_a.jugar(), tragamonedas_b.jugar()"
      ],
      "metadata": {
        "colab": {
          "base_uri": "https://localhost:8080/"
        },
        "id": "uPBYj8VgpFGn",
        "outputId": "0d6ab7ca-f233-4bd2-c47d-88a5fb04459a"
      },
      "execution_count": 69,
      "outputs": [
        {
          "output_type": "execute_result",
          "data": {
            "text/plain": [
              "(((4, 3, 6), 'Mejor suerte para la próxima!'),\n",
              " ((5, 7, 7), 'Mejor suerte para la próxima!'))"
            ]
          },
          "metadata": {},
          "execution_count": 69
        }
      ]
    },
    {
      "cell_type": "code",
      "source": [
        "# vemos como cambiaron sus atributos al llamar el método jugar()\n",
        "tragamonedas_a.monedas, tragamonedas_b.monedas"
      ],
      "metadata": {
        "colab": {
          "base_uri": "https://localhost:8080/"
        },
        "id": "ZnRLYXv2pJFH",
        "outputId": "839a078b-7f4e-4bca-f17f-d4c0ab1f1134"
      },
      "execution_count": 70,
      "outputs": [
        {
          "output_type": "execute_result",
          "data": {
            "text/plain": [
              "(1, 1)"
            ]
          },
          "metadata": {},
          "execution_count": 70
        }
      ]
    },
    {
      "cell_type": "code",
      "source": [
        "# Podemos comparar los tragamonedas, en este caso == llama el método __eq__ de la sobrecarga\n",
        "tragamonedas_a == tragamonedas_b"
      ],
      "metadata": {
        "colab": {
          "base_uri": "https://localhost:8080/"
        },
        "id": "sOZBYlvysDm3",
        "outputId": "ebdadd96-138a-48b9-bcf7-213df9ac85f7"
      },
      "execution_count": 71,
      "outputs": [
        {
          "output_type": "execute_result",
          "data": {
            "text/plain": [
              "True"
            ]
          },
          "metadata": {},
          "execution_count": 71
        }
      ]
    },
    {
      "cell_type": "code",
      "source": [
        "# Si lo deseamos podemos cambiar un atributo de una de las instancias\n",
        "tragamonedas_a.monedas=5"
      ],
      "metadata": {
        "id": "fIkcG1q8sWGR"
      },
      "execution_count": 72,
      "outputs": []
    },
    {
      "cell_type": "code",
      "source": [
        "# Ahora veamos nuevamente el atributo monedas\n",
        "tragamonedas_a.monedas, tragamonedas_b.monedas"
      ],
      "metadata": {
        "colab": {
          "base_uri": "https://localhost:8080/"
        },
        "id": "MaarllPwsibz",
        "outputId": "b702cdeb-4f72-457e-b0e3-55f838a2fcc8"
      },
      "execution_count": 73,
      "outputs": [
        {
          "output_type": "execute_result",
          "data": {
            "text/plain": [
              "(5, 1)"
            ]
          },
          "metadata": {},
          "execution_count": 73
        }
      ]
    },
    {
      "cell_type": "code",
      "source": [
        "# Comparemos nuevamente las instancias\n",
        "tragamonedas_a == tragamonedas_b"
      ],
      "metadata": {
        "colab": {
          "base_uri": "https://localhost:8080/"
        },
        "id": "JWcDE1ivsqpT",
        "outputId": "686a9c04-1df9-48dc-9f4c-e42e3eb177bd"
      },
      "execution_count": 74,
      "outputs": [
        {
          "output_type": "execute_result",
          "data": {
            "text/plain": [
              "False"
            ]
          },
          "metadata": {},
          "execution_count": 74
        }
      ]
    },
    {
      "cell_type": "code",
      "source": [
        "# Lo que se hizo en la linea de código anterior es equivalente a lo siguiente\n",
        "tragamonedas_a.__eq__(tragamonedas_b)"
      ],
      "metadata": {
        "colab": {
          "base_uri": "https://localhost:8080/"
        },
        "id": "Atc9tkWwpLJK",
        "outputId": "a8e1ea17-c921-4d02-d95d-6303b9f3db93"
      },
      "execution_count": 75,
      "outputs": [
        {
          "output_type": "execute_result",
          "data": {
            "text/plain": [
              "False"
            ]
          },
          "metadata": {},
          "execution_count": 75
        }
      ]
    },
    {
      "cell_type": "code",
      "source": [
        "# análogamente podemos llamar la sobrecarga __str__\n",
        "print(tragamonedas_a)\n",
        "tragamonedas_a.__str__()"
      ],
      "metadata": {
        "colab": {
          "base_uri": "https://localhost:8080/",
          "height": 53
        },
        "id": "ZL96cuJLtTQa",
        "outputId": "5a98924e-97fa-4f4f-9254-95595b953697"
      },
      "execution_count": 76,
      "outputs": [
        {
          "output_type": "stream",
          "name": "stdout",
          "text": [
            "Id: 1 - Premio: 1000\n"
          ]
        },
        {
          "output_type": "execute_result",
          "data": {
            "text/plain": [
              "'Id: 1 - Premio: 1000'"
            ],
            "application/vnd.google.colaboratory.intrinsic+json": {
              "type": "string"
            }
          },
          "metadata": {},
          "execution_count": 76
        }
      ]
    },
    {
      "cell_type": "code",
      "source": [
        "# Este sería el resultado del print anterior si no se sobrecarga la clase, si no cobrecargo con el __eq__ la comparación se hace con las posiciones en memoria de los objetos\n",
        "tragamonedas_a"
      ],
      "metadata": {
        "colab": {
          "base_uri": "https://localhost:8080/"
        },
        "id": "FWtnC5MKpVS8",
        "outputId": "6895b01a-e438-476b-c285-a91a2168105a"
      },
      "execution_count": 77,
      "outputs": [
        {
          "output_type": "execute_result",
          "data": {
            "text/plain": [
              "<__main__.Tragamonedas at 0x7b700687f490>"
            ]
          },
          "metadata": {},
          "execution_count": 77
        }
      ]
    }
  ]
}
