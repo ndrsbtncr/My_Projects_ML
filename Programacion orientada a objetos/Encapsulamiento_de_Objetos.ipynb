{
  "nbformat": 4,
  "nbformat_minor": 0,
  "metadata": {
    "colab": {
      "provenance": []
    },
    "kernelspec": {
      "name": "python3",
      "display_name": "Python 3"
    },
    "language_info": {
      "name": "python"
    }
  },
  "cells": [
    {
      "cell_type": "markdown",
      "source": [
        "# **Protección de métodos y atributos**\n",
        "\n",
        "No todos los atributos deberian ser accedidos y modificados por un usuario, por ejemplo en una cuenta bancaria de usuario, la dirección puede ser un dato que se pueda modificar pero definitivamente el balance o total de dinero en la cuenta no debe ser un atributo que pueda ser modificado por el usuario. Tambien de la misma manera no debe ser el total del dinero (balance) público para otros usuarios, esto puede traer problemas\n",
        "\n",
        "`__balance` al poner dos subguiones Python entiende que este atributo es privado, también aplica para crear métodos privados, por ejemplo, si quisiera definir el método `retirar` de forma privada, sería `__retirar`"
      ],
      "metadata": {
        "id": "lUa4MgJd1yJ7"
      }
    },
    {
      "cell_type": "code",
      "source": [
        "class Cuenta:\n",
        "  def __init__(self, nombre, direccion):\n",
        "    self.nombre = nombre\n",
        "    self.direccion = direccion\n",
        "    self.__balance = 0.00\n",
        "\n",
        "  def retirar(self, monto):\n",
        "    if self.__balance >= monto:\n",
        "      self.__balance -= monto\n",
        "\n",
        "  def depositar(self, monto):\n",
        "    if  monto > 0:\n",
        "      self.__balance += monto"
      ],
      "metadata": {
        "id": "2FjOVDwu17me"
      },
      "execution_count": 28,
      "outputs": []
    },
    {
      "cell_type": "code",
      "source": [
        "cuenta = Cuenta(\"Juan Perez\", \"Copacabana\")"
      ],
      "metadata": {
        "id": "vnEFhWwE2VdN"
      },
      "execution_count": 29,
      "outputs": []
    },
    {
      "cell_type": "code",
      "source": [
        "cuenta.depositar(100)"
      ],
      "metadata": {
        "id": "Lu8sRT6E2eWd"
      },
      "execution_count": 30,
      "outputs": []
    },
    {
      "cell_type": "code",
      "source": [
        "cuenta.retirar(10)"
      ],
      "metadata": {
        "id": "CqkLvFVe5NNX"
      },
      "execution_count": 31,
      "outputs": []
    },
    {
      "cell_type": "code",
      "source": [
        "cuenta.direccion"
      ],
      "metadata": {
        "colab": {
          "base_uri": "https://localhost:8080/",
          "height": 36
        },
        "id": "z-zWfvi62hm8",
        "outputId": "0f6b3031-991c-4184-d4df-a3bc0857196a"
      },
      "execution_count": 32,
      "outputs": [
        {
          "output_type": "execute_result",
          "data": {
            "text/plain": [
              "'Copacabana'"
            ],
            "application/vnd.google.colaboratory.intrinsic+json": {
              "type": "string"
            }
          },
          "metadata": {},
          "execution_count": 32
        }
      ]
    },
    {
      "cell_type": "code",
      "source": [
        "cuenta__balance"
      ],
      "metadata": {
        "colab": {
          "base_uri": "https://localhost:8080/",
          "height": 176
        },
        "id": "yidu6RU92jZ7",
        "outputId": "fb2d5c46-5020-4481-c5fe-0d3ea86bbefa"
      },
      "execution_count": 33,
      "outputs": [
        {
          "output_type": "error",
          "ename": "NameError",
          "evalue": "ignored",
          "traceback": [
            "\u001b[0;31m---------------------------------------------------------------------------\u001b[0m",
            "\u001b[0;31mNameError\u001b[0m                                 Traceback (most recent call last)",
            "\u001b[0;32m<ipython-input-33-31bd550720ca>\u001b[0m in \u001b[0;36m<cell line: 1>\u001b[0;34m()\u001b[0m\n\u001b[0;32m----> 1\u001b[0;31m \u001b[0mcuenta__balance\u001b[0m\u001b[0;34m\u001b[0m\u001b[0;34m\u001b[0m\u001b[0m\n\u001b[0m",
            "\u001b[0;31mNameError\u001b[0m: name 'cuenta__balance' is not defined"
          ]
        }
      ]
    },
    {
      "cell_type": "markdown",
      "source": [
        "Parece que no se puede acceder al balance, sin embargo Python ofrece una \"trampa\" para acceder a este atributo, esto ha sido un tema polémico para el lenguaje dado que en otros lenguajes sí se puede definir el atributo de forma segura."
      ],
      "metadata": {
        "id": "9zhPwZ_78YEp"
      }
    },
    {
      "cell_type": "code",
      "source": [
        "cuenta._Cuenta__balance"
      ],
      "metadata": {
        "colab": {
          "base_uri": "https://localhost:8080/"
        },
        "id": "fa2XTO9D2myP",
        "outputId": "a39ae9f7-4968-4521-f03c-383a7069979c"
      },
      "execution_count": 34,
      "outputs": [
        {
          "output_type": "execute_result",
          "data": {
            "text/plain": [
              "90.0"
            ]
          },
          "metadata": {},
          "execution_count": 34
        }
      ]
    }
  ]
}