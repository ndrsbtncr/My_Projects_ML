{
  "nbformat": 4,
  "nbformat_minor": 0,
  "metadata": {
    "colab": {
      "provenance": []
    },
    "kernelspec": {
      "name": "python3",
      "display_name": "Python 3"
    },
    "language_info": {
      "name": "python"
    }
  },
  "cells": [
    {
      "cell_type": "markdown",
      "source": [
        "# **Herencia**"
      ],
      "metadata": {
        "id": "C4ysO6-MDuIX"
      }
    },
    {
      "cell_type": "markdown",
      "source": [
        "La herencia permite abstraer todas caracteristicas y métodos de objetos dentro de un dominio, nos ahorra lineas y hace que el código sea más mantenible."
      ],
      "metadata": {
        "id": "b-1JeBOz6gPa"
      }
    },
    {
      "cell_type": "code",
      "source": [
        "class Producto: # Clase padre\n",
        "\n",
        "  def __init__(self, id, descripcion, costo):\n",
        "    self.id = id\n",
        "    self.descripcion = descripcion\n",
        "    self.costo = costo\n",
        "\n",
        "  def crear_etiqueta(self):\n",
        "    return \"%s \\n %s \\n %0.2f \\n\" % (self.id,\n",
        "                                     self.descripcion,\n",
        "                                     self.costo)\n",
        "\n",
        "class Perecedero(Producto): #Perecedero es la clase hija\n",
        "\n",
        "  def __init__(self, id, descripcion, costo, fecha_cad):\n",
        "    # No tiene sentido redefinir los atributos, mejor accedemos a ellos en la clase padre con el método super()\n",
        "    super().__init__(id,descripcion,costo)\n",
        "    self.fecha_cad = fecha_cad\n",
        "\n",
        "    # Sobrecarga del metodo crear etiqueta\n",
        "  def crear_etiqueta(self):\n",
        "    return super().crear_etiqueta() + \"%s \\n\" % self.fecha_cad\n",
        "\n",
        "\n",
        "class Electronico(Producto):\n",
        "\n",
        "    def __init__(self, id, descripcion, costo, marca):\n",
        "      super().__init__(id,descripcion,costo)\n",
        "      self.marca = marca"
      ],
      "metadata": {
        "id": "RJnyOXGG6hpl"
      },
      "execution_count": 17,
      "outputs": []
    },
    {
      "cell_type": "code",
      "source": [
        "pro = Producto(\"g\", \"Generico\", 100)\n",
        "per = Perecedero(\"p\", \"Jitomate\",200,\"01/01/2022\")\n",
        "ele = Electronico(\"e\",\"Lavadora\", 300, \"Sony\")"
      ],
      "metadata": {
        "colab": {
          "base_uri": "https://localhost:8080/"
        },
        "id": "B8zfN2jI75VS",
        "outputId": "d6dab60e-8abe-48d0-81fe-fb1b1bcf0b3a"
      },
      "execution_count": 20,
      "outputs": [
        {
          "output_type": "stream",
          "name": "stdout",
          "text": [
            "g \n",
            " Generico \n",
            " 100.00 \n",
            "\n",
            "p \n",
            " Jitomate \n",
            " 200.00 \n",
            "01/01/2022 \n",
            "\n",
            "e \n",
            " Lavadora \n",
            " 300.00 \n",
            "\n"
          ]
        }
      ]
    },
    {
      "cell_type": "code",
      "source": [
        "print(pro.crear_etiqueta())\n",
        "print(per.crear_etiqueta())\n",
        "print(ele.crear_etiqueta())"
      ],
      "metadata": {
        "colab": {
          "base_uri": "https://localhost:8080/"
        },
        "id": "WSqjSdp78Ozq",
        "outputId": "bd356a6e-aece-49db-931c-b09d5f1023ed"
      },
      "execution_count": 19,
      "outputs": [
        {
          "output_type": "stream",
          "name": "stdout",
          "text": [
            "g \n",
            " Generico \n",
            " 100.00 \n",
            "\n",
            "p \n",
            " Jitomate \n",
            " 200.00 \n",
            "01/01/2022 \n",
            "\n",
            "e \n",
            " Lavadora \n",
            " 300.00 \n",
            "\n"
          ]
        }
      ]
    },
    {
      "cell_type": "code",
      "source": [
        "per.id"
      ],
      "metadata": {
        "colab": {
          "base_uri": "https://localhost:8080/",
          "height": 35
        },
        "id": "4vdOmaZNAT3u",
        "outputId": "7c88d03c-c46b-4cbf-97e4-ec92e64ab5c0"
      },
      "execution_count": 12,
      "outputs": [
        {
          "output_type": "execute_result",
          "data": {
            "text/plain": [
              "'p'"
            ],
            "application/vnd.google.colaboratory.intrinsic+json": {
              "type": "string"
            }
          },
          "metadata": {},
          "execution_count": 12
        }
      ]
    },
    {
      "cell_type": "markdown",
      "source": [
        "# **Polimorfismo**"
      ],
      "metadata": {
        "id": "hGd8K4emD4_C"
      }
    },
    {
      "cell_type": "markdown",
      "source": [
        "Polimorfismo es la capacidad de un objeto de comportarse o adoptar diferentes formas, a nivel técnico consiste en proveer una sola interface para acceder a diferentes métodos o atributos"
      ],
      "metadata": {
        "id": "_aWKSOvHBqPg"
      }
    },
    {
      "cell_type": "code",
      "source": [
        "objetos = (pro, per, ele)\n",
        "\n",
        "for objeto in objetos:\n",
        "  print(objeto.crear_etiqueta())"
      ],
      "metadata": {
        "colab": {
          "base_uri": "https://localhost:8080/"
        },
        "id": "FTe-4TiaDlyZ",
        "outputId": "ce52b36a-bfa1-4825-ae75-d8ac19828ce1"
      },
      "execution_count": 24,
      "outputs": [
        {
          "output_type": "stream",
          "name": "stdout",
          "text": [
            "g \n",
            " Generico \n",
            " 100.00 \n",
            "\n",
            "p \n",
            " Jitomate \n",
            " 200.00 \n",
            "01/01/2022 \n",
            "\n",
            "e \n",
            " Lavadora \n",
            " 300.00 \n",
            "\n"
          ]
        }
      ]
    },
    {
      "cell_type": "code",
      "source": [
        "isinstance(pro,Producto)"
      ],
      "metadata": {
        "colab": {
          "base_uri": "https://localhost:8080/"
        },
        "id": "bmifUvsmByz4",
        "outputId": "536e63e2-bc41-48c7-f9fb-8264fc4b1adb"
      },
      "execution_count": 21,
      "outputs": [
        {
          "output_type": "execute_result",
          "data": {
            "text/plain": [
              "True"
            ]
          },
          "metadata": {},
          "execution_count": 21
        }
      ]
    },
    {
      "cell_type": "code",
      "source": [
        "isinstance(pro, Electronico)"
      ],
      "metadata": {
        "colab": {
          "base_uri": "https://localhost:8080/"
        },
        "id": "i4xPJ_6GC1Jz",
        "outputId": "188c7ad5-6816-4364-dd46-e0440080ef79"
      },
      "execution_count": 22,
      "outputs": [
        {
          "output_type": "execute_result",
          "data": {
            "text/plain": [
              "False"
            ]
          },
          "metadata": {},
          "execution_count": 22
        }
      ]
    },
    {
      "cell_type": "code",
      "source": [
        "isinstance(per, Perecedero)"
      ],
      "metadata": {
        "colab": {
          "base_uri": "https://localhost:8080/"
        },
        "id": "O7XW4awYDAuf",
        "outputId": "1929f952-b829-46f2-ee9e-5b118bd385ee"
      },
      "execution_count": 23,
      "outputs": [
        {
          "output_type": "execute_result",
          "data": {
            "text/plain": [
              "True"
            ]
          },
          "metadata": {},
          "execution_count": 23
        }
      ]
    }
  ]
}