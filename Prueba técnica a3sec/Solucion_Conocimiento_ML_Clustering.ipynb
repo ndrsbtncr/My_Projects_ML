{
  "nbformat": 4,
  "nbformat_minor": 0,
  "metadata": {
    "colab": {
      "provenance": []
    },
    "kernelspec": {
      "name": "python3",
      "display_name": "Python 3"
    },
    "language_info": {
      "name": "python"
    }
  },
  "cells": [
    {
      "cell_type": "markdown",
      "source": [
        "**Conociento ML**\n",
        "\n",
        "2. **Clustering:** Para esta sección se usará el archivo `data_eda_clustering.csv` que contiene datos de vulnerabilidades comunes de diferentes sistemas operativos.\n",
        "\n",
        "    **Información del dataset**\n",
        "    - 1 Variables\n",
        "    - mod_date\n",
        "    - pub_date\n",
        "    - cvss\n",
        "    - cwe_code\n",
        "    - cwe_name\n",
        "    - summary\n",
        "    - access_authentication\n",
        "    - access_complexity\n",
        "    - access_vector\n",
        "    - impact_availability\n",
        "    - impact_confidentiality\n",
        "    - impact_integrity\n",
        "    - vulnerable_product\n",
        "    - vendor\n",
        "    \n",
        "El objetivo de este ejercicio es encontrar subconjuntos dentro del conjunto de datos original usando técnicas de clustering. Justifica la elección de un modelo con métricas adecuadas para esta tarea y si es posible su optimización."
      ],
      "metadata": {
        "id": "4AZHWv6oezlb"
      }
    },
    {
      "cell_type": "markdown",
      "source": [
        "# **Solucion**\n",
        "Como primer paso hagamos un análisis exploratorio de los datos y veamos cuáles serán nuestras columnas candidatas a `features` o caracteristicas. Como el objetivo de nuestro problema es agrupar los datos en `clusters` o grupos y no se dispone aún de un conjunto de clusters para validar estamos ante un proceso de `aprendizaje no supervizado`. El objetivo es entonces crear esta nueva columna llamada `clusters` que contenga los grupos.\n",
        "\n",
        "#### **Análisis Exploratorio de los Datos**"
      ],
      "metadata": {
        "id": "UDg5T_JPhKRe"
      }
    },
    {
      "cell_type": "code",
      "source": [
        "# instalacion de la libreria kmodes\n",
        "!pip install kmodes"
      ],
      "metadata": {
        "id": "x2iETOPbBBfl",
        "outputId": "23bb8812-ccaf-47ad-ed09-274e5b4d09e1",
        "colab": {
          "base_uri": "https://localhost:8080/"
        }
      },
      "execution_count": 2,
      "outputs": [
        {
          "output_type": "stream",
          "name": "stdout",
          "text": [
            "Collecting kmodes\n",
            "  Downloading kmodes-0.12.2-py2.py3-none-any.whl (20 kB)\n",
            "Requirement already satisfied: numpy>=1.10.4 in /usr/local/lib/python3.10/dist-packages (from kmodes) (1.23.5)\n",
            "Requirement already satisfied: scikit-learn>=0.22.0 in /usr/local/lib/python3.10/dist-packages (from kmodes) (1.2.2)\n",
            "Requirement already satisfied: scipy>=0.13.3 in /usr/local/lib/python3.10/dist-packages (from kmodes) (1.11.2)\n",
            "Requirement already satisfied: joblib>=0.11 in /usr/local/lib/python3.10/dist-packages (from kmodes) (1.3.2)\n",
            "Requirement already satisfied: threadpoolctl>=2.0.0 in /usr/local/lib/python3.10/dist-packages (from scikit-learn>=0.22.0->kmodes) (3.2.0)\n",
            "Installing collected packages: kmodes\n",
            "Successfully installed kmodes-0.12.2\n"
          ]
        }
      ]
    },
    {
      "cell_type": "code",
      "source": [
        "# Importemos las librerias necesarias\n",
        "import pandas as pd\n",
        "import matplotlib.pyplot as plt\n",
        "import seaborn as sns\n",
        "from kmodes.kmodes import KModes\n",
        "from sklearn.preprocessing import StandardScaler\n",
        "from kmodes.kprototypes import KPrototypes"
      ],
      "metadata": {
        "id": "aPNCxpqrjj5A"
      },
      "execution_count": 3,
      "outputs": []
    },
    {
      "cell_type": "markdown",
      "source": [
        "Como se verá más adelante disponemos para este proyecto una categoría muy importante de tipo numérica y otras categorias nominales por lo que `Kmeans` (solo se usa para datos de caracteristicas numéricas) y `Kmodes`(solo se usa para datos de categorias nominales u ordinales) no nos servirán en este trabajo y en su lugar, invocaremos `kprototypes` que nos permite trabajar con ambos conjuntos de datos, es decir, tanto numéricos como categóricos."
      ],
      "metadata": {
        "id": "CcYdN9n1j6UG"
      }
    },
    {
      "cell_type": "code",
      "source": [
        "# guardemos los datos en un dataframe de pandas\n",
        "df = pd.read_csv('data_eda_clustering.csv')"
      ],
      "metadata": {
        "id": "4Q93N1Htjueu"
      },
      "execution_count": 4,
      "outputs": []
    },
    {
      "cell_type": "code",
      "source": [
        "# veamos la informacion almacenada\n",
        "df.head(3)"
      ],
      "metadata": {
        "colab": {
          "base_uri": "https://localhost:8080/",
          "height": 337
        },
        "id": "mu_iSLyQlgjR",
        "outputId": "8c36bdf2-03b9-479d-a3d5-02b6139c8ad4"
      },
      "execution_count": 5,
      "outputs": [
        {
          "output_type": "execute_result",
          "data": {
            "text/plain": [
              "      Unnamed: 0             mod_date             pub_date  cvss  cwe_code  \\\n",
              "0  CVE-1999-0001  2010-12-16 05:00:00  1999-12-30 05:00:00   5.0        20   \n",
              "1  CVE-1999-0001  2010-12-16 05:00:00  1999-12-30 05:00:00   5.0        20   \n",
              "2  CVE-1999-0001  2010-12-16 05:00:00  1999-12-30 05:00:00   5.0        20   \n",
              "\n",
              "                     cwe_name  \\\n",
              "0   Improper Input Validation   \n",
              "1   Improper Input Validation   \n",
              "2   Improper Input Validation   \n",
              "\n",
              "                                             summary access_authentication  \\\n",
              "0  ip_input.c in BSD-derived TCP/IP implementatio...                  NONE   \n",
              "1  ip_input.c in BSD-derived TCP/IP implementatio...                  NONE   \n",
              "2  ip_input.c in BSD-derived TCP/IP implementatio...                  NONE   \n",
              "\n",
              "  access_complexity access_vector impact_availability impact_confidentiality  \\\n",
              "0               LOW       NETWORK             PARTIAL                   NONE   \n",
              "1               LOW       NETWORK             PARTIAL                   NONE   \n",
              "2               LOW       NETWORK             PARTIAL                   NONE   \n",
              "\n",
              "  impact_integrity vulnerable_product   vendor  \n",
              "0             NONE             bsd_os     bsdi  \n",
              "1             NONE             bsd_os  freebsd  \n",
              "2             NONE             bsd_os  openbsd  "
            ],
            "text/html": [
              "\n",
              "  <div id=\"df-6d50d244-ec8d-487c-b8c1-41232b72bc69\" class=\"colab-df-container\">\n",
              "    <div>\n",
              "<style scoped>\n",
              "    .dataframe tbody tr th:only-of-type {\n",
              "        vertical-align: middle;\n",
              "    }\n",
              "\n",
              "    .dataframe tbody tr th {\n",
              "        vertical-align: top;\n",
              "    }\n",
              "\n",
              "    .dataframe thead th {\n",
              "        text-align: right;\n",
              "    }\n",
              "</style>\n",
              "<table border=\"1\" class=\"dataframe\">\n",
              "  <thead>\n",
              "    <tr style=\"text-align: right;\">\n",
              "      <th></th>\n",
              "      <th>Unnamed: 0</th>\n",
              "      <th>mod_date</th>\n",
              "      <th>pub_date</th>\n",
              "      <th>cvss</th>\n",
              "      <th>cwe_code</th>\n",
              "      <th>cwe_name</th>\n",
              "      <th>summary</th>\n",
              "      <th>access_authentication</th>\n",
              "      <th>access_complexity</th>\n",
              "      <th>access_vector</th>\n",
              "      <th>impact_availability</th>\n",
              "      <th>impact_confidentiality</th>\n",
              "      <th>impact_integrity</th>\n",
              "      <th>vulnerable_product</th>\n",
              "      <th>vendor</th>\n",
              "    </tr>\n",
              "  </thead>\n",
              "  <tbody>\n",
              "    <tr>\n",
              "      <th>0</th>\n",
              "      <td>CVE-1999-0001</td>\n",
              "      <td>2010-12-16 05:00:00</td>\n",
              "      <td>1999-12-30 05:00:00</td>\n",
              "      <td>5.0</td>\n",
              "      <td>20</td>\n",
              "      <td>Improper Input Validation</td>\n",
              "      <td>ip_input.c in BSD-derived TCP/IP implementatio...</td>\n",
              "      <td>NONE</td>\n",
              "      <td>LOW</td>\n",
              "      <td>NETWORK</td>\n",
              "      <td>PARTIAL</td>\n",
              "      <td>NONE</td>\n",
              "      <td>NONE</td>\n",
              "      <td>bsd_os</td>\n",
              "      <td>bsdi</td>\n",
              "    </tr>\n",
              "    <tr>\n",
              "      <th>1</th>\n",
              "      <td>CVE-1999-0001</td>\n",
              "      <td>2010-12-16 05:00:00</td>\n",
              "      <td>1999-12-30 05:00:00</td>\n",
              "      <td>5.0</td>\n",
              "      <td>20</td>\n",
              "      <td>Improper Input Validation</td>\n",
              "      <td>ip_input.c in BSD-derived TCP/IP implementatio...</td>\n",
              "      <td>NONE</td>\n",
              "      <td>LOW</td>\n",
              "      <td>NETWORK</td>\n",
              "      <td>PARTIAL</td>\n",
              "      <td>NONE</td>\n",
              "      <td>NONE</td>\n",
              "      <td>bsd_os</td>\n",
              "      <td>freebsd</td>\n",
              "    </tr>\n",
              "    <tr>\n",
              "      <th>2</th>\n",
              "      <td>CVE-1999-0001</td>\n",
              "      <td>2010-12-16 05:00:00</td>\n",
              "      <td>1999-12-30 05:00:00</td>\n",
              "      <td>5.0</td>\n",
              "      <td>20</td>\n",
              "      <td>Improper Input Validation</td>\n",
              "      <td>ip_input.c in BSD-derived TCP/IP implementatio...</td>\n",
              "      <td>NONE</td>\n",
              "      <td>LOW</td>\n",
              "      <td>NETWORK</td>\n",
              "      <td>PARTIAL</td>\n",
              "      <td>NONE</td>\n",
              "      <td>NONE</td>\n",
              "      <td>bsd_os</td>\n",
              "      <td>openbsd</td>\n",
              "    </tr>\n",
              "  </tbody>\n",
              "</table>\n",
              "</div>\n",
              "    <div class=\"colab-df-buttons\">\n",
              "\n",
              "  <div class=\"colab-df-container\">\n",
              "    <button class=\"colab-df-convert\" onclick=\"convertToInteractive('df-6d50d244-ec8d-487c-b8c1-41232b72bc69')\"\n",
              "            title=\"Convert this dataframe to an interactive table.\"\n",
              "            style=\"display:none;\">\n",
              "\n",
              "  <svg xmlns=\"http://www.w3.org/2000/svg\" height=\"24px\" viewBox=\"0 -960 960 960\">\n",
              "    <path d=\"M120-120v-720h720v720H120Zm60-500h600v-160H180v160Zm220 220h160v-160H400v160Zm0 220h160v-160H400v160ZM180-400h160v-160H180v160Zm440 0h160v-160H620v160ZM180-180h160v-160H180v160Zm440 0h160v-160H620v160Z\"/>\n",
              "  </svg>\n",
              "    </button>\n",
              "\n",
              "  <style>\n",
              "    .colab-df-container {\n",
              "      display:flex;\n",
              "      gap: 12px;\n",
              "    }\n",
              "\n",
              "    .colab-df-convert {\n",
              "      background-color: #E8F0FE;\n",
              "      border: none;\n",
              "      border-radius: 50%;\n",
              "      cursor: pointer;\n",
              "      display: none;\n",
              "      fill: #1967D2;\n",
              "      height: 32px;\n",
              "      padding: 0 0 0 0;\n",
              "      width: 32px;\n",
              "    }\n",
              "\n",
              "    .colab-df-convert:hover {\n",
              "      background-color: #E2EBFA;\n",
              "      box-shadow: 0px 1px 2px rgba(60, 64, 67, 0.3), 0px 1px 3px 1px rgba(60, 64, 67, 0.15);\n",
              "      fill: #174EA6;\n",
              "    }\n",
              "\n",
              "    .colab-df-buttons div {\n",
              "      margin-bottom: 4px;\n",
              "    }\n",
              "\n",
              "    [theme=dark] .colab-df-convert {\n",
              "      background-color: #3B4455;\n",
              "      fill: #D2E3FC;\n",
              "    }\n",
              "\n",
              "    [theme=dark] .colab-df-convert:hover {\n",
              "      background-color: #434B5C;\n",
              "      box-shadow: 0px 1px 3px 1px rgba(0, 0, 0, 0.15);\n",
              "      filter: drop-shadow(0px 1px 2px rgba(0, 0, 0, 0.3));\n",
              "      fill: #FFFFFF;\n",
              "    }\n",
              "  </style>\n",
              "\n",
              "    <script>\n",
              "      const buttonEl =\n",
              "        document.querySelector('#df-6d50d244-ec8d-487c-b8c1-41232b72bc69 button.colab-df-convert');\n",
              "      buttonEl.style.display =\n",
              "        google.colab.kernel.accessAllowed ? 'block' : 'none';\n",
              "\n",
              "      async function convertToInteractive(key) {\n",
              "        const element = document.querySelector('#df-6d50d244-ec8d-487c-b8c1-41232b72bc69');\n",
              "        const dataTable =\n",
              "          await google.colab.kernel.invokeFunction('convertToInteractive',\n",
              "                                                    [key], {});\n",
              "        if (!dataTable) return;\n",
              "\n",
              "        const docLinkHtml = 'Like what you see? Visit the ' +\n",
              "          '<a target=\"_blank\" href=https://colab.research.google.com/notebooks/data_table.ipynb>data table notebook</a>'\n",
              "          + ' to learn more about interactive tables.';\n",
              "        element.innerHTML = '';\n",
              "        dataTable['output_type'] = 'display_data';\n",
              "        await google.colab.output.renderOutput(dataTable, element);\n",
              "        const docLink = document.createElement('div');\n",
              "        docLink.innerHTML = docLinkHtml;\n",
              "        element.appendChild(docLink);\n",
              "      }\n",
              "    </script>\n",
              "  </div>\n",
              "\n",
              "\n",
              "<div id=\"df-1ba69860-fac0-47ba-a4ee-49f23211e1ba\">\n",
              "  <button class=\"colab-df-quickchart\" onclick=\"quickchart('df-1ba69860-fac0-47ba-a4ee-49f23211e1ba')\"\n",
              "            title=\"Suggest charts.\"\n",
              "            style=\"display:none;\">\n",
              "\n",
              "<svg xmlns=\"http://www.w3.org/2000/svg\" height=\"24px\"viewBox=\"0 0 24 24\"\n",
              "     width=\"24px\">\n",
              "    <g>\n",
              "        <path d=\"M19 3H5c-1.1 0-2 .9-2 2v14c0 1.1.9 2 2 2h14c1.1 0 2-.9 2-2V5c0-1.1-.9-2-2-2zM9 17H7v-7h2v7zm4 0h-2V7h2v10zm4 0h-2v-4h2v4z\"/>\n",
              "    </g>\n",
              "</svg>\n",
              "  </button>\n",
              "\n",
              "<style>\n",
              "  .colab-df-quickchart {\n",
              "      --bg-color: #E8F0FE;\n",
              "      --fill-color: #1967D2;\n",
              "      --hover-bg-color: #E2EBFA;\n",
              "      --hover-fill-color: #174EA6;\n",
              "      --disabled-fill-color: #AAA;\n",
              "      --disabled-bg-color: #DDD;\n",
              "  }\n",
              "\n",
              "  [theme=dark] .colab-df-quickchart {\n",
              "      --bg-color: #3B4455;\n",
              "      --fill-color: #D2E3FC;\n",
              "      --hover-bg-color: #434B5C;\n",
              "      --hover-fill-color: #FFFFFF;\n",
              "      --disabled-bg-color: #3B4455;\n",
              "      --disabled-fill-color: #666;\n",
              "  }\n",
              "\n",
              "  .colab-df-quickchart {\n",
              "    background-color: var(--bg-color);\n",
              "    border: none;\n",
              "    border-radius: 50%;\n",
              "    cursor: pointer;\n",
              "    display: none;\n",
              "    fill: var(--fill-color);\n",
              "    height: 32px;\n",
              "    padding: 0;\n",
              "    width: 32px;\n",
              "  }\n",
              "\n",
              "  .colab-df-quickchart:hover {\n",
              "    background-color: var(--hover-bg-color);\n",
              "    box-shadow: 0 1px 2px rgba(60, 64, 67, 0.3), 0 1px 3px 1px rgba(60, 64, 67, 0.15);\n",
              "    fill: var(--button-hover-fill-color);\n",
              "  }\n",
              "\n",
              "  .colab-df-quickchart-complete:disabled,\n",
              "  .colab-df-quickchart-complete:disabled:hover {\n",
              "    background-color: var(--disabled-bg-color);\n",
              "    fill: var(--disabled-fill-color);\n",
              "    box-shadow: none;\n",
              "  }\n",
              "\n",
              "  .colab-df-spinner {\n",
              "    border: 2px solid var(--fill-color);\n",
              "    border-color: transparent;\n",
              "    border-bottom-color: var(--fill-color);\n",
              "    animation:\n",
              "      spin 1s steps(1) infinite;\n",
              "  }\n",
              "\n",
              "  @keyframes spin {\n",
              "    0% {\n",
              "      border-color: transparent;\n",
              "      border-bottom-color: var(--fill-color);\n",
              "      border-left-color: var(--fill-color);\n",
              "    }\n",
              "    20% {\n",
              "      border-color: transparent;\n",
              "      border-left-color: var(--fill-color);\n",
              "      border-top-color: var(--fill-color);\n",
              "    }\n",
              "    30% {\n",
              "      border-color: transparent;\n",
              "      border-left-color: var(--fill-color);\n",
              "      border-top-color: var(--fill-color);\n",
              "      border-right-color: var(--fill-color);\n",
              "    }\n",
              "    40% {\n",
              "      border-color: transparent;\n",
              "      border-right-color: var(--fill-color);\n",
              "      border-top-color: var(--fill-color);\n",
              "    }\n",
              "    60% {\n",
              "      border-color: transparent;\n",
              "      border-right-color: var(--fill-color);\n",
              "    }\n",
              "    80% {\n",
              "      border-color: transparent;\n",
              "      border-right-color: var(--fill-color);\n",
              "      border-bottom-color: var(--fill-color);\n",
              "    }\n",
              "    90% {\n",
              "      border-color: transparent;\n",
              "      border-bottom-color: var(--fill-color);\n",
              "    }\n",
              "  }\n",
              "</style>\n",
              "\n",
              "  <script>\n",
              "    async function quickchart(key) {\n",
              "      const quickchartButtonEl =\n",
              "        document.querySelector('#' + key + ' button');\n",
              "      quickchartButtonEl.disabled = true;  // To prevent multiple clicks.\n",
              "      quickchartButtonEl.classList.add('colab-df-spinner');\n",
              "      try {\n",
              "        const charts = await google.colab.kernel.invokeFunction(\n",
              "            'suggestCharts', [key], {});\n",
              "      } catch (error) {\n",
              "        console.error('Error during call to suggestCharts:', error);\n",
              "      }\n",
              "      quickchartButtonEl.classList.remove('colab-df-spinner');\n",
              "      quickchartButtonEl.classList.add('colab-df-quickchart-complete');\n",
              "    }\n",
              "    (() => {\n",
              "      let quickchartButtonEl =\n",
              "        document.querySelector('#df-1ba69860-fac0-47ba-a4ee-49f23211e1ba button');\n",
              "      quickchartButtonEl.style.display =\n",
              "        google.colab.kernel.accessAllowed ? 'block' : 'none';\n",
              "    })();\n",
              "  </script>\n",
              "</div>\n",
              "    </div>\n",
              "  </div>\n"
            ]
          },
          "metadata": {},
          "execution_count": 5
        }
      ]
    },
    {
      "cell_type": "code",
      "source": [
        "#informacion del dataset\n",
        "df.info()"
      ],
      "metadata": {
        "id": "BSEEkU2hv2nH",
        "colab": {
          "base_uri": "https://localhost:8080/"
        },
        "outputId": "6a2d18de-514a-49fa-fcc6-fb87be5bda86"
      },
      "execution_count": 6,
      "outputs": [
        {
          "output_type": "stream",
          "name": "stdout",
          "text": [
            "<class 'pandas.core.frame.DataFrame'>\n",
            "RangeIndex: 251380 entries, 0 to 251379\n",
            "Data columns (total 15 columns):\n",
            " #   Column                  Non-Null Count   Dtype  \n",
            "---  ------                  --------------   -----  \n",
            " 0   Unnamed: 0              251380 non-null  object \n",
            " 1   mod_date                251380 non-null  object \n",
            " 2   pub_date                251380 non-null  object \n",
            " 3   cvss                    251380 non-null  float64\n",
            " 4   cwe_code                251380 non-null  int64  \n",
            " 5   cwe_name                251380 non-null  object \n",
            " 6   summary                 251380 non-null  object \n",
            " 7   access_authentication   242004 non-null  object \n",
            " 8   access_complexity       242004 non-null  object \n",
            " 9   access_vector           242004 non-null  object \n",
            " 10  impact_availability     242004 non-null  object \n",
            " 11  impact_confidentiality  242004 non-null  object \n",
            " 12  impact_integrity        242004 non-null  object \n",
            " 13  vulnerable_product      251338 non-null  object \n",
            " 14  vendor                  251338 non-null  object \n",
            "dtypes: float64(1), int64(1), object(13)\n",
            "memory usage: 28.8+ MB\n"
          ]
        }
      ]
    },
    {
      "cell_type": "markdown",
      "source": [
        "Este conjunto de datos tiene 251380 registros y 15 columnas"
      ],
      "metadata": {
        "id": "toW0Z2zHv5Zu"
      }
    },
    {
      "cell_type": "markdown",
      "source": [
        "*Contexto con las variables estadísticas*\n",
        "\n",
        "    - 1 Variables: En esta columna encontramos un identificador que nos dice que la vulnerabilidad fue registrada en el año 1999 y probablemente el 0001 sea un indicador que dice que es la primera vulnerabilidad de este tipo reistrada\n",
        "\n",
        "    - mod_date: Esta fecha parece indicar una modificación en el registro de la vulnerabilidad\n",
        "\n",
        "    - pub_date: Esta fecha parece indicar la fecha en la que fue publicada la vulnerabilidad\n",
        "\n",
        "    - cvss: Es un puntaje numérico conocido como el Common Vulnerability Scoring System que generalmente lo codifican en un rango entre 0 y 10, donde 10 habla de una vulnerabilidad de alto riesgo\n",
        "\n",
        "    - cwe_code: Este código habla de una categoría específica de vulnerabilidad registrada en Common Weakness Enumeration Code\n",
        "\n",
        "    - cwe_name: Estas etiquetas hablan del detalle del tipo de vulnerabilidad y cada código está relacionado con una única descripción\n",
        "\n",
        "    - summary: Parece ser una breve descripción de la vulnerabilidad\n",
        "\n",
        "    - access_authentication: Describe características de la vulnerabilidad\n",
        "\n",
        "    - access_complexity: Describe características de la vulnerabilidad\n",
        "\n",
        "    - access_vector: Describe características de la vulnerabilidad\n",
        "\n",
        "    - impact_availability: Habla del impacto de la vulnerabilidad en el sistema\n",
        "\n",
        "    - impact_confidentiality: Habla del impacto de la confidencialidad en el sistema\n",
        "\n",
        "    - impact_integrity: Habla del impacto de la integridad en el sistema\n",
        "\n",
        "    - vulnerable_product: Productos afectados por la vulnerabilidad\n",
        "    \n",
        "    - vendor: Puede ser el proveedor relacionado con los productos vulnerables"
      ],
      "metadata": {
        "id": "kjJGrDu7mQKm"
      }
    },
    {
      "cell_type": "markdown",
      "source": [
        "Para crear los clusters `cvss` parece ser una buena candidata, veamos su distribución"
      ],
      "metadata": {
        "id": "6iQPmqiBtgBl"
      }
    },
    {
      "cell_type": "code",
      "source": [
        "sns.histplot(data = df , x = 'cvss',bins=10)"
      ],
      "metadata": {
        "colab": {
          "base_uri": "https://localhost:8080/",
          "height": 466
        },
        "id": "PAow90tSlt98",
        "outputId": "8e76f363-91db-4529-ed8f-78a19dfa68be"
      },
      "execution_count": 7,
      "outputs": [
        {
          "output_type": "execute_result",
          "data": {
            "text/plain": [
              "<Axes: xlabel='cvss', ylabel='Count'>"
            ]
          },
          "metadata": {},
          "execution_count": 7
        },
        {
          "output_type": "display_data",
          "data": {
            "text/plain": [
              "<Figure size 640x480 with 1 Axes>"
            ],
            "image/png": "[encoded data removed]"
          },
          "metadata": {}
        }
      ]
    },
    {
      "cell_type": "code",
      "source": [
        "nulos = df['cvss'].isnull().sum()\n",
        "faltantes = df['cvss'].isna().sum()\n",
        "\n",
        "print('cantidad de nulos: ', nulos)\n",
        "print('cantidad de faltantes: ', faltantes)"
      ],
      "metadata": {
        "id": "NimG9tooudvW",
        "colab": {
          "base_uri": "https://localhost:8080/"
        },
        "outputId": "b97a939a-e064-4408-e21f-df7a32c2fce1"
      },
      "execution_count": 8,
      "outputs": [
        {
          "output_type": "stream",
          "name": "stdout",
          "text": [
            "cantidad de nulos:  0\n",
            "cantidad de faltantes:  0\n"
          ]
        }
      ]
    },
    {
      "cell_type": "markdown",
      "source": [
        "Los datos están muy distribuidos y no hay valores nulos ni faltantes lo que nos permitirá crear buenos clusters con esta variable. las columnas como summary, vulnerable product y vendor se descartarán por la gran cantidad de categorias que obtendriamos con estas. analicemos las demás"
      ],
      "metadata": {
        "id": "RlV5dKtyt-Ot"
      }
    },
    {
      "cell_type": "code",
      "source": [
        "df['access_authentication'].unique()"
      ],
      "metadata": {
        "colab": {
          "base_uri": "https://localhost:8080/"
        },
        "id": "8zW-TPT8t9Ik",
        "outputId": "529383bc-6a4c-4823-bb46-7908639cfba5"
      },
      "execution_count": 9,
      "outputs": [
        {
          "output_type": "execute_result",
          "data": {
            "text/plain": [
              "array(['NONE', 'SINGLE', nan, 'MULTIPLE'], dtype=object)"
            ]
          },
          "metadata": {},
          "execution_count": 9
        }
      ]
    },
    {
      "cell_type": "markdown",
      "source": [
        "`Acces_authentication` tiene pocas categorias"
      ],
      "metadata": {
        "id": "o-rqJf6bvQgT"
      }
    },
    {
      "cell_type": "code",
      "source": [
        "sns.countplot(data = df, x = 'access_authentication')"
      ],
      "metadata": {
        "colab": {
          "base_uri": "https://localhost:8080/",
          "height": 467
        },
        "id": "YnfRvTTXtyza",
        "outputId": "7a0dd19a-01ca-4086-e8b0-69284def190c"
      },
      "execution_count": 10,
      "outputs": [
        {
          "output_type": "execute_result",
          "data": {
            "text/plain": [
              "<Axes: xlabel='access_authentication', ylabel='count'>"
            ]
          },
          "metadata": {},
          "execution_count": 10
        },
        {
          "output_type": "display_data",
          "data": {
            "text/plain": [
              "<Figure size 640x480 with 1 Axes>"
            ],
            "image/png": "[encoded data removed]"
          },
          "metadata": {}
        }
      ]
    },
    {
      "cell_type": "code",
      "source": [
        "df['access_authentication'].value_counts()"
      ],
      "metadata": {
        "id": "b1qb_lp0vkZ1",
        "colab": {
          "base_uri": "https://localhost:8080/"
        },
        "outputId": "aee54a04-fa17-4308-cb0b-7d4a01aafada"
      },
      "execution_count": 11,
      "outputs": [
        {
          "output_type": "execute_result",
          "data": {
            "text/plain": [
              "NONE        218102\n",
              "SINGLE       23871\n",
              "MULTIPLE        31\n",
              "Name: access_authentication, dtype: int64"
            ]
          },
          "metadata": {},
          "execution_count": 11
        }
      ]
    },
    {
      "cell_type": "code",
      "source": [
        "print(f'Porcentaje NONE: {round((218102/251380)*100,2)} %')"
      ],
      "metadata": {
        "id": "yMHdlNp9vxg0",
        "colab": {
          "base_uri": "https://localhost:8080/"
        },
        "outputId": "18aad439-3e15-4dd1-8106-f925ed7bff2e"
      },
      "execution_count": 12,
      "outputs": [
        {
          "output_type": "stream",
          "name": "stdout",
          "text": [
            "Porcentaje NONE: 86.76 %\n"
          ]
        }
      ]
    },
    {
      "cell_type": "markdown",
      "source": [
        "El 86,76% de los datos se encuentran en NONE, por lo que descartaremos esta columna pues casi todos los datos están en este estado categórico"
      ],
      "metadata": {
        "id": "-1jsD9OQxVft"
      }
    },
    {
      "cell_type": "code",
      "source": [
        "df['access_complexity'].unique()"
      ],
      "metadata": {
        "id": "SSKH6IbjxEhQ",
        "colab": {
          "base_uri": "https://localhost:8080/"
        },
        "outputId": "6ea0c2fc-9c26-465f-faa4-f2102b8ff285"
      },
      "execution_count": 13,
      "outputs": [
        {
          "output_type": "execute_result",
          "data": {
            "text/plain": [
              "array(['LOW', 'HIGH', 'MEDIUM', nan], dtype=object)"
            ]
          },
          "metadata": {},
          "execution_count": 13
        }
      ]
    },
    {
      "cell_type": "markdown",
      "source": [
        "Columna con pocas categorías"
      ],
      "metadata": {
        "id": "BuXewjeKyjyN"
      }
    },
    {
      "cell_type": "code",
      "source": [
        "sns.countplot(data = df, x = 'access_complexity')"
      ],
      "metadata": {
        "id": "JmzyI3JEyWVA",
        "colab": {
          "base_uri": "https://localhost:8080/",
          "height": 467
        },
        "outputId": "a8ac5597-8edd-4389-83b3-aadb85c6b2fd"
      },
      "execution_count": 14,
      "outputs": [
        {
          "output_type": "execute_result",
          "data": {
            "text/plain": [
              "<Axes: xlabel='access_complexity', ylabel='count'>"
            ]
          },
          "metadata": {},
          "execution_count": 14
        },
        {
          "output_type": "display_data",
          "data": {
            "text/plain": [
              "<Figure size 640x480 with 1 Axes>"
            ],
            "image/png": "[encoded data removed]"
          },
          "metadata": {}
        }
      ]
    },
    {
      "cell_type": "markdown",
      "source": [
        "Esta columna también puede ser una buena candidata para encontrar clusters aunque no tenga tantos datos en estado HIGH"
      ],
      "metadata": {
        "id": "4gJtKSQzy0z9"
      }
    },
    {
      "cell_type": "code",
      "source": [
        "df['access_complexity'].value_counts()"
      ],
      "metadata": {
        "id": "D4fO01KzyngG",
        "colab": {
          "base_uri": "https://localhost:8080/"
        },
        "outputId": "81ec3e80-34f7-4176-fd2b-3729bb128180"
      },
      "execution_count": 15,
      "outputs": [
        {
          "output_type": "execute_result",
          "data": {
            "text/plain": [
              "LOW       132090\n",
              "MEDIUM    104293\n",
              "HIGH        5621\n",
              "Name: access_complexity, dtype: int64"
            ]
          },
          "metadata": {},
          "execution_count": 15
        }
      ]
    },
    {
      "cell_type": "code",
      "source": [
        "nulos = df['access_complexity'].isnull().sum()\n",
        "faltantes = df['access_complexity'].isna().sum()\n",
        "\n",
        "print('cantidad de nulos: ', nulos)\n",
        "print('cantidad de faltantes: ', faltantes)"
      ],
      "metadata": {
        "id": "oQU-2klfzH-m",
        "colab": {
          "base_uri": "https://localhost:8080/"
        },
        "outputId": "bd91c6df-276d-4742-aa16-02446f2842d1"
      },
      "execution_count": 16,
      "outputs": [
        {
          "output_type": "stream",
          "name": "stdout",
          "text": [
            "cantidad de nulos:  9376\n",
            "cantidad de faltantes:  9376\n"
          ]
        }
      ]
    },
    {
      "cell_type": "markdown",
      "source": [
        "Hay 9376 valores nulos con los que tenemos que crear una estrategia para rellenar"
      ],
      "metadata": {
        "id": "4YAgCYUS0DKW"
      }
    },
    {
      "cell_type": "code",
      "source": [
        "df['access_vector'].unique()"
      ],
      "metadata": {
        "id": "f8huIpM6zSql",
        "colab": {
          "base_uri": "https://localhost:8080/"
        },
        "outputId": "d92e7894-eb92-4fe5-b5ac-4548c1979f99"
      },
      "execution_count": 17,
      "outputs": [
        {
          "output_type": "execute_result",
          "data": {
            "text/plain": [
              "array(['NETWORK', 'LOCAL', 'ADJACENT_NETWORK', nan], dtype=object)"
            ]
          },
          "metadata": {},
          "execution_count": 17
        }
      ]
    },
    {
      "cell_type": "markdown",
      "source": [
        "Columna access_vector con pocas categorias"
      ],
      "metadata": {
        "id": "C8OuNqDX0bBd"
      }
    },
    {
      "cell_type": "code",
      "source": [
        "sns.countplot(data = df, x = 'access_vector')"
      ],
      "metadata": {
        "colab": {
          "base_uri": "https://localhost:8080/",
          "height": 466
        },
        "id": "8DefJgfM0XWn",
        "outputId": "29a45f5d-243b-4b7a-a1ac-e973c1f1ebf0"
      },
      "execution_count": 18,
      "outputs": [
        {
          "output_type": "execute_result",
          "data": {
            "text/plain": [
              "<Axes: xlabel='access_vector', ylabel='count'>"
            ]
          },
          "metadata": {},
          "execution_count": 18
        },
        {
          "output_type": "display_data",
          "data": {
            "text/plain": [
              "<Figure size 640x480 with 1 Axes>"
            ],
            "image/png": "[encoded data removed]"
          },
          "metadata": {}
        }
      ]
    },
    {
      "cell_type": "code",
      "source": [
        "df['access_vector'].value_counts()"
      ],
      "metadata": {
        "colab": {
          "base_uri": "https://localhost:8080/"
        },
        "id": "khsDrJMx0edf",
        "outputId": "5266efe9-c9cc-46b7-89c0-259ace7ee1c4"
      },
      "execution_count": 19,
      "outputs": [
        {
          "output_type": "execute_result",
          "data": {
            "text/plain": [
              "NETWORK             200800\n",
              "LOCAL                34590\n",
              "ADJACENT_NETWORK      6614\n",
              "Name: access_vector, dtype: int64"
            ]
          },
          "metadata": {},
          "execution_count": 19
        }
      ]
    },
    {
      "cell_type": "code",
      "source": [
        "print(f'Porcentaje NONE: {round((200800/251380)*100,2)} %')"
      ],
      "metadata": {
        "colab": {
          "base_uri": "https://localhost:8080/"
        },
        "id": "t0F4bcs60tQb",
        "outputId": "cd0f4a18-c747-4781-ec0a-05dd3638b602"
      },
      "execution_count": 20,
      "outputs": [
        {
          "output_type": "stream",
          "name": "stdout",
          "text": [
            "Porcentaje NONE: 79.88 %\n"
          ]
        }
      ]
    },
    {
      "cell_type": "markdown",
      "source": [
        "Similar a como ocurrió con access_authentication, la mayoria de los datos están en NETWORK, por lo que no aporta mucha información esta columna de acces_vector"
      ],
      "metadata": {
        "id": "DmjPHRT201tm"
      }
    },
    {
      "cell_type": "code",
      "source": [
        "df['impact_availability'].unique()"
      ],
      "metadata": {
        "colab": {
          "base_uri": "https://localhost:8080/"
        },
        "id": "OznlTF-I11RU",
        "outputId": "f577bdfd-e889-4a72-bef8-cedcad5f3b79"
      },
      "execution_count": 21,
      "outputs": [
        {
          "output_type": "execute_result",
          "data": {
            "text/plain": [
              "array(['PARTIAL', 'COMPLETE', 'NONE', nan], dtype=object)"
            ]
          },
          "metadata": {},
          "execution_count": 21
        }
      ]
    },
    {
      "cell_type": "code",
      "source": [
        "sns.countplot(data = df, x = 'impact_availability')"
      ],
      "metadata": {
        "colab": {
          "base_uri": "https://localhost:8080/",
          "height": 467
        },
        "id": "Kk5kfo0y15TY",
        "outputId": "f5689ebf-40d1-4c1f-899b-928f69ea5600"
      },
      "execution_count": 22,
      "outputs": [
        {
          "output_type": "execute_result",
          "data": {
            "text/plain": [
              "<Axes: xlabel='impact_availability', ylabel='count'>"
            ]
          },
          "metadata": {},
          "execution_count": 22
        },
        {
          "output_type": "display_data",
          "data": {
            "text/plain": [
              "<Figure size 640x480 with 1 Axes>"
            ],
            "image/png": "[encoded data removed]"
          },
          "metadata": {}
        }
      ]
    },
    {
      "cell_type": "code",
      "source": [
        "nulos = df['impact_availability'].isnull().sum()\n",
        "\n",
        "print('cantidad de nulos: ', nulos)"
      ],
      "metadata": {
        "colab": {
          "base_uri": "https://localhost:8080/"
        },
        "id": "29PcblCQ70h0",
        "outputId": "d7c590ef-74f8-47f7-afee-a0dab2f83f17"
      },
      "execution_count": 23,
      "outputs": [
        {
          "output_type": "stream",
          "name": "stdout",
          "text": [
            "cantidad de nulos:  9376\n"
          ]
        }
      ]
    },
    {
      "cell_type": "code",
      "source": [
        "sns.countplot(data = df, x = 'impact_confidentiality')"
      ],
      "metadata": {
        "colab": {
          "base_uri": "https://localhost:8080/",
          "height": 467
        },
        "id": "Qv6T9QZ71-qb",
        "outputId": "3ca0cc42-d8c6-4fc3-cb90-d84362e675a9"
      },
      "execution_count": 24,
      "outputs": [
        {
          "output_type": "execute_result",
          "data": {
            "text/plain": [
              "<Axes: xlabel='impact_confidentiality', ylabel='count'>"
            ]
          },
          "metadata": {},
          "execution_count": 24
        },
        {
          "output_type": "display_data",
          "data": {
            "text/plain": [
              "<Figure size 640x480 with 1 Axes>"
            ],
            "image/png": "[encoded data removed]"
          },
          "metadata": {}
        }
      ]
    },
    {
      "cell_type": "markdown",
      "source": [
        "Como vemos en los dos últimos gráficos de barras ambos tienen los datos distribuidos de una manera interesante, sin embargo, notamos que son bastante parecidos por lo que pueden estar correlacionados, saquemos una tabla de contingencia"
      ],
      "metadata": {
        "id": "V80tvd3M2Gou"
      }
    },
    {
      "cell_type": "code",
      "source": [
        "tabla_contingencia = pd.crosstab(df['impact_availability'], df['impact_confidentiality'])\n",
        "\n",
        "print(tabla_contingencia)"
      ],
      "metadata": {
        "colab": {
          "base_uri": "https://localhost:8080/"
        },
        "id": "Ob1YZ06r0zlV",
        "outputId": "f79532c3-d840-4a64-a90c-05f972dfa880"
      },
      "execution_count": 25,
      "outputs": [
        {
          "output_type": "stream",
          "name": "stdout",
          "text": [
            "impact_confidentiality  COMPLETE   NONE  PARTIAL\n",
            "impact_availability                             \n",
            "COMPLETE                   56709  10687      740\n",
            "NONE                        3639  34429    38358\n",
            "PARTIAL                       52  31149    66241\n"
          ]
        }
      ]
    },
    {
      "cell_type": "markdown",
      "source": [
        "Observamos que los valores de la diagonal principal son mucho más elevados que los triangulares superiores e inferiores, por lo que eliminar una de estas variables nos ayudará a reducir la dimensión del problema. Así nos quedaremos con impact_availability.\n",
        "\n",
        "Nota: Existe una métrica más formal para medir este nivel de correlación de una manera más efectiva conocida como coeficiente de contingencia (Cramér's V)"
      ],
      "metadata": {
        "id": "WolQe0X02eBF"
      }
    },
    {
      "cell_type": "code",
      "source": [
        "sns.countplot(data = df, x = 'impact_integrity')"
      ],
      "metadata": {
        "colab": {
          "base_uri": "https://localhost:8080/",
          "height": 467
        },
        "id": "eLf24RBa1jNH",
        "outputId": "222a0224-334a-468e-e7e7-bdd8fb1cb6b5"
      },
      "execution_count": 26,
      "outputs": [
        {
          "output_type": "execute_result",
          "data": {
            "text/plain": [
              "<Axes: xlabel='impact_integrity', ylabel='count'>"
            ]
          },
          "metadata": {},
          "execution_count": 26
        },
        {
          "output_type": "display_data",
          "data": {
            "text/plain": [
              "<Figure size 640x480 with 1 Axes>"
            ],
            "image/png": "[encoded data removed]"
          },
          "metadata": {}
        }
      ]
    },
    {
      "cell_type": "code",
      "source": [
        "tabla_contingencia = pd.crosstab(df['impact_availability'], df['impact_integrity'])\n",
        "\n",
        "print(tabla_contingencia)"
      ],
      "metadata": {
        "colab": {
          "base_uri": "https://localhost:8080/"
        },
        "id": "ym7TvJpd3GXK",
        "outputId": "b845af45-dc6e-4de1-e5e4-55feeec124ff"
      },
      "execution_count": 27,
      "outputs": [
        {
          "output_type": "stream",
          "name": "stdout",
          "text": [
            "impact_integrity     COMPLETE   NONE  PARTIAL\n",
            "impact_availability                          \n",
            "COMPLETE                56856  10472      808\n",
            "NONE                      365  37382    38679\n",
            "PARTIAL                    23  30265    67154\n"
          ]
        }
      ]
    },
    {
      "cell_type": "markdown",
      "source": [
        "Análogamente que en el caso anterior, la tabla de contingencia nos muestra una diagonal con valores elevados, por lo que descartaremos 'impact_integrity'"
      ],
      "metadata": {
        "id": "Pbeu8XWs3QmT"
      }
    },
    {
      "cell_type": "code",
      "source": [
        "len(df['cwe_name'].unique())"
      ],
      "metadata": {
        "colab": {
          "base_uri": "https://localhost:8080/"
        },
        "id": "J5wBeU9u33V-",
        "outputId": "1bcf53fa-6c24-453f-b172-fc6a21ba6d57"
      },
      "execution_count": 28,
      "outputs": [
        {
          "output_type": "execute_result",
          "data": {
            "text/plain": [
              "170"
            ]
          },
          "metadata": {},
          "execution_count": 28
        }
      ]
    },
    {
      "cell_type": "markdown",
      "source": [
        "La columna cwe_name podría ser interesante, sin embargo nos introduce 170 caracteristicas nuevas, por lo que para un modelo simplificado con las categorías sería un poco complicado trabajar, para el proyecto será descartada, tampoco consideraremos relevantes en este trabajo las columnas de fechas aunque podría llegar a ser interesante encontrar segmentadores de años en los datos de las vulnerabilidades, y ver por ejemplo si hay grupos con vulnerabilidades muy peligrosas en los años más recientes."
      ],
      "metadata": {
        "id": "pelP_AAS4IgL"
      }
    },
    {
      "cell_type": "markdown",
      "source": [
        "En resumen tenemos entonces que las caracteristicas que usaremos en este trabajo son:\n",
        "\n",
        "- cvss\n",
        "- access_complexity\n",
        "- impact_availability\n",
        "\n"
      ],
      "metadata": {
        "id": "cEhBEnAz5Ji6"
      }
    },
    {
      "cell_type": "code",
      "source": [
        "features = ['cvss','access_complexity','impact_availability']\n",
        "\n",
        "df.isna().sum()"
      ],
      "metadata": {
        "colab": {
          "base_uri": "https://localhost:8080/"
        },
        "id": "wM7lIKJm4DtV",
        "outputId": "e9690c37-0946-4d7e-dc84-3881bb939737"
      },
      "execution_count": 29,
      "outputs": [
        {
          "output_type": "execute_result",
          "data": {
            "text/plain": [
              "Unnamed: 0                   0\n",
              "mod_date                     0\n",
              "pub_date                     0\n",
              "cvss                         0\n",
              "cwe_code                     0\n",
              "cwe_name                     0\n",
              "summary                      0\n",
              "access_authentication     9376\n",
              "access_complexity         9376\n",
              "access_vector             9376\n",
              "impact_availability       9376\n",
              "impact_confidentiality    9376\n",
              "impact_integrity          9376\n",
              "vulnerable_product          42\n",
              "vendor                      42\n",
              "dtype: int64"
            ]
          },
          "metadata": {},
          "execution_count": 29
        }
      ]
    },
    {
      "cell_type": "code",
      "source": [
        "df[df['impact_availability'].isna()]"
      ],
      "metadata": {
        "colab": {
          "base_uri": "https://localhost:8080/",
          "height": 1000
        },
        "id": "jiyBdHaL-TNT",
        "outputId": "02a78232-10e7-4de2-c355-ae4302cbef3e"
      },
      "execution_count": 30,
      "outputs": [
        {
          "output_type": "execute_result",
          "data": {
            "text/plain": [
              "           Unnamed: 0             mod_date             pub_date  cvss  \\\n",
              "2103    CVE-2005-2351  2019-11-01 19:22:00  2019-11-01 19:15:00   2.1   \n",
              "2104    CVE-2005-2351  2019-11-01 19:22:00  2019-11-01 19:15:00   2.1   \n",
              "2105    CVE-2005-2351  2019-11-01 19:22:00  2019-11-01 19:15:00   2.1   \n",
              "2106    CVE-2005-2351  2019-11-01 19:22:00  2019-11-01 19:15:00   2.1   \n",
              "4188    CVE-2005-4890  2019-11-04 19:56:00  2019-11-04 19:15:00   7.2   \n",
              "...               ...                  ...                  ...   ...   \n",
              "248715  CVE-2019-8246  2019-11-14 16:53:00  2019-11-14 16:15:00  10.0   \n",
              "248716  CVE-2019-8247  2019-11-14 16:53:00  2019-11-14 16:15:00  10.0   \n",
              "248717  CVE-2019-8248  2019-11-14 16:53:00  2019-11-14 16:15:00  10.0   \n",
              "249865  CVE-2019-9466  2019-11-13 20:22:00  2019-11-13 20:15:00   7.5   \n",
              "249866  CVE-2019-9467  2019-11-13 20:22:00  2019-11-13 20:15:00   7.2   \n",
              "\n",
              "        cwe_code                                           cwe_name  \\\n",
              "2103         668               Exposure of Resource to Wrong Sphere   \n",
              "2104         668               Exposure of Resource to Wrong Sphere   \n",
              "2105         668               Exposure of Resource to Wrong Sphere   \n",
              "2106         668               Exposure of Resource to Wrong Sphere   \n",
              "4188          20                          Improper Input Validation   \n",
              "...          ...                                                ...   \n",
              "248715       787                                Out-of-bounds Write   \n",
              "248716       119   Improper Restriction of Operations within the...   \n",
              "248717       119   Improper Restriction of Operations within the...   \n",
              "249865        20                          Improper Input Validation   \n",
              "249866        78   Improper Neutralization of Special Elements u...   \n",
              "\n",
              "                                                  summary  \\\n",
              "2103    Mutt before 1.5.20 patch 7 allows an attacker ...   \n",
              "2104    Mutt before 1.5.20 patch 7 allows an attacker ...   \n",
              "2105    Mutt before 1.5.20 patch 7 allows an attacker ...   \n",
              "2106    Mutt before 1.5.20 patch 7 allows an attacker ...   \n",
              "4188    There is a possible tty hijacking in shadow 4....   \n",
              "...                                                   ...   \n",
              "248715  Adobe Media Encoder versions 13.1 and earlier ...   \n",
              "248716  Adobe Illustrator CC versions 23.1 and earlier...   \n",
              "248717  Adobe Illustrator CC versions 23.1 and earlier...   \n",
              "249865  In the Broadcom Wi-Fi driver, there is a possi...   \n",
              "249866  In the Bootloader, there is a possible kernel ...   \n",
              "\n",
              "       access_authentication access_complexity access_vector  \\\n",
              "2103                     NaN               NaN           NaN   \n",
              "2104                     NaN               NaN           NaN   \n",
              "2105                     NaN               NaN           NaN   \n",
              "2106                     NaN               NaN           NaN   \n",
              "4188                     NaN               NaN           NaN   \n",
              "...                      ...               ...           ...   \n",
              "248715                   NaN               NaN           NaN   \n",
              "248716                   NaN               NaN           NaN   \n",
              "248717                   NaN               NaN           NaN   \n",
              "249865                   NaN               NaN           NaN   \n",
              "249866                   NaN               NaN           NaN   \n",
              "\n",
              "       impact_availability impact_confidentiality impact_integrity  \\\n",
              "2103                   NaN                    NaN              NaN   \n",
              "2104                   NaN                    NaN              NaN   \n",
              "2105                   NaN                    NaN              NaN   \n",
              "2106                   NaN                    NaN              NaN   \n",
              "4188                   NaN                    NaN              NaN   \n",
              "...                    ...                    ...              ...   \n",
              "248715                 NaN                    NaN              NaN   \n",
              "248716                 NaN                    NaN              NaN   \n",
              "248717                 NaN                    NaN              NaN   \n",
              "249865                 NaN                    NaN              NaN   \n",
              "249866                 NaN                    NaN              NaN   \n",
              "\n",
              "       vulnerable_product  vendor  \n",
              "2103                 mutt    mutt  \n",
              "2104                 mutt  debian  \n",
              "2105         debian_linux    mutt  \n",
              "2106         debian_linux  debian  \n",
              "4188               shadow  debian  \n",
              "...                   ...     ...  \n",
              "248715      media_encoder   adobe  \n",
              "248716     illustrator_cc   adobe  \n",
              "248717     illustrator_cc   adobe  \n",
              "249865            android  google  \n",
              "249866            android  google  \n",
              "\n",
              "[9376 rows x 15 columns]"
            ],
            "text/html": [
              "\n",
              "  <div id=\"df-c5a1c084-e8aa-4aee-83ea-31fff0e48fd0\" class=\"colab-df-container\">\n",
              "    <div>\n",
              "<style scoped>\n",
              "    .dataframe tbody tr th:only-of-type {\n",
              "        vertical-align: middle;\n",
              "    }\n",
              "\n",
              "    .dataframe tbody tr th {\n",
              "        vertical-align: top;\n",
              "    }\n",
              "\n",
              "    .dataframe thead th {\n",
              "        text-align: right;\n",
              "    }\n",
              "</style>\n",
              "<table border=\"1\" class=\"dataframe\">\n",
              "  <thead>\n",
              "    <tr style=\"text-align: right;\">\n",
              "      <th></th>\n",
              "      <th>Unnamed: 0</th>\n",
              "      <th>mod_date</th>\n",
              "      <th>pub_date</th>\n",
              "      <th>cvss</th>\n",
              "      <th>cwe_code</th>\n",
              "      <th>cwe_name</th>\n",
              "      <th>summary</th>\n",
              "      <th>access_authentication</th>\n",
              "      <th>access_complexity</th>\n",
              "      <th>access_vector</th>\n",
              "      <th>impact_availability</th>\n",
              "      <th>impact_confidentiality</th>\n",
              "      <th>impact_integrity</th>\n",
              "      <th>vulnerable_product</th>\n",
              "      <th>vendor</th>\n",
              "    </tr>\n",
              "  </thead>\n",
              "  <tbody>\n",
              "    <tr>\n",
              "      <th>2103</th>\n",
              "      <td>CVE-2005-2351</td>\n",
              "      <td>2019-11-01 19:22:00</td>\n",
              "      <td>2019-11-01 19:15:00</td>\n",
              "      <td>2.1</td>\n",
              "      <td>668</td>\n",
              "      <td>Exposure of Resource to Wrong Sphere</td>\n",
              "      <td>Mutt before 1.5.20 patch 7 allows an attacker ...</td>\n",
              "      <td>NaN</td>\n",
              "      <td>NaN</td>\n",
              "      <td>NaN</td>\n",
              "      <td>NaN</td>\n",
              "      <td>NaN</td>\n",
              "      <td>NaN</td>\n",
              "      <td>mutt</td>\n",
              "      <td>mutt</td>\n",
              "    </tr>\n",
              "    <tr>\n",
              "      <th>2104</th>\n",
              "      <td>CVE-2005-2351</td>\n",
              "      <td>2019-11-01 19:22:00</td>\n",
              "      <td>2019-11-01 19:15:00</td>\n",
              "      <td>2.1</td>\n",
              "      <td>668</td>\n",
              "      <td>Exposure of Resource to Wrong Sphere</td>\n",
              "      <td>Mutt before 1.5.20 patch 7 allows an attacker ...</td>\n",
              "      <td>NaN</td>\n",
              "      <td>NaN</td>\n",
              "      <td>NaN</td>\n",
              "      <td>NaN</td>\n",
              "      <td>NaN</td>\n",
              "      <td>NaN</td>\n",
              "      <td>mutt</td>\n",
              "      <td>debian</td>\n",
              "    </tr>\n",
              "    <tr>\n",
              "      <th>2105</th>\n",
              "      <td>CVE-2005-2351</td>\n",
              "      <td>2019-11-01 19:22:00</td>\n",
              "      <td>2019-11-01 19:15:00</td>\n",
              "      <td>2.1</td>\n",
              "      <td>668</td>\n",
              "      <td>Exposure of Resource to Wrong Sphere</td>\n",
              "      <td>Mutt before 1.5.20 patch 7 allows an attacker ...</td>\n",
              "      <td>NaN</td>\n",
              "      <td>NaN</td>\n",
              "      <td>NaN</td>\n",
              "      <td>NaN</td>\n",
              "      <td>NaN</td>\n",
              "      <td>NaN</td>\n",
              "      <td>debian_linux</td>\n",
              "      <td>mutt</td>\n",
              "    </tr>\n",
              "    <tr>\n",
              "      <th>2106</th>\n",
              "      <td>CVE-2005-2351</td>\n",
              "      <td>2019-11-01 19:22:00</td>\n",
              "      <td>2019-11-01 19:15:00</td>\n",
              "      <td>2.1</td>\n",
              "      <td>668</td>\n",
              "      <td>Exposure of Resource to Wrong Sphere</td>\n",
              "      <td>Mutt before 1.5.20 patch 7 allows an attacker ...</td>\n",
              "      <td>NaN</td>\n",
              "      <td>NaN</td>\n",
              "      <td>NaN</td>\n",
              "      <td>NaN</td>\n",
              "      <td>NaN</td>\n",
              "      <td>NaN</td>\n",
              "      <td>debian_linux</td>\n",
              "      <td>debian</td>\n",
              "    </tr>\n",
              "    <tr>\n",
              "      <th>4188</th>\n",
              "      <td>CVE-2005-4890</td>\n",
              "      <td>2019-11-04 19:56:00</td>\n",
              "      <td>2019-11-04 19:15:00</td>\n",
              "      <td>7.2</td>\n",
              "      <td>20</td>\n",
              "      <td>Improper Input Validation</td>\n",
              "      <td>There is a possible tty hijacking in shadow 4....</td>\n",
              "      <td>NaN</td>\n",
              "      <td>NaN</td>\n",
              "      <td>NaN</td>\n",
              "      <td>NaN</td>\n",
              "      <td>NaN</td>\n",
              "      <td>NaN</td>\n",
              "      <td>shadow</td>\n",
              "      <td>debian</td>\n",
              "    </tr>\n",
              "    <tr>\n",
              "      <th>...</th>\n",
              "      <td>...</td>\n",
              "      <td>...</td>\n",
              "      <td>...</td>\n",
              "      <td>...</td>\n",
              "      <td>...</td>\n",
              "      <td>...</td>\n",
              "      <td>...</td>\n",
              "      <td>...</td>\n",
              "      <td>...</td>\n",
              "      <td>...</td>\n",
              "      <td>...</td>\n",
              "      <td>...</td>\n",
              "      <td>...</td>\n",
              "      <td>...</td>\n",
              "      <td>...</td>\n",
              "    </tr>\n",
              "    <tr>\n",
              "      <th>248715</th>\n",
              "      <td>CVE-2019-8246</td>\n",
              "      <td>2019-11-14 16:53:00</td>\n",
              "      <td>2019-11-14 16:15:00</td>\n",
              "      <td>10.0</td>\n",
              "      <td>787</td>\n",
              "      <td>Out-of-bounds Write</td>\n",
              "      <td>Adobe Media Encoder versions 13.1 and earlier ...</td>\n",
              "      <td>NaN</td>\n",
              "      <td>NaN</td>\n",
              "      <td>NaN</td>\n",
              "      <td>NaN</td>\n",
              "      <td>NaN</td>\n",
              "      <td>NaN</td>\n",
              "      <td>media_encoder</td>\n",
              "      <td>adobe</td>\n",
              "    </tr>\n",
              "    <tr>\n",
              "      <th>248716</th>\n",
              "      <td>CVE-2019-8247</td>\n",
              "      <td>2019-11-14 16:53:00</td>\n",
              "      <td>2019-11-14 16:15:00</td>\n",
              "      <td>10.0</td>\n",
              "      <td>119</td>\n",
              "      <td>Improper Restriction of Operations within the...</td>\n",
              "      <td>Adobe Illustrator CC versions 23.1 and earlier...</td>\n",
              "      <td>NaN</td>\n",
              "      <td>NaN</td>\n",
              "      <td>NaN</td>\n",
              "      <td>NaN</td>\n",
              "      <td>NaN</td>\n",
              "      <td>NaN</td>\n",
              "      <td>illustrator_cc</td>\n",
              "      <td>adobe</td>\n",
              "    </tr>\n",
              "    <tr>\n",
              "      <th>248717</th>\n",
              "      <td>CVE-2019-8248</td>\n",
              "      <td>2019-11-14 16:53:00</td>\n",
              "      <td>2019-11-14 16:15:00</td>\n",
              "      <td>10.0</td>\n",
              "      <td>119</td>\n",
              "      <td>Improper Restriction of Operations within the...</td>\n",
              "      <td>Adobe Illustrator CC versions 23.1 and earlier...</td>\n",
              "      <td>NaN</td>\n",
              "      <td>NaN</td>\n",
              "      <td>NaN</td>\n",
              "      <td>NaN</td>\n",
              "      <td>NaN</td>\n",
              "      <td>NaN</td>\n",
              "      <td>illustrator_cc</td>\n",
              "      <td>adobe</td>\n",
              "    </tr>\n",
              "    <tr>\n",
              "      <th>249865</th>\n",
              "      <td>CVE-2019-9466</td>\n",
              "      <td>2019-11-13 20:22:00</td>\n",
              "      <td>2019-11-13 20:15:00</td>\n",
              "      <td>7.5</td>\n",
              "      <td>20</td>\n",
              "      <td>Improper Input Validation</td>\n",
              "      <td>In the Broadcom Wi-Fi driver, there is a possi...</td>\n",
              "      <td>NaN</td>\n",
              "      <td>NaN</td>\n",
              "      <td>NaN</td>\n",
              "      <td>NaN</td>\n",
              "      <td>NaN</td>\n",
              "      <td>NaN</td>\n",
              "      <td>android</td>\n",
              "      <td>google</td>\n",
              "    </tr>\n",
              "    <tr>\n",
              "      <th>249866</th>\n",
              "      <td>CVE-2019-9467</td>\n",
              "      <td>2019-11-13 20:22:00</td>\n",
              "      <td>2019-11-13 20:15:00</td>\n",
              "      <td>7.2</td>\n",
              "      <td>78</td>\n",
              "      <td>Improper Neutralization of Special Elements u...</td>\n",
              "      <td>In the Bootloader, there is a possible kernel ...</td>\n",
              "      <td>NaN</td>\n",
              "      <td>NaN</td>\n",
              "      <td>NaN</td>\n",
              "      <td>NaN</td>\n",
              "      <td>NaN</td>\n",
              "      <td>NaN</td>\n",
              "      <td>android</td>\n",
              "      <td>google</td>\n",
              "    </tr>\n",
              "  </tbody>\n",
              "</table>\n",
              "<p>9376 rows × 15 columns</p>\n",
              "</div>\n",
              "    <div class=\"colab-df-buttons\">\n",
              "\n",
              "  <div class=\"colab-df-container\">\n",
              "    <button class=\"colab-df-convert\" onclick=\"convertToInteractive('df-c5a1c084-e8aa-4aee-83ea-31fff0e48fd0')\"\n",
              "            title=\"Convert this dataframe to an interactive table.\"\n",
              "            style=\"display:none;\">\n",
              "\n",
              "  <svg xmlns=\"http://www.w3.org/2000/svg\" height=\"24px\" viewBox=\"0 -960 960 960\">\n",
              "    <path d=\"M120-120v-720h720v720H120Zm60-500h600v-160H180v160Zm220 220h160v-160H400v160Zm0 220h160v-160H400v160ZM180-400h160v-160H180v160Zm440 0h160v-160H620v160ZM180-180h160v-160H180v160Zm440 0h160v-160H620v160Z\"/>\n",
              "  </svg>\n",
              "    </button>\n",
              "\n",
              "  <style>\n",
              "    .colab-df-container {\n",
              "      display:flex;\n",
              "      gap: 12px;\n",
              "    }\n",
              "\n",
              "    .colab-df-convert {\n",
              "      background-color: #E8F0FE;\n",
              "      border: none;\n",
              "      border-radius: 50%;\n",
              "      cursor: pointer;\n",
              "      display: none;\n",
              "      fill: #1967D2;\n",
              "      height: 32px;\n",
              "      padding: 0 0 0 0;\n",
              "      width: 32px;\n",
              "    }\n",
              "\n",
              "    .colab-df-convert:hover {\n",
              "      background-color: #E2EBFA;\n",
              "      box-shadow: 0px 1px 2px rgba(60, 64, 67, 0.3), 0px 1px 3px 1px rgba(60, 64, 67, 0.15);\n",
              "      fill: #174EA6;\n",
              "    }\n",
              "\n",
              "    .colab-df-buttons div {\n",
              "      margin-bottom: 4px;\n",
              "    }\n",
              "\n",
              "    [theme=dark] .colab-df-convert {\n",
              "      background-color: #3B4455;\n",
              "      fill: #D2E3FC;\n",
              "    }\n",
              "\n",
              "    [theme=dark] .colab-df-convert:hover {\n",
              "      background-color: #434B5C;\n",
              "      box-shadow: 0px 1px 3px 1px rgba(0, 0, 0, 0.15);\n",
              "      filter: drop-shadow(0px 1px 2px rgba(0, 0, 0, 0.3));\n",
              "      fill: #FFFFFF;\n",
              "    }\n",
              "  </style>\n",
              "\n",
              "    <script>\n",
              "      const buttonEl =\n",
              "        document.querySelector('#df-c5a1c084-e8aa-4aee-83ea-31fff0e48fd0 button.colab-df-convert');\n",
              "      buttonEl.style.display =\n",
              "        google.colab.kernel.accessAllowed ? 'block' : 'none';\n",
              "\n",
              "      async function convertToInteractive(key) {\n",
              "        const element = document.querySelector('#df-c5a1c084-e8aa-4aee-83ea-31fff0e48fd0');\n",
              "        const dataTable =\n",
              "          await google.colab.kernel.invokeFunction('convertToInteractive',\n",
              "                                                    [key], {});\n",
              "        if (!dataTable) return;\n",
              "\n",
              "        const docLinkHtml = 'Like what you see? Visit the ' +\n",
              "          '<a target=\"_blank\" href=https://colab.research.google.com/notebooks/data_table.ipynb>data table notebook</a>'\n",
              "          + ' to learn more about interactive tables.';\n",
              "        element.innerHTML = '';\n",
              "        dataTable['output_type'] = 'display_data';\n",
              "        await google.colab.output.renderOutput(dataTable, element);\n",
              "        const docLink = document.createElement('div');\n",
              "        docLink.innerHTML = docLinkHtml;\n",
              "        element.appendChild(docLink);\n",
              "      }\n",
              "    </script>\n",
              "  </div>\n",
              "\n",
              "\n",
              "<div id=\"df-e6fc2f69-84d7-43cd-84c0-90c59714af42\">\n",
              "  <button class=\"colab-df-quickchart\" onclick=\"quickchart('df-e6fc2f69-84d7-43cd-84c0-90c59714af42')\"\n",
              "            title=\"Suggest charts.\"\n",
              "            style=\"display:none;\">\n",
              "\n",
              "<svg xmlns=\"http://www.w3.org/2000/svg\" height=\"24px\"viewBox=\"0 0 24 24\"\n",
              "     width=\"24px\">\n",
              "    <g>\n",
              "        <path d=\"M19 3H5c-1.1 0-2 .9-2 2v14c0 1.1.9 2 2 2h14c1.1 0 2-.9 2-2V5c0-1.1-.9-2-2-2zM9 17H7v-7h2v7zm4 0h-2V7h2v10zm4 0h-2v-4h2v4z\"/>\n",
              "    </g>\n",
              "</svg>\n",
              "  </button>\n",
              "\n",
              "<style>\n",
              "  .colab-df-quickchart {\n",
              "      --bg-color: #E8F0FE;\n",
              "      --fill-color: #1967D2;\n",
              "      --hover-bg-color: #E2EBFA;\n",
              "      --hover-fill-color: #174EA6;\n",
              "      --disabled-fill-color: #AAA;\n",
              "      --disabled-bg-color: #DDD;\n",
              "  }\n",
              "\n",
              "  [theme=dark] .colab-df-quickchart {\n",
              "      --bg-color: #3B4455;\n",
              "      --fill-color: #D2E3FC;\n",
              "      --hover-bg-color: #434B5C;\n",
              "      --hover-fill-color: #FFFFFF;\n",
              "      --disabled-bg-color: #3B4455;\n",
              "      --disabled-fill-color: #666;\n",
              "  }\n",
              "\n",
              "  .colab-df-quickchart {\n",
              "    background-color: var(--bg-color);\n",
              "    border: none;\n",
              "    border-radius: 50%;\n",
              "    cursor: pointer;\n",
              "    display: none;\n",
              "    fill: var(--fill-color);\n",
              "    height: 32px;\n",
              "    padding: 0;\n",
              "    width: 32px;\n",
              "  }\n",
              "\n",
              "  .colab-df-quickchart:hover {\n",
              "    background-color: var(--hover-bg-color);\n",
              "    box-shadow: 0 1px 2px rgba(60, 64, 67, 0.3), 0 1px 3px 1px rgba(60, 64, 67, 0.15);\n",
              "    fill: var(--button-hover-fill-color);\n",
              "  }\n",
              "\n",
              "  .colab-df-quickchart-complete:disabled,\n",
              "  .colab-df-quickchart-complete:disabled:hover {\n",
              "    background-color: var(--disabled-bg-color);\n",
              "    fill: var(--disabled-fill-color);\n",
              "    box-shadow: none;\n",
              "  }\n",
              "\n",
              "  .colab-df-spinner {\n",
              "    border: 2px solid var(--fill-color);\n",
              "    border-color: transparent;\n",
              "    border-bottom-color: var(--fill-color);\n",
              "    animation:\n",
              "      spin 1s steps(1) infinite;\n",
              "  }\n",
              "\n",
              "  @keyframes spin {\n",
              "    0% {\n",
              "      border-color: transparent;\n",
              "      border-bottom-color: var(--fill-color);\n",
              "      border-left-color: var(--fill-color);\n",
              "    }\n",
              "    20% {\n",
              "      border-color: transparent;\n",
              "      border-left-color: var(--fill-color);\n",
              "      border-top-color: var(--fill-color);\n",
              "    }\n",
              "    30% {\n",
              "      border-color: transparent;\n",
              "      border-left-color: var(--fill-color);\n",
              "      border-top-color: var(--fill-color);\n",
              "      border-right-color: var(--fill-color);\n",
              "    }\n",
              "    40% {\n",
              "      border-color: transparent;\n",
              "      border-right-color: var(--fill-color);\n",
              "      border-top-color: var(--fill-color);\n",
              "    }\n",
              "    60% {\n",
              "      border-color: transparent;\n",
              "      border-right-color: var(--fill-color);\n",
              "    }\n",
              "    80% {\n",
              "      border-color: transparent;\n",
              "      border-right-color: var(--fill-color);\n",
              "      border-bottom-color: var(--fill-color);\n",
              "    }\n",
              "    90% {\n",
              "      border-color: transparent;\n",
              "      border-bottom-color: var(--fill-color);\n",
              "    }\n",
              "  }\n",
              "</style>\n",
              "\n",
              "  <script>\n",
              "    async function quickchart(key) {\n",
              "      const quickchartButtonEl =\n",
              "        document.querySelector('#' + key + ' button');\n",
              "      quickchartButtonEl.disabled = true;  // To prevent multiple clicks.\n",
              "      quickchartButtonEl.classList.add('colab-df-spinner');\n",
              "      try {\n",
              "        const charts = await google.colab.kernel.invokeFunction(\n",
              "            'suggestCharts', [key], {});\n",
              "      } catch (error) {\n",
              "        console.error('Error during call to suggestCharts:', error);\n",
              "      }\n",
              "      quickchartButtonEl.classList.remove('colab-df-spinner');\n",
              "      quickchartButtonEl.classList.add('colab-df-quickchart-complete');\n",
              "    }\n",
              "    (() => {\n",
              "      let quickchartButtonEl =\n",
              "        document.querySelector('#df-e6fc2f69-84d7-43cd-84c0-90c59714af42 button');\n",
              "      quickchartButtonEl.style.display =\n",
              "        google.colab.kernel.accessAllowed ? 'block' : 'none';\n",
              "    })();\n",
              "  </script>\n",
              "</div>\n",
              "    </div>\n",
              "  </div>\n"
            ]
          },
          "metadata": {},
          "execution_count": 30
        }
      ]
    },
    {
      "cell_type": "markdown",
      "source": [
        "Debemos limpiar nuestro conjunto de datos de los valores faltantes,sospechamos de que todos los nan de las variables que usaremos como features coinciden por lo que no aportarán mucha información si las eliminamos, recordemos que tenemos en ambos casos de las columnas categóricas 9373 datos, por lo que si eliminamos estos registros estaremos eliminando $\\frac{9373}{251380}=0,037%$ es decir, $3,7$ % de los datos, lo cual es un porcentaje de los datos bastante pequeño"
      ],
      "metadata": {
        "id": "-h71pVIl53Fg"
      }
    },
    {
      "cell_type": "code",
      "source": [
        "df_features = df[['cvss','access_complexity','impact_availability']]"
      ],
      "metadata": {
        "id": "kGaoseIF5yLi"
      },
      "execution_count": 31,
      "outputs": []
    },
    {
      "cell_type": "code",
      "source": [
        "df_features.dropna(subset=['access_complexity'], inplace=True)"
      ],
      "metadata": {
        "colab": {
          "base_uri": "https://localhost:8080/"
        },
        "id": "d5dHB05r6RDe",
        "outputId": "04e6ee28-ab2a-4acf-f9e7-b02aa84b329f"
      },
      "execution_count": 32,
      "outputs": [
        {
          "output_type": "stream",
          "name": "stderr",
          "text": [
            "<ipython-input-32-16bdbf047241>:1: SettingWithCopyWarning: \n",
            "A value is trying to be set on a copy of a slice from a DataFrame\n",
            "\n",
            "See the caveats in the documentation: https://pandas.pydata.org/pandas-docs/stable/user_guide/indexing.html#returning-a-view-versus-a-copy\n",
            "  df_features.dropna(subset=['access_complexity'], inplace=True)\n"
          ]
        }
      ]
    },
    {
      "cell_type": "code",
      "source": [
        "df_features.shape"
      ],
      "metadata": {
        "colab": {
          "base_uri": "https://localhost:8080/"
        },
        "id": "60UyFTE99vfq",
        "outputId": "9abb87e9-84c5-4a54-a210-8d2a4e6bc5a6"
      },
      "execution_count": 33,
      "outputs": [
        {
          "output_type": "execute_result",
          "data": {
            "text/plain": [
              "(242004, 3)"
            ]
          },
          "metadata": {},
          "execution_count": 33
        }
      ]
    },
    {
      "cell_type": "code",
      "source": [
        "df_features.isnull().sum()"
      ],
      "metadata": {
        "colab": {
          "base_uri": "https://localhost:8080/"
        },
        "id": "dz72J9ye9y17",
        "outputId": "81980ee6-3b6d-4fe8-f3a1-e1bda0fbb993"
      },
      "execution_count": 34,
      "outputs": [
        {
          "output_type": "execute_result",
          "data": {
            "text/plain": [
              "cvss                   0\n",
              "access_complexity      0\n",
              "impact_availability    0\n",
              "dtype: int64"
            ]
          },
          "metadata": {},
          "execution_count": 34
        }
      ]
    },
    {
      "cell_type": "markdown",
      "source": [
        "Ya no tenemos valores faltantes y tenemos ahora un conjunto de datos con 242004 registros, sigue siendo un buen número de información. Ya tenemos nuestro dataset limpio y isto para el clustering"
      ],
      "metadata": {
        "id": "8udOncXx_Ex9"
      }
    },
    {
      "cell_type": "markdown",
      "source": [
        "# **Diseñando Algoritmo de Clustering**\n",
        "\n",
        "Lo primero que tenemos que hacer en esta fase es elegir la cantidad de clusters o grupos. Para esto utilizaremos un proceso conocido como el método del codo el cuál consiste en minimizar la variacion dentro de cada cluster. Entonces el k óptimo es un valor tal que los datos agrupados son lo más homogeneos posible. Este método es conocido como el método del codo porque la forma del gráfico es similar a un 'brazo' y el análisis cualitativo nos permitirá elegir el valor de k más similar a un 'codo' de una persona"
      ],
      "metadata": {
        "id": "ckgpzKeF_szV"
      }
    },
    {
      "cell_type": "code",
      "source": [
        "#df_features"
      ],
      "metadata": {
        "id": "qE_O6k9sDcQ-"
      },
      "execution_count": 35,
      "outputs": []
    },
    {
      "cell_type": "code",
      "source": [
        "# No necesitamos escalar nuestra variable numérica dado que no tenemos más variables numéricas con las que comparar.\n",
        "#scaler = StandardScaler()\n",
        "#df_features['cvss'] = scaler.fit_transform(df_features['cvss']values.reshape(-1, 1))\n",
        "\n",
        "# Definimos un rango de número de clusters para probar\n",
        "num_clusters_range = range(1, 8)\n",
        "\n",
        "# Calcular la inercia para diferentes números de clusters\n",
        "inercia = []\n",
        "i=1\n",
        "for num_clusters in num_clusters_range:\n",
        "    try:\n",
        "        kproto = KPrototypes(n_clusters=num_clusters, init='Cao')\n",
        "        X = df_features[['cvss','access_complexity','impact_availability']].values\n",
        "        clusters = kproto.fit_predict(X, categorical=[1, 2])\n",
        "        inercia.append(kproto.cost_)\n",
        "    except Exception as e:\n",
        "        print(f\"Error con {num_clusters} clusters: {str(e)}\")\n",
        "\n",
        "    print(i)\n",
        "    i+=1\n",
        "\n",
        "# Crear un gráfico del método del codo\n",
        "plt.figure(figsize=(8, 6))\n",
        "plt.plot(num_clusters_range, inercia, marker='o')\n",
        "plt.title('Método del Codo (KPrototypes)')\n",
        "plt.xlabel('Número de Clusters')\n",
        "plt.ylabel('Inercia')\n",
        "plt.xticks(num_clusters_range)\n",
        "plt.grid(True)\n",
        "plt.show()"
      ],
      "metadata": {
        "colab": {
          "base_uri": "https://localhost:8080/",
          "height": 686
        },
        "id": "VKssBakuBAZI",
        "outputId": "ef871bad-b62d-46b8-be63-7a6aa2fc1342"
      },
      "execution_count": 36,
      "outputs": [
        {
          "output_type": "stream",
          "name": "stdout",
          "text": [
            "1\n",
            "2\n",
            "3\n",
            "4\n",
            "5\n",
            "6\n",
            "7\n"
          ]
        },
        {
          "output_type": "display_data",
          "data": {
            "text/plain": [
              "<Figure size 800x600 with 1 Axes>"
            ],
            "image/png": "[encoded data removed]"
          },
          "metadata": {}
        }
      ]
    },
    {
      "cell_type": "markdown",
      "source": [
        "Nota: Para elegir $k$ debemos recordar que tenemos que elegir el valor a partir del cual haya una variación pequeña en la inercia respecto al número de clusters. este valor debe tomarse de tal manera que los datos sean lo más homogeneos posibles en los cluster y no tan grande como para no tener exceso de clusters que no aproten información nueva y relevante por grupo."
      ],
      "metadata": {
        "id": "sKT4_cVMzDyG"
      }
    },
    {
      "cell_type": "markdown",
      "source": [
        "La cantidad optima de clusters es $k=3$"
      ],
      "metadata": {
        "id": "AZ_jY7N8nlAW"
      }
    },
    {
      "cell_type": "code",
      "source": [
        "# Iniciemos el algoritmo entonces con k=3\n",
        "kproto = KPrototypes(n_clusters=3, init='Cao')\n",
        "X = df_features[['cvss','access_complexity','impact_availability']].values\n",
        "clusters = kproto.fit_predict(X, categorical=[1, 2])\n",
        "inercia.append(kproto.cost_)"
      ],
      "metadata": {
        "id": "9Ps4BAgdB8Qt"
      },
      "execution_count": 37,
      "outputs": []
    },
    {
      "cell_type": "markdown",
      "source": [
        "En el código anterior inicializamos los centroides correspondientes a las categorías aleatoriamente, existen otros métodos como Huang que inicializa las variables categóricas teniendo en cuenta las frecuencias y random inicializa todo de forma aleatoria, random es útil para probar la estabilidad de los cluster"
      ],
      "metadata": {
        "id": "hP0r8mU_2ACX"
      }
    },
    {
      "cell_type": "code",
      "source": [
        "df_features['Cluster'] = clusters"
      ],
      "metadata": {
        "colab": {
          "base_uri": "https://localhost:8080/"
        },
        "id": "apzoDeRrnp25",
        "outputId": "b8e11969-13e0-4333-92b9-7af3e86eac9d"
      },
      "execution_count": 38,
      "outputs": [
        {
          "output_type": "stream",
          "name": "stderr",
          "text": [
            "<ipython-input-38-a15eeea2cf5a>:1: SettingWithCopyWarning: \n",
            "A value is trying to be set on a copy of a slice from a DataFrame.\n",
            "Try using .loc[row_indexer,col_indexer] = value instead\n",
            "\n",
            "See the caveats in the documentation: https://pandas.pydata.org/pandas-docs/stable/user_guide/indexing.html#returning-a-view-versus-a-copy\n",
            "  df_features['Cluster'] = clusters\n"
          ]
        }
      ]
    },
    {
      "cell_type": "code",
      "source": [
        "import seaborn as sns\n",
        "import matplotlib.pyplot as plt\n",
        "\n",
        "# Supongamos que tienes un DataFrame llamado \"Data\" con las columnas \"impact_availability\" y \"clusters\"\n",
        "# y \"clusters\" contiene los valores 0, 1 y 2\n",
        "\n",
        "# Gráfico countplot por impact_availability\n",
        "plt.figure(figsize=(10, 3))\n",
        "sns.histplot(data = df_features , x = 'cvss',bins=10,hue='Cluster',palette = [\"yellow\", \"red\", \"orange\"],alpha=1,\n",
        "             linewidth=2)\n",
        "#sns.countplot(data=Data, x='impact_availability', hue='clusters')\n",
        "plt.title('Histograma del cvss por cluster',size=20)\n",
        "plt.xlabel('Valores cvss',size=12)\n",
        "plt.ylabel('Frecuencia cvss',size=12)\n",
        "plt.show()"
      ],
      "metadata": {
        "colab": {
          "base_uri": "https://localhost:8080/",
          "height": 340
        },
        "id": "P6Z5gBOvtyho",
        "outputId": "11afcafa-f0fc-4e47-b721-c67c1b48f1ad"
      },
      "execution_count": 51,
      "outputs": [
        {
          "output_type": "display_data",
          "data": {
            "text/plain": [
              "<Figure size 1000x300 with 1 Axes>"
            ],
            "image/png": "[encoded data removed]"
          },
          "metadata": {}
        }
      ]
    },
    {
      "cell_type": "markdown",
      "source": [
        "Debemos recordar que los números en los clusters son etiquetas nominales, no ordinales, por tanto aquí podemos empezar a interpretar la agrupación.\n",
        "\n",
        "$k=1$ es un grupo que contiene los puntajes más bajos de cvss\n",
        "\n",
        "$k=0$ es un grupo que contiene los puntajes intermedios del cvss\n",
        "\n",
        "$k=2$ es un grupo que contiene los puntajes más altos de cvss, correspondiente a las vulreabilidades más riesgosas"
      ],
      "metadata": {
        "id": "Vvljl3rO61Pp"
      }
    },
    {
      "cell_type": "code",
      "source": [
        "# media de los datos numericos por cluster\n",
        "df_features.groupby(['Cluster']).mean()"
      ],
      "metadata": {
        "colab": {
          "base_uri": "https://localhost:8080/",
          "height": 229
        },
        "id": "cY2o938ly1dL",
        "outputId": "58140104-c4c4-48d2-ac5f-df8587f98240"
      },
      "execution_count": 52,
      "outputs": [
        {
          "output_type": "stream",
          "name": "stderr",
          "text": [
            "<ipython-input-52-a1f8531a04c1>:2: FutureWarning: The default value of numeric_only in DataFrameGroupBy.mean is deprecated. In a future version, numeric_only will default to False. Either specify numeric_only or select only columns which should be valid for the function.\n",
            "  df_features.groupby(['Cluster']).mean()\n"
          ]
        },
        {
          "output_type": "execute_result",
          "data": {
            "text/plain": [
              "             cvss\n",
              "Cluster          \n",
              "0        4.306382\n",
              "1        9.519743\n",
              "2        7.102025"
            ],
            "text/html": [
              "\n",
              "  <div id=\"df-f3372d04-2dcb-461b-abaa-be193f5cb326\" class=\"colab-df-container\">\n",
              "    <div>\n",
              "<style scoped>\n",
              "    .dataframe tbody tr th:only-of-type {\n",
              "        vertical-align: middle;\n",
              "    }\n",
              "\n",
              "    .dataframe tbody tr th {\n",
              "        vertical-align: top;\n",
              "    }\n",
              "\n",
              "    .dataframe thead th {\n",
              "        text-align: right;\n",
              "    }\n",
              "</style>\n",
              "<table border=\"1\" class=\"dataframe\">\n",
              "  <thead>\n",
              "    <tr style=\"text-align: right;\">\n",
              "      <th></th>\n",
              "      <th>cvss</th>\n",
              "    </tr>\n",
              "    <tr>\n",
              "      <th>Cluster</th>\n",
              "      <th></th>\n",
              "    </tr>\n",
              "  </thead>\n",
              "  <tbody>\n",
              "    <tr>\n",
              "      <th>0</th>\n",
              "      <td>4.306382</td>\n",
              "    </tr>\n",
              "    <tr>\n",
              "      <th>1</th>\n",
              "      <td>9.519743</td>\n",
              "    </tr>\n",
              "    <tr>\n",
              "      <th>2</th>\n",
              "      <td>7.102025</td>\n",
              "    </tr>\n",
              "  </tbody>\n",
              "</table>\n",
              "</div>\n",
              "    <div class=\"colab-df-buttons\">\n",
              "\n",
              "  <div class=\"colab-df-container\">\n",
              "    <button class=\"colab-df-convert\" onclick=\"convertToInteractive('df-f3372d04-2dcb-461b-abaa-be193f5cb326')\"\n",
              "            title=\"Convert this dataframe to an interactive table.\"\n",
              "            style=\"display:none;\">\n",
              "\n",
              "  <svg xmlns=\"http://www.w3.org/2000/svg\" height=\"24px\" viewBox=\"0 -960 960 960\">\n",
              "    <path d=\"M120-120v-720h720v720H120Zm60-500h600v-160H180v160Zm220 220h160v-160H400v160Zm0 220h160v-160H400v160ZM180-400h160v-160H180v160Zm440 0h160v-160H620v160ZM180-180h160v-160H180v160Zm440 0h160v-160H620v160Z\"/>\n",
              "  </svg>\n",
              "    </button>\n",
              "\n",
              "  <style>\n",
              "    .colab-df-container {\n",
              "      display:flex;\n",
              "      gap: 12px;\n",
              "    }\n",
              "\n",
              "    .colab-df-convert {\n",
              "      background-color: #E8F0FE;\n",
              "      border: none;\n",
              "      border-radius: 50%;\n",
              "      cursor: pointer;\n",
              "      display: none;\n",
              "      fill: #1967D2;\n",
              "      height: 32px;\n",
              "      padding: 0 0 0 0;\n",
              "      width: 32px;\n",
              "    }\n",
              "\n",
              "    .colab-df-convert:hover {\n",
              "      background-color: #E2EBFA;\n",
              "      box-shadow: 0px 1px 2px rgba(60, 64, 67, 0.3), 0px 1px 3px 1px rgba(60, 64, 67, 0.15);\n",
              "      fill: #174EA6;\n",
              "    }\n",
              "\n",
              "    .colab-df-buttons div {\n",
              "      margin-bottom: 4px;\n",
              "    }\n",
              "\n",
              "    [theme=dark] .colab-df-convert {\n",
              "      background-color: #3B4455;\n",
              "      fill: #D2E3FC;\n",
              "    }\n",
              "\n",
              "    [theme=dark] .colab-df-convert:hover {\n",
              "      background-color: #434B5C;\n",
              "      box-shadow: 0px 1px 3px 1px rgba(0, 0, 0, 0.15);\n",
              "      filter: drop-shadow(0px 1px 2px rgba(0, 0, 0, 0.3));\n",
              "      fill: #FFFFFF;\n",
              "    }\n",
              "  </style>\n",
              "\n",
              "    <script>\n",
              "      const buttonEl =\n",
              "        document.querySelector('#df-f3372d04-2dcb-461b-abaa-be193f5cb326 button.colab-df-convert');\n",
              "      buttonEl.style.display =\n",
              "        google.colab.kernel.accessAllowed ? 'block' : 'none';\n",
              "\n",
              "      async function convertToInteractive(key) {\n",
              "        const element = document.querySelector('#df-f3372d04-2dcb-461b-abaa-be193f5cb326');\n",
              "        const dataTable =\n",
              "          await google.colab.kernel.invokeFunction('convertToInteractive',\n",
              "                                                    [key], {});\n",
              "        if (!dataTable) return;\n",
              "\n",
              "        const docLinkHtml = 'Like what you see? Visit the ' +\n",
              "          '<a target=\"_blank\" href=https://colab.research.google.com/notebooks/data_table.ipynb>data table notebook</a>'\n",
              "          + ' to learn more about interactive tables.';\n",
              "        element.innerHTML = '';\n",
              "        dataTable['output_type'] = 'display_data';\n",
              "        await google.colab.output.renderOutput(dataTable, element);\n",
              "        const docLink = document.createElement('div');\n",
              "        docLink.innerHTML = docLinkHtml;\n",
              "        element.appendChild(docLink);\n",
              "      }\n",
              "    </script>\n",
              "  </div>\n",
              "\n",
              "\n",
              "<div id=\"df-973e952e-c98a-4707-9718-65014f9bee56\">\n",
              "  <button class=\"colab-df-quickchart\" onclick=\"quickchart('df-973e952e-c98a-4707-9718-65014f9bee56')\"\n",
              "            title=\"Suggest charts.\"\n",
              "            style=\"display:none;\">\n",
              "\n",
              "<svg xmlns=\"http://www.w3.org/2000/svg\" height=\"24px\"viewBox=\"0 0 24 24\"\n",
              "     width=\"24px\">\n",
              "    <g>\n",
              "        <path d=\"M19 3H5c-1.1 0-2 .9-2 2v14c0 1.1.9 2 2 2h14c1.1 0 2-.9 2-2V5c0-1.1-.9-2-2-2zM9 17H7v-7h2v7zm4 0h-2V7h2v10zm4 0h-2v-4h2v4z\"/>\n",
              "    </g>\n",
              "</svg>\n",
              "  </button>\n",
              "\n",
              "<style>\n",
              "  .colab-df-quickchart {\n",
              "      --bg-color: #E8F0FE;\n",
              "      --fill-color: #1967D2;\n",
              "      --hover-bg-color: #E2EBFA;\n",
              "      --hover-fill-color: #174EA6;\n",
              "      --disabled-fill-color: #AAA;\n",
              "      --disabled-bg-color: #DDD;\n",
              "  }\n",
              "\n",
              "  [theme=dark] .colab-df-quickchart {\n",
              "      --bg-color: #3B4455;\n",
              "      --fill-color: #D2E3FC;\n",
              "      --hover-bg-color: #434B5C;\n",
              "      --hover-fill-color: #FFFFFF;\n",
              "      --disabled-bg-color: #3B4455;\n",
              "      --disabled-fill-color: #666;\n",
              "  }\n",
              "\n",
              "  .colab-df-quickchart {\n",
              "    background-color: var(--bg-color);\n",
              "    border: none;\n",
              "    border-radius: 50%;\n",
              "    cursor: pointer;\n",
              "    display: none;\n",
              "    fill: var(--fill-color);\n",
              "    height: 32px;\n",
              "    padding: 0;\n",
              "    width: 32px;\n",
              "  }\n",
              "\n",
              "  .colab-df-quickchart:hover {\n",
              "    background-color: var(--hover-bg-color);\n",
              "    box-shadow: 0 1px 2px rgba(60, 64, 67, 0.3), 0 1px 3px 1px rgba(60, 64, 67, 0.15);\n",
              "    fill: var(--button-hover-fill-color);\n",
              "  }\n",
              "\n",
              "  .colab-df-quickchart-complete:disabled,\n",
              "  .colab-df-quickchart-complete:disabled:hover {\n",
              "    background-color: var(--disabled-bg-color);\n",
              "    fill: var(--disabled-fill-color);\n",
              "    box-shadow: none;\n",
              "  }\n",
              "\n",
              "  .colab-df-spinner {\n",
              "    border: 2px solid var(--fill-color);\n",
              "    border-color: transparent;\n",
              "    border-bottom-color: var(--fill-color);\n",
              "    animation:\n",
              "      spin 1s steps(1) infinite;\n",
              "  }\n",
              "\n",
              "  @keyframes spin {\n",
              "    0% {\n",
              "      border-color: transparent;\n",
              "      border-bottom-color: var(--fill-color);\n",
              "      border-left-color: var(--fill-color);\n",
              "    }\n",
              "    20% {\n",
              "      border-color: transparent;\n",
              "      border-left-color: var(--fill-color);\n",
              "      border-top-color: var(--fill-color);\n",
              "    }\n",
              "    30% {\n",
              "      border-color: transparent;\n",
              "      border-left-color: var(--fill-color);\n",
              "      border-top-color: var(--fill-color);\n",
              "      border-right-color: var(--fill-color);\n",
              "    }\n",
              "    40% {\n",
              "      border-color: transparent;\n",
              "      border-right-color: var(--fill-color);\n",
              "      border-top-color: var(--fill-color);\n",
              "    }\n",
              "    60% {\n",
              "      border-color: transparent;\n",
              "      border-right-color: var(--fill-color);\n",
              "    }\n",
              "    80% {\n",
              "      border-color: transparent;\n",
              "      border-right-color: var(--fill-color);\n",
              "      border-bottom-color: var(--fill-color);\n",
              "    }\n",
              "    90% {\n",
              "      border-color: transparent;\n",
              "      border-bottom-color: var(--fill-color);\n",
              "    }\n",
              "  }\n",
              "</style>\n",
              "\n",
              "  <script>\n",
              "    async function quickchart(key) {\n",
              "      const quickchartButtonEl =\n",
              "        document.querySelector('#' + key + ' button');\n",
              "      quickchartButtonEl.disabled = true;  // To prevent multiple clicks.\n",
              "      quickchartButtonEl.classList.add('colab-df-spinner');\n",
              "      try {\n",
              "        const charts = await google.colab.kernel.invokeFunction(\n",
              "            'suggestCharts', [key], {});\n",
              "      } catch (error) {\n",
              "        console.error('Error during call to suggestCharts:', error);\n",
              "      }\n",
              "      quickchartButtonEl.classList.remove('colab-df-spinner');\n",
              "      quickchartButtonEl.classList.add('colab-df-quickchart-complete');\n",
              "    }\n",
              "    (() => {\n",
              "      let quickchartButtonEl =\n",
              "        document.querySelector('#df-973e952e-c98a-4707-9718-65014f9bee56 button');\n",
              "      quickchartButtonEl.style.display =\n",
              "        google.colab.kernel.accessAllowed ? 'block' : 'none';\n",
              "    })();\n",
              "  </script>\n",
              "</div>\n",
              "    </div>\n",
              "  </div>\n"
            ]
          },
          "metadata": {},
          "execution_count": 52
        }
      ]
    },
    {
      "cell_type": "code",
      "source": [
        "df_features.groupby(['Cluster']).agg(lambda x: pd.Series.mode(x).iat[0])[['access_complexity','impact_availability']]"
      ],
      "metadata": {
        "colab": {
          "base_uri": "https://localhost:8080/",
          "height": 174
        },
        "id": "o0nCtMWPt_X-",
        "outputId": "e410b3dc-9850-4066-b52c-fbfb83b3f219"
      },
      "execution_count": 53,
      "outputs": [
        {
          "output_type": "execute_result",
          "data": {
            "text/plain": [
              "        access_complexity impact_availability\n",
              "Cluster                                      \n",
              "0                     LOW                NONE\n",
              "1                     LOW            COMPLETE\n",
              "2                     LOW             PARTIAL"
            ],
            "text/html": [
              "\n",
              "  <div id=\"df-1cd94c59-35ee-47d9-8791-413b719f9630\" class=\"colab-df-container\">\n",
              "    <div>\n",
              "<style scoped>\n",
              "    .dataframe tbody tr th:only-of-type {\n",
              "        vertical-align: middle;\n",
              "    }\n",
              "\n",
              "    .dataframe tbody tr th {\n",
              "        vertical-align: top;\n",
              "    }\n",
              "\n",
              "    .dataframe thead th {\n",
              "        text-align: right;\n",
              "    }\n",
              "</style>\n",
              "<table border=\"1\" class=\"dataframe\">\n",
              "  <thead>\n",
              "    <tr style=\"text-align: right;\">\n",
              "      <th></th>\n",
              "      <th>access_complexity</th>\n",
              "      <th>impact_availability</th>\n",
              "    </tr>\n",
              "    <tr>\n",
              "      <th>Cluster</th>\n",
              "      <th></th>\n",
              "      <th></th>\n",
              "    </tr>\n",
              "  </thead>\n",
              "  <tbody>\n",
              "    <tr>\n",
              "      <th>0</th>\n",
              "      <td>LOW</td>\n",
              "      <td>NONE</td>\n",
              "    </tr>\n",
              "    <tr>\n",
              "      <th>1</th>\n",
              "      <td>LOW</td>\n",
              "      <td>COMPLETE</td>\n",
              "    </tr>\n",
              "    <tr>\n",
              "      <th>2</th>\n",
              "      <td>LOW</td>\n",
              "      <td>PARTIAL</td>\n",
              "    </tr>\n",
              "  </tbody>\n",
              "</table>\n",
              "</div>\n",
              "    <div class=\"colab-df-buttons\">\n",
              "\n",
              "  <div class=\"colab-df-container\">\n",
              "    <button class=\"colab-df-convert\" onclick=\"convertToInteractive('df-1cd94c59-35ee-47d9-8791-413b719f9630')\"\n",
              "            title=\"Convert this dataframe to an interactive table.\"\n",
              "            style=\"display:none;\">\n",
              "\n",
              "  <svg xmlns=\"http://www.w3.org/2000/svg\" height=\"24px\" viewBox=\"0 -960 960 960\">\n",
              "    <path d=\"M120-120v-720h720v720H120Zm60-500h600v-160H180v160Zm220 220h160v-160H400v160Zm0 220h160v-160H400v160ZM180-400h160v-160H180v160Zm440 0h160v-160H620v160ZM180-180h160v-160H180v160Zm440 0h160v-160H620v160Z\"/>\n",
              "  </svg>\n",
              "    </button>\n",
              "\n",
              "  <style>\n",
              "    .colab-df-container {\n",
              "      display:flex;\n",
              "      gap: 12px;\n",
              "    }\n",
              "\n",
              "    .colab-df-convert {\n",
              "      background-color: #E8F0FE;\n",
              "      border: none;\n",
              "      border-radius: 50%;\n",
              "      cursor: pointer;\n",
              "      display: none;\n",
              "      fill: #1967D2;\n",
              "      height: 32px;\n",
              "      padding: 0 0 0 0;\n",
              "      width: 32px;\n",
              "    }\n",
              "\n",
              "    .colab-df-convert:hover {\n",
              "      background-color: #E2EBFA;\n",
              "      box-shadow: 0px 1px 2px rgba(60, 64, 67, 0.3), 0px 1px 3px 1px rgba(60, 64, 67, 0.15);\n",
              "      fill: #174EA6;\n",
              "    }\n",
              "\n",
              "    .colab-df-buttons div {\n",
              "      margin-bottom: 4px;\n",
              "    }\n",
              "\n",
              "    [theme=dark] .colab-df-convert {\n",
              "      background-color: #3B4455;\n",
              "      fill: #D2E3FC;\n",
              "    }\n",
              "\n",
              "    [theme=dark] .colab-df-convert:hover {\n",
              "      background-color: #434B5C;\n",
              "      box-shadow: 0px 1px 3px 1px rgba(0, 0, 0, 0.15);\n",
              "      filter: drop-shadow(0px 1px 2px rgba(0, 0, 0, 0.3));\n",
              "      fill: #FFFFFF;\n",
              "    }\n",
              "  </style>\n",
              "\n",
              "    <script>\n",
              "      const buttonEl =\n",
              "        document.querySelector('#df-1cd94c59-35ee-47d9-8791-413b719f9630 button.colab-df-convert');\n",
              "      buttonEl.style.display =\n",
              "        google.colab.kernel.accessAllowed ? 'block' : 'none';\n",
              "\n",
              "      async function convertToInteractive(key) {\n",
              "        const element = document.querySelector('#df-1cd94c59-35ee-47d9-8791-413b719f9630');\n",
              "        const dataTable =\n",
              "          await google.colab.kernel.invokeFunction('convertToInteractive',\n",
              "                                                    [key], {});\n",
              "        if (!dataTable) return;\n",
              "\n",
              "        const docLinkHtml = 'Like what you see? Visit the ' +\n",
              "          '<a target=\"_blank\" href=https://colab.research.google.com/notebooks/data_table.ipynb>data table notebook</a>'\n",
              "          + ' to learn more about interactive tables.';\n",
              "        element.innerHTML = '';\n",
              "        dataTable['output_type'] = 'display_data';\n",
              "        await google.colab.output.renderOutput(dataTable, element);\n",
              "        const docLink = document.createElement('div');\n",
              "        docLink.innerHTML = docLinkHtml;\n",
              "        element.appendChild(docLink);\n",
              "      }\n",
              "    </script>\n",
              "  </div>\n",
              "\n",
              "\n",
              "<div id=\"df-1743a00b-c998-40d9-ad5a-3cb9508d2034\">\n",
              "  <button class=\"colab-df-quickchart\" onclick=\"quickchart('df-1743a00b-c998-40d9-ad5a-3cb9508d2034')\"\n",
              "            title=\"Suggest charts.\"\n",
              "            style=\"display:none;\">\n",
              "\n",
              "<svg xmlns=\"http://www.w3.org/2000/svg\" height=\"24px\"viewBox=\"0 0 24 24\"\n",
              "     width=\"24px\">\n",
              "    <g>\n",
              "        <path d=\"M19 3H5c-1.1 0-2 .9-2 2v14c0 1.1.9 2 2 2h14c1.1 0 2-.9 2-2V5c0-1.1-.9-2-2-2zM9 17H7v-7h2v7zm4 0h-2V7h2v10zm4 0h-2v-4h2v4z\"/>\n",
              "    </g>\n",
              "</svg>\n",
              "  </button>\n",
              "\n",
              "<style>\n",
              "  .colab-df-quickchart {\n",
              "      --bg-color: #E8F0FE;\n",
              "      --fill-color: #1967D2;\n",
              "      --hover-bg-color: #E2EBFA;\n",
              "      --hover-fill-color: #174EA6;\n",
              "      --disabled-fill-color: #AAA;\n",
              "      --disabled-bg-color: #DDD;\n",
              "  }\n",
              "\n",
              "  [theme=dark] .colab-df-quickchart {\n",
              "      --bg-color: #3B4455;\n",
              "      --fill-color: #D2E3FC;\n",
              "      --hover-bg-color: #434B5C;\n",
              "      --hover-fill-color: #FFFFFF;\n",
              "      --disabled-bg-color: #3B4455;\n",
              "      --disabled-fill-color: #666;\n",
              "  }\n",
              "\n",
              "  .colab-df-quickchart {\n",
              "    background-color: var(--bg-color);\n",
              "    border: none;\n",
              "    border-radius: 50%;\n",
              "    cursor: pointer;\n",
              "    display: none;\n",
              "    fill: var(--fill-color);\n",
              "    height: 32px;\n",
              "    padding: 0;\n",
              "    width: 32px;\n",
              "  }\n",
              "\n",
              "  .colab-df-quickchart:hover {\n",
              "    background-color: var(--hover-bg-color);\n",
              "    box-shadow: 0 1px 2px rgba(60, 64, 67, 0.3), 0 1px 3px 1px rgba(60, 64, 67, 0.15);\n",
              "    fill: var(--button-hover-fill-color);\n",
              "  }\n",
              "\n",
              "  .colab-df-quickchart-complete:disabled,\n",
              "  .colab-df-quickchart-complete:disabled:hover {\n",
              "    background-color: var(--disabled-bg-color);\n",
              "    fill: var(--disabled-fill-color);\n",
              "    box-shadow: none;\n",
              "  }\n",
              "\n",
              "  .colab-df-spinner {\n",
              "    border: 2px solid var(--fill-color);\n",
              "    border-color: transparent;\n",
              "    border-bottom-color: var(--fill-color);\n",
              "    animation:\n",
              "      spin 1s steps(1) infinite;\n",
              "  }\n",
              "\n",
              "  @keyframes spin {\n",
              "    0% {\n",
              "      border-color: transparent;\n",
              "      border-bottom-color: var(--fill-color);\n",
              "      border-left-color: var(--fill-color);\n",
              "    }\n",
              "    20% {\n",
              "      border-color: transparent;\n",
              "      border-left-color: var(--fill-color);\n",
              "      border-top-color: var(--fill-color);\n",
              "    }\n",
              "    30% {\n",
              "      border-color: transparent;\n",
              "      border-left-color: var(--fill-color);\n",
              "      border-top-color: var(--fill-color);\n",
              "      border-right-color: var(--fill-color);\n",
              "    }\n",
              "    40% {\n",
              "      border-color: transparent;\n",
              "      border-right-color: var(--fill-color);\n",
              "      border-top-color: var(--fill-color);\n",
              "    }\n",
              "    60% {\n",
              "      border-color: transparent;\n",
              "      border-right-color: var(--fill-color);\n",
              "    }\n",
              "    80% {\n",
              "      border-color: transparent;\n",
              "      border-right-color: var(--fill-color);\n",
              "      border-bottom-color: var(--fill-color);\n",
              "    }\n",
              "    90% {\n",
              "      border-color: transparent;\n",
              "      border-bottom-color: var(--fill-color);\n",
              "    }\n",
              "  }\n",
              "</style>\n",
              "\n",
              "  <script>\n",
              "    async function quickchart(key) {\n",
              "      const quickchartButtonEl =\n",
              "        document.querySelector('#' + key + ' button');\n",
              "      quickchartButtonEl.disabled = true;  // To prevent multiple clicks.\n",
              "      quickchartButtonEl.classList.add('colab-df-spinner');\n",
              "      try {\n",
              "        const charts = await google.colab.kernel.invokeFunction(\n",
              "            'suggestCharts', [key], {});\n",
              "      } catch (error) {\n",
              "        console.error('Error during call to suggestCharts:', error);\n",
              "      }\n",
              "      quickchartButtonEl.classList.remove('colab-df-spinner');\n",
              "      quickchartButtonEl.classList.add('colab-df-quickchart-complete');\n",
              "    }\n",
              "    (() => {\n",
              "      let quickchartButtonEl =\n",
              "        document.querySelector('#df-1743a00b-c998-40d9-ad5a-3cb9508d2034 button');\n",
              "      quickchartButtonEl.style.display =\n",
              "        google.colab.kernel.accessAllowed ? 'block' : 'none';\n",
              "    })();\n",
              "  </script>\n",
              "</div>\n",
              "    </div>\n",
              "  </div>\n"
            ]
          },
          "metadata": {},
          "execution_count": 53
        }
      ]
    },
    {
      "cell_type": "markdown",
      "source": [
        "Si observamos las modas de las categorías numéricas vemos que los tres clusters comparten lamoda `LOW` para `acces_complexity` y en la variable `impact_availability` cada cluster tiene una moda diferente.\n",
        "\n",
        "Notamos que se corresponden muy bien dado que: el cluster `1` contiene los puntajes de `cvss` más bajos y el impacto en la disponibilidad es `NONE`, el cluster `0` contiene los puntajes de `cvss` más intermedios y el impacto en la disponibilidad es `PARTIAL`, el cluster `2` contiene los puntajes de `cvss` más altos y el impacto en la disponibilidad es `COMPLETE`,"
      ],
      "metadata": {
        "id": "XrToe6y36wRg"
      }
    },
    {
      "cell_type": "code",
      "source": [
        "plt.figure(figsize=(10, 3))\n",
        "sns.countplot(data=df_features, x='impact_availability', hue='Cluster',palette = [\"yellow\", \"red\", \"orange\"],\n",
        "              edgecolor='black',linewidth=2)\n",
        "plt.title('Diagrama de barras del impacto en la disponibilidad por cluster')\n",
        "plt.xlabel('Categoría')\n",
        "plt.ylabel('Frecuencia absoluta')\n",
        "plt.show()"
      ],
      "metadata": {
        "colab": {
          "base_uri": "https://localhost:8080/",
          "height": 330
        },
        "id": "RyVyPusJu7c1",
        "outputId": "aff94203-0d9b-4853-ad2e-71e311b7ea72"
      },
      "execution_count": 54,
      "outputs": [
        {
          "output_type": "display_data",
          "data": {
            "text/plain": [
              "<Figure size 1000x300 with 1 Axes>"
            ],
            "image/png": "[encoded data removed]"
          },
          "metadata": {}
        }
      ]
    },
    {
      "cell_type": "markdown",
      "source": [
        "Es notorio cómo predomina en la disponibilidad del servicio en la categoría `Complete` el cluster 2 que es el correspondiente al que tiene los puntajes más altos de `cvss`. Análogamente en la disponibilidad del servicio de manera en la categoría `PARTIAL` predomina el cluster 0 correspondientes a valores medios para `cvss` y de la misma manera inferimos para la categoría `NONE` correspondiente a valores bajos para `cvss`"
      ],
      "metadata": {
        "id": "37WLEEEQ95mp"
      }
    },
    {
      "cell_type": "code",
      "source": [
        "plt.figure(figsize=(10, 3))\n",
        "sns.countplot(data=df_features, x='access_complexity', hue='Cluster',palette = [\"yellow\", \"red\", \"orange\"],\n",
        "              edgecolor='black',linewidth=2)\n",
        "plt.title('Diagrama de barras de la complejidad de acceso por cluster')\n",
        "plt.xlabel('Categorías')\n",
        "plt.ylabel('Frecuencia absoluta')\n",
        "plt.show()"
      ],
      "metadata": {
        "colab": {
          "base_uri": "https://localhost:8080/",
          "height": 330
        },
        "id": "tBqahr22w_oF",
        "outputId": "d276cf5f-044d-472e-dc74-d6af0ab16cab"
      },
      "execution_count": 55,
      "outputs": [
        {
          "output_type": "display_data",
          "data": {
            "text/plain": [
              "<Figure size 1000x300 with 1 Axes>"
            ],
            "image/png": "[encoded data removed]"
          },
          "metadata": {}
        }
      ]
    },
    {
      "cell_type": "markdown",
      "source": [
        "Intuitivamente antes de realizar el proceso esperaba que las agrupaciones se realizaran con el cluster 2 en `HIGH` dado que la complejidad en el acceso se espera que sea complejo para vulnerabilidades peligrosas, pero vemos que algunas con bajo puntaje de `cvss` se lograron filtrar a través de complejidad de acceso `HIGH`. Por otro lado se distribuyen para `LOW` y para `MEDIUM` de una manera muy proporcional las vulnerabilidades más peligrosas y también las más leves"
      ],
      "metadata": {
        "id": "RFcJosR8-vCH"
      }
    },
    {
      "cell_type": "markdown",
      "source": [
        "Una validación cualitativa de los Clusters permite dar una idea de qué tan bien o mal están agrupados, esto debido a que no hay una métrica sencilla que pueda trabajar con datos mixtos. Es por esta razón que hemos evaluado la calidad de los clusters con gráficos de barras. Podemos evaluar la homogeneidad de los clusters con la métrica `silhouette_avg` para la variable numérica, esta métrica se evalúa entre -1 y 1, donde -1 es mala calidad, 0 es calidad muy regular y 1 es muy buena calidad de los clusters. Su funcionamiento consiste en tomar una distancia euclidea entre un punto y su cluster, luego entre el mismo punto y un cluster próximo para luego comparar estas distancias y ver que tan diferentes son, el resultado negativo se obtiene cuando las distancias euclideas del dato en su cluster es mayor que la distancia del cluster más cercano"
      ],
      "metadata": {
        "id": "OtOQMmduHaXH"
      }
    },
    {
      "cell_type": "code",
      "source": [
        "from sklearn.metrics import silhouette_score\n",
        "X_numeric = df_features['cvss'].values.reshape(-1, 1)\n",
        "# Supongamos que 'clusters' contiene las etiquetas de cluster asignadas por tu algoritmo K-Prototypes\n",
        "silhouette_avg = silhouette_score(X_numeric, clusters)\n",
        "print(\"Silhouette Score (variable numérica):\", silhouette_avg)\n"
      ],
      "metadata": {
        "colab": {
          "base_uri": "https://localhost:8080/"
        },
        "id": "xRuzeFa2xN_V",
        "outputId": "8c8a09e5-ff9c-4810-d3d1-c6328011b0a6"
      },
      "execution_count": 45,
      "outputs": [
        {
          "output_type": "stream",
          "name": "stdout",
          "text": [
            "Silhouette Score (variable numérica): 0.7192702690710379\n"
          ]
        }
      ]
    },
    {
      "cell_type": "markdown",
      "source": [
        "Como vemos obtenemos buena calidad de los clusters para nuestra variable numérica `cvss`"
      ],
      "metadata": {
        "id": "H7inWEnmLSnE"
      }
    }
  ]
}