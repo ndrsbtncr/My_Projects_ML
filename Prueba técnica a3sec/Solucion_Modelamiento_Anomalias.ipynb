{
  "nbformat": 4,
  "nbformat_minor": 0,
  "metadata": {
    "colab": {
      "provenance": []
    },
    "kernelspec": {
      "name": "python3",
      "display_name": "Python 3"
    },
    "language_info": {
      "name": "python"
    }
  },
  "cells": [
    {
      "cell_type": "markdown",
      "source": [
        "**Modelamiento:**\n",
        "\n",
        "**¿Cómo resolverias este problema?**\n",
        "\n",
        "1. **Clasificación:** Para esta sección se usará el archivo `data_eda_classification.csv` que contiene datos de tráfico en firewall.\n",
        "\n",
        "    **Información del dataset**\n",
        "    - 12 Variables\n",
        "    - Source Port\n",
        "    - Destination Port\n",
        "    - NAT Source Port\n",
        "    - NAT Destination Port\n",
        "    - Action\n",
        "    - Bytes\n",
        "    - Bytes Sent\n",
        "    - Bytes Received\n",
        "    - Packets\n",
        "    - Elapsed Time (sec)\n",
        "    - pkts_sent\n",
        "    - pkts_received\n",
        "\n",
        "El objetivo de este ejercicio, es explicar como encontraria o crearia una variable útil para la clasificación de los datos en tráficos anómalos o no anómalos. Justifica la elección del o los modelos que usarias para resolver este problema."
      ],
      "metadata": {
        "id": "ZJ9WyNWrTIxK"
      }
    },
    {
      "cell_type": "markdown",
      "source": [
        "# **Solución**\n",
        "\n",
        "Antes de abordar el problema de clasificación intentemos dar una descripción de cada una de las columnas.\n",
        "```\n",
        "12 Variables\n",
        "Source Port: Número del puerto utilizado por el dispositivo o aplicación que inicializa la comunicación\n",
        "\n",
        "Destination Port: Puerto al que se dirige el tráfico\n",
        "\n",
        "NAT Source Port: Puerto de origen NAT (Network Address Translation) es el puerto modificado que se utiliza cuando se realiza traducción de direcciones IP y puertos en un dispositivo NAT, como un firewall o un enrutador. Puede ser relevante para rastrear conexiones de red a través de dispositivos de NAT.\n",
        "\n",
        "NAT Destination Port:El puerto de destino NAT es el puerto modificado en la dirección de destino cuando se realiza NAT. Ayuda a rastrear las traducciones de puertos y la asignación de puertos para conexiones salientes.\n",
        "\n",
        "Action: La acción indica lo que ocurrió con el tráfico de red o el paquete de datos\n",
        "\n",
        "Bytes: Es la suma de Bytes enviados mas recibidos\n",
        "\n",
        "Bytes Sent:La cantidad de bytes enviados desde la fuente\n",
        "\n",
        "Bytes Received:cantidad de bytes recibidos en el destino\n",
        "\n",
        "Packets:  El número total de paquetes transmitidos en la comunicación\n",
        "\n",
        "Elapsed Time (sec): El tiempo transcurrido en segundos durante la comunicación o el evento\n",
        "\n",
        "pkts_sent:El número de paquetes enviados desde la fuente\n",
        "\n",
        "pkts_received: El número de paquetes recibidos en el destino\n",
        "\n",
        "Veamos el contenido del archivo `data_eda_classification`\n",
        "\n",
        "```"
      ],
      "metadata": {
        "id": "03h1eUeoTgIC"
      }
    },
    {
      "cell_type": "code",
      "source": [
        "import pandas as pd"
      ],
      "metadata": {
        "id": "qd5XQ6jlTKkV"
      },
      "execution_count": 1,
      "outputs": []
    },
    {
      "cell_type": "code",
      "source": [
        "df = pd.read_csv('data_eda_classification.csv')"
      ],
      "metadata": {
        "id": "-1uPV-Q6WMg1"
      },
      "execution_count": 2,
      "outputs": []
    },
    {
      "cell_type": "code",
      "source": [
        "df.head()"
      ],
      "metadata": {
        "colab": {
          "base_uri": "https://localhost:8080/",
          "height": 261
        },
        "id": "s45LEYXqWWKO",
        "outputId": "cdf876e6-b69d-44f7-ea5e-231b3b7aad3e"
      },
      "execution_count": 3,
      "outputs": [
        {
          "output_type": "execute_result",
          "data": {
            "text/plain": [
              "   Source Port  Destination Port  NAT Source Port  NAT Destination Port  \\\n",
              "0        57222                53            54587                    53   \n",
              "1        56258              3389            56258                  3389   \n",
              "2         6881             50321            43265                 50321   \n",
              "3        50553              3389            50553                  3389   \n",
              "4        50002               443            45848                   443   \n",
              "\n",
              "  Action  Bytes  Bytes Sent  Bytes Received  Packets  Elapsed Time (sec)  \\\n",
              "0  allow    177          94              83        2                  30   \n",
              "1  allow   4768        1600            3168       19                  17   \n",
              "2  allow    238         118             120        2                1199   \n",
              "3  allow   3327        1438            1889       15                  17   \n",
              "4  allow  25358        6778           18580       31                  16   \n",
              "\n",
              "   pkts_sent  pkts_received  \n",
              "0          1              1  \n",
              "1         10              9  \n",
              "2          1              1  \n",
              "3          8              7  \n",
              "4         13             18  "
            ],
            "text/html": [
              "\n",
              "  <div id=\"df-2082fa53-c840-4214-b03c-640504a6c1cf\" class=\"colab-df-container\">\n",
              "    <div>\n",
              "<style scoped>\n",
              "    .dataframe tbody tr th:only-of-type {\n",
              "        vertical-align: middle;\n",
              "    }\n",
              "\n",
              "    .dataframe tbody tr th {\n",
              "        vertical-align: top;\n",
              "    }\n",
              "\n",
              "    .dataframe thead th {\n",
              "        text-align: right;\n",
              "    }\n",
              "</style>\n",
              "<table border=\"1\" class=\"dataframe\">\n",
              "  <thead>\n",
              "    <tr style=\"text-align: right;\">\n",
              "      <th></th>\n",
              "      <th>Source Port</th>\n",
              "      <th>Destination Port</th>\n",
              "      <th>NAT Source Port</th>\n",
              "      <th>NAT Destination Port</th>\n",
              "      <th>Action</th>\n",
              "      <th>Bytes</th>\n",
              "      <th>Bytes Sent</th>\n",
              "      <th>Bytes Received</th>\n",
              "      <th>Packets</th>\n",
              "      <th>Elapsed Time (sec)</th>\n",
              "      <th>pkts_sent</th>\n",
              "      <th>pkts_received</th>\n",
              "    </tr>\n",
              "  </thead>\n",
              "  <tbody>\n",
              "    <tr>\n",
              "      <th>0</th>\n",
              "      <td>57222</td>\n",
              "      <td>53</td>\n",
              "      <td>54587</td>\n",
              "      <td>53</td>\n",
              "      <td>allow</td>\n",
              "      <td>177</td>\n",
              "      <td>94</td>\n",
              "      <td>83</td>\n",
              "      <td>2</td>\n",
              "      <td>30</td>\n",
              "      <td>1</td>\n",
              "      <td>1</td>\n",
              "    </tr>\n",
              "    <tr>\n",
              "      <th>1</th>\n",
              "      <td>56258</td>\n",
              "      <td>3389</td>\n",
              "      <td>56258</td>\n",
              "      <td>3389</td>\n",
              "      <td>allow</td>\n",
              "      <td>4768</td>\n",
              "      <td>1600</td>\n",
              "      <td>3168</td>\n",
              "      <td>19</td>\n",
              "      <td>17</td>\n",
              "      <td>10</td>\n",
              "      <td>9</td>\n",
              "    </tr>\n",
              "    <tr>\n",
              "      <th>2</th>\n",
              "      <td>6881</td>\n",
              "      <td>50321</td>\n",
              "      <td>43265</td>\n",
              "      <td>50321</td>\n",
              "      <td>allow</td>\n",
              "      <td>238</td>\n",
              "      <td>118</td>\n",
              "      <td>120</td>\n",
              "      <td>2</td>\n",
              "      <td>1199</td>\n",
              "      <td>1</td>\n",
              "      <td>1</td>\n",
              "    </tr>\n",
              "    <tr>\n",
              "      <th>3</th>\n",
              "      <td>50553</td>\n",
              "      <td>3389</td>\n",
              "      <td>50553</td>\n",
              "      <td>3389</td>\n",
              "      <td>allow</td>\n",
              "      <td>3327</td>\n",
              "      <td>1438</td>\n",
              "      <td>1889</td>\n",
              "      <td>15</td>\n",
              "      <td>17</td>\n",
              "      <td>8</td>\n",
              "      <td>7</td>\n",
              "    </tr>\n",
              "    <tr>\n",
              "      <th>4</th>\n",
              "      <td>50002</td>\n",
              "      <td>443</td>\n",
              "      <td>45848</td>\n",
              "      <td>443</td>\n",
              "      <td>allow</td>\n",
              "      <td>25358</td>\n",
              "      <td>6778</td>\n",
              "      <td>18580</td>\n",
              "      <td>31</td>\n",
              "      <td>16</td>\n",
              "      <td>13</td>\n",
              "      <td>18</td>\n",
              "    </tr>\n",
              "  </tbody>\n",
              "</table>\n",
              "</div>\n",
              "    <div class=\"colab-df-buttons\">\n",
              "\n",
              "  <div class=\"colab-df-container\">\n",
              "    <button class=\"colab-df-convert\" onclick=\"convertToInteractive('df-2082fa53-c840-4214-b03c-640504a6c1cf')\"\n",
              "            title=\"Convert this dataframe to an interactive table.\"\n",
              "            style=\"display:none;\">\n",
              "\n",
              "  <svg xmlns=\"http://www.w3.org/2000/svg\" height=\"24px\" viewBox=\"0 -960 960 960\">\n",
              "    <path d=\"M120-120v-720h720v720H120Zm60-500h600v-160H180v160Zm220 220h160v-160H400v160Zm0 220h160v-160H400v160ZM180-400h160v-160H180v160Zm440 0h160v-160H620v160ZM180-180h160v-160H180v160Zm440 0h160v-160H620v160Z\"/>\n",
              "  </svg>\n",
              "    </button>\n",
              "\n",
              "  <style>\n",
              "    .colab-df-container {\n",
              "      display:flex;\n",
              "      gap: 12px;\n",
              "    }\n",
              "\n",
              "    .colab-df-convert {\n",
              "      background-color: #E8F0FE;\n",
              "      border: none;\n",
              "      border-radius: 50%;\n",
              "      cursor: pointer;\n",
              "      display: none;\n",
              "      fill: #1967D2;\n",
              "      height: 32px;\n",
              "      padding: 0 0 0 0;\n",
              "      width: 32px;\n",
              "    }\n",
              "\n",
              "    .colab-df-convert:hover {\n",
              "      background-color: #E2EBFA;\n",
              "      box-shadow: 0px 1px 2px rgba(60, 64, 67, 0.3), 0px 1px 3px 1px rgba(60, 64, 67, 0.15);\n",
              "      fill: #174EA6;\n",
              "    }\n",
              "\n",
              "    .colab-df-buttons div {\n",
              "      margin-bottom: 4px;\n",
              "    }\n",
              "\n",
              "    [theme=dark] .colab-df-convert {\n",
              "      background-color: #3B4455;\n",
              "      fill: #D2E3FC;\n",
              "    }\n",
              "\n",
              "    [theme=dark] .colab-df-convert:hover {\n",
              "      background-color: #434B5C;\n",
              "      box-shadow: 0px 1px 3px 1px rgba(0, 0, 0, 0.15);\n",
              "      filter: drop-shadow(0px 1px 2px rgba(0, 0, 0, 0.3));\n",
              "      fill: #FFFFFF;\n",
              "    }\n",
              "  </style>\n",
              "\n",
              "    <script>\n",
              "      const buttonEl =\n",
              "        document.querySelector('#df-2082fa53-c840-4214-b03c-640504a6c1cf button.colab-df-convert');\n",
              "      buttonEl.style.display =\n",
              "        google.colab.kernel.accessAllowed ? 'block' : 'none';\n",
              "\n",
              "      async function convertToInteractive(key) {\n",
              "        const element = document.querySelector('#df-2082fa53-c840-4214-b03c-640504a6c1cf');\n",
              "        const dataTable =\n",
              "          await google.colab.kernel.invokeFunction('convertToInteractive',\n",
              "                                                    [key], {});\n",
              "        if (!dataTable) return;\n",
              "\n",
              "        const docLinkHtml = 'Like what you see? Visit the ' +\n",
              "          '<a target=\"_blank\" href=https://colab.research.google.com/notebooks/data_table.ipynb>data table notebook</a>'\n",
              "          + ' to learn more about interactive tables.';\n",
              "        element.innerHTML = '';\n",
              "        dataTable['output_type'] = 'display_data';\n",
              "        await google.colab.output.renderOutput(dataTable, element);\n",
              "        const docLink = document.createElement('div');\n",
              "        docLink.innerHTML = docLinkHtml;\n",
              "        element.appendChild(docLink);\n",
              "      }\n",
              "    </script>\n",
              "  </div>\n",
              "\n",
              "\n",
              "<div id=\"df-dae47282-66f6-498d-b7c0-3f971a97332d\">\n",
              "  <button class=\"colab-df-quickchart\" onclick=\"quickchart('df-dae47282-66f6-498d-b7c0-3f971a97332d')\"\n",
              "            title=\"Suggest charts.\"\n",
              "            style=\"display:none;\">\n",
              "\n",
              "<svg xmlns=\"http://www.w3.org/2000/svg\" height=\"24px\"viewBox=\"0 0 24 24\"\n",
              "     width=\"24px\">\n",
              "    <g>\n",
              "        <path d=\"M19 3H5c-1.1 0-2 .9-2 2v14c0 1.1.9 2 2 2h14c1.1 0 2-.9 2-2V5c0-1.1-.9-2-2-2zM9 17H7v-7h2v7zm4 0h-2V7h2v10zm4 0h-2v-4h2v4z\"/>\n",
              "    </g>\n",
              "</svg>\n",
              "  </button>\n",
              "\n",
              "<style>\n",
              "  .colab-df-quickchart {\n",
              "      --bg-color: #E8F0FE;\n",
              "      --fill-color: #1967D2;\n",
              "      --hover-bg-color: #E2EBFA;\n",
              "      --hover-fill-color: #174EA6;\n",
              "      --disabled-fill-color: #AAA;\n",
              "      --disabled-bg-color: #DDD;\n",
              "  }\n",
              "\n",
              "  [theme=dark] .colab-df-quickchart {\n",
              "      --bg-color: #3B4455;\n",
              "      --fill-color: #D2E3FC;\n",
              "      --hover-bg-color: #434B5C;\n",
              "      --hover-fill-color: #FFFFFF;\n",
              "      --disabled-bg-color: #3B4455;\n",
              "      --disabled-fill-color: #666;\n",
              "  }\n",
              "\n",
              "  .colab-df-quickchart {\n",
              "    background-color: var(--bg-color);\n",
              "    border: none;\n",
              "    border-radius: 50%;\n",
              "    cursor: pointer;\n",
              "    display: none;\n",
              "    fill: var(--fill-color);\n",
              "    height: 32px;\n",
              "    padding: 0;\n",
              "    width: 32px;\n",
              "  }\n",
              "\n",
              "  .colab-df-quickchart:hover {\n",
              "    background-color: var(--hover-bg-color);\n",
              "    box-shadow: 0 1px 2px rgba(60, 64, 67, 0.3), 0 1px 3px 1px rgba(60, 64, 67, 0.15);\n",
              "    fill: var(--button-hover-fill-color);\n",
              "  }\n",
              "\n",
              "  .colab-df-quickchart-complete:disabled,\n",
              "  .colab-df-quickchart-complete:disabled:hover {\n",
              "    background-color: var(--disabled-bg-color);\n",
              "    fill: var(--disabled-fill-color);\n",
              "    box-shadow: none;\n",
              "  }\n",
              "\n",
              "  .colab-df-spinner {\n",
              "    border: 2px solid var(--fill-color);\n",
              "    border-color: transparent;\n",
              "    border-bottom-color: var(--fill-color);\n",
              "    animation:\n",
              "      spin 1s steps(1) infinite;\n",
              "  }\n",
              "\n",
              "  @keyframes spin {\n",
              "    0% {\n",
              "      border-color: transparent;\n",
              "      border-bottom-color: var(--fill-color);\n",
              "      border-left-color: var(--fill-color);\n",
              "    }\n",
              "    20% {\n",
              "      border-color: transparent;\n",
              "      border-left-color: var(--fill-color);\n",
              "      border-top-color: var(--fill-color);\n",
              "    }\n",
              "    30% {\n",
              "      border-color: transparent;\n",
              "      border-left-color: var(--fill-color);\n",
              "      border-top-color: var(--fill-color);\n",
              "      border-right-color: var(--fill-color);\n",
              "    }\n",
              "    40% {\n",
              "      border-color: transparent;\n",
              "      border-right-color: var(--fill-color);\n",
              "      border-top-color: var(--fill-color);\n",
              "    }\n",
              "    60% {\n",
              "      border-color: transparent;\n",
              "      border-right-color: var(--fill-color);\n",
              "    }\n",
              "    80% {\n",
              "      border-color: transparent;\n",
              "      border-right-color: var(--fill-color);\n",
              "      border-bottom-color: var(--fill-color);\n",
              "    }\n",
              "    90% {\n",
              "      border-color: transparent;\n",
              "      border-bottom-color: var(--fill-color);\n",
              "    }\n",
              "  }\n",
              "</style>\n",
              "\n",
              "  <script>\n",
              "    async function quickchart(key) {\n",
              "      const quickchartButtonEl =\n",
              "        document.querySelector('#' + key + ' button');\n",
              "      quickchartButtonEl.disabled = true;  // To prevent multiple clicks.\n",
              "      quickchartButtonEl.classList.add('colab-df-spinner');\n",
              "      try {\n",
              "        const charts = await google.colab.kernel.invokeFunction(\n",
              "            'suggestCharts', [key], {});\n",
              "      } catch (error) {\n",
              "        console.error('Error during call to suggestCharts:', error);\n",
              "      }\n",
              "      quickchartButtonEl.classList.remove('colab-df-spinner');\n",
              "      quickchartButtonEl.classList.add('colab-df-quickchart-complete');\n",
              "    }\n",
              "    (() => {\n",
              "      let quickchartButtonEl =\n",
              "        document.querySelector('#df-dae47282-66f6-498d-b7c0-3f971a97332d button');\n",
              "      quickchartButtonEl.style.display =\n",
              "        google.colab.kernel.accessAllowed ? 'block' : 'none';\n",
              "    })();\n",
              "  </script>\n",
              "</div>\n",
              "    </div>\n",
              "  </div>\n"
            ]
          },
          "metadata": {},
          "execution_count": 3
        }
      ]
    },
    {
      "cell_type": "code",
      "source": [
        "df.info()"
      ],
      "metadata": {
        "colab": {
          "base_uri": "https://localhost:8080/"
        },
        "id": "y4Zi1CnAWX3r",
        "outputId": "b5d8591e-2868-4b24-e1e4-0ed51455dbdd"
      },
      "execution_count": 4,
      "outputs": [
        {
          "output_type": "stream",
          "name": "stdout",
          "text": [
            "<class 'pandas.core.frame.DataFrame'>\n",
            "RangeIndex: 65532 entries, 0 to 65531\n",
            "Data columns (total 12 columns):\n",
            " #   Column                Non-Null Count  Dtype \n",
            "---  ------                --------------  ----- \n",
            " 0   Source Port           65532 non-null  int64 \n",
            " 1   Destination Port      65532 non-null  int64 \n",
            " 2   NAT Source Port       65532 non-null  int64 \n",
            " 3   NAT Destination Port  65532 non-null  int64 \n",
            " 4   Action                65532 non-null  object\n",
            " 5   Bytes                 65532 non-null  int64 \n",
            " 6   Bytes Sent            65532 non-null  int64 \n",
            " 7   Bytes Received        65532 non-null  int64 \n",
            " 8   Packets               65532 non-null  int64 \n",
            " 9   Elapsed Time (sec)    65532 non-null  int64 \n",
            " 10  pkts_sent             65532 non-null  int64 \n",
            " 11  pkts_received         65532 non-null  int64 \n",
            "dtypes: int64(11), object(1)\n",
            "memory usage: 6.0+ MB\n"
          ]
        }
      ]
    },
    {
      "cell_type": "markdown",
      "source": [
        "Los valores atípicos en un conjunto de datos tienen diferentes maneras de agruparse de acuerdo al contexto. A continuación mencionaremos algunas maneras en las que podemos obtener estos.\n",
        "\n",
        "Una primera aproximación a estos datos atípicos para estableces conexiones anómalas puede ser utilizando la variable estadística `Bytes` si la cantidad de Bytes intercambiados en una conexión es excesivamente alta podemos sospechar de este dato. Esto lo podemos visualizar a través de diagramas de caja o `Boxplot`\n",
        "\n",
        "![Captura de pantalla 2023-09-21 081012.png](data:image/png;base64,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)"
      ],
      "metadata": {
        "id": "6BedH1AdZ0sw"
      }
    },
    {
      "cell_type": "markdown",
      "source": [
        "Con estos diagramas podemos visualizar que la mayor parte de los datos está concentrada en la región entre los extremos de los bigotes del diagrama de caja. Fuera de estos extremos se encuentran los datoa que se reportarían como atípicos. sin embargo, este tipo de conexiones y transferencia de grandes cantidades de bytes puede no siempre corresponder a una anomalía por lo que se pueden construir muchas otras medidas. a continuación mencionaré algunas"
      ],
      "metadata": {
        "id": "u1U81Qx4duKr"
      }
    },
    {
      "cell_type": "markdown",
      "source": [
        "**Analizando la columna Bytes**"
      ],
      "metadata": {
        "id": "P6hPjgdRlUZ0"
      }
    },
    {
      "cell_type": "code",
      "source": [
        "import seaborn as sns\n",
        "import matplotlib.pyplot as plt"
      ],
      "metadata": {
        "id": "tDW1fjlrafO0"
      },
      "execution_count": 5,
      "outputs": []
    },
    {
      "cell_type": "code",
      "source": [
        "plt.figure(figsize=(5, 3))\n",
        "plt.boxplot(df['Bytes'], vert=False)\n",
        "plt.title('Boxplot de Cantidad de Bytes')\n",
        "plt.xlabel('Bytes')\n",
        "plt.show()"
      ],
      "metadata": {
        "colab": {
          "base_uri": "https://localhost:8080/",
          "height": 333
        },
        "id": "UwRlLOt4Wa4c",
        "outputId": "89641f9c-3748-44a4-870f-24b0b16782bf"
      },
      "execution_count": 6,
      "outputs": [
        {
          "output_type": "display_data",
          "data": {
            "text/plain": [
              "<Figure size 500x300 with 1 Axes>"
            ],
            "image/png": "[encoded data removed]"
          },
          "metadata": {}
        }
      ]
    },
    {
      "cell_type": "code",
      "source": [
        "#import pandas as pd\n",
        "\n",
        "# Supongamos que tienes un DataFrame llamado \"data\" y la columna se llama \"bytes\".\n",
        "# Puedes acceder a la columna de bytes de esta manera: data['bytes']\n",
        "\n",
        "# Calcular el rango intercuartil (IQR)\n",
        "Q1 = df['Bytes'].quantile(0.25)\n",
        "Q3 = df['Bytes'].quantile(0.75)\n",
        "IQR = Q3 - Q1\n",
        "\n",
        "# Definir los límites para valores atípicos\n",
        "limite_inferior = Q1 - 1.5 * IQR\n",
        "limite_superior = Q3 + 1.5 * IQR\n",
        "\n",
        "# Contar valores atípicos\n",
        "valores_atipicos = df[(df['Bytes'] < limite_inferior) | (df['Bytes'] > limite_superior)]\n",
        "cantidad_valores_atipicos = len(valores_atipicos)\n",
        "\n",
        "print(f\"Cantidad de valores atípicos: {cantidad_valores_atipicos}\")\n"
      ],
      "metadata": {
        "colab": {
          "base_uri": "https://localhost:8080/"
        },
        "id": "vztiLWsMl4QU",
        "outputId": "0e8a8148-a971-485d-fae3-6594d9dbe7a9"
      },
      "execution_count": 7,
      "outputs": [
        {
          "output_type": "stream",
          "name": "stdout",
          "text": [
            "Cantidad de valores atípicos: 12979\n"
          ]
        }
      ]
    },
    {
      "cell_type": "markdown",
      "source": [
        "Hay tantos datos atípicos tan grandes fuera de la caja que no se alcanzan a vizualizar los extremos de los bigotes, tenemos en total  12979, que corresponden al $\\frac{12979}{65532} =0,1981 $, es decir el $19,81$ % de los datos"
      ],
      "metadata": {
        "id": "sPCWnoDOlZh4"
      }
    },
    {
      "cell_type": "markdown",
      "source": [
        "**Construyendo una mejor métrica**"
      ],
      "metadata": {
        "id": "nAGbbLW9lntV"
      }
    },
    {
      "cell_type": "code",
      "source": [
        "df2 = pd.DataFrame(data = df['Packets']/df['Bytes'],columns=['Packets-Bytes'])"
      ],
      "metadata": {
        "id": "qKLi3qkCkT7Z"
      },
      "execution_count": 8,
      "outputs": []
    },
    {
      "cell_type": "code",
      "source": [
        "plt.figure(figsize=(5, 3))\n",
        "plt.boxplot(df2['Packets-Bytes'], vert=False)  # vert=False para que los boxes estén en horizontal\n",
        "plt.title('Anomalías del tráfico en Firewall')\n",
        "plt.xlabel('Paquetes/Bytes')\n",
        "plt.show()"
      ],
      "metadata": {
        "colab": {
          "base_uri": "https://localhost:8080/",
          "height": 333
        },
        "id": "cUbtbkHgkgry",
        "outputId": "31a95591-c348-4e7c-a788-c2e0476832ff"
      },
      "execution_count": 9,
      "outputs": [
        {
          "output_type": "display_data",
          "data": {
            "text/plain": [
              "<Figure size 500x300 with 1 Axes>"
            ],
            "image/png": "[encoded data removed]"
          },
          "metadata": {}
        }
      ]
    },
    {
      "cell_type": "code",
      "source": [
        "# Calcular el rango intercuartil (IQR)\n",
        "Q1 = df2['Packets-Bytes'].quantile(0.25)\n",
        "Q3 = df2['Packets-Bytes'].quantile(0.75)\n",
        "IQR = Q3 - Q1\n",
        "\n",
        "# Definir los límites para valores atípicos\n",
        "limite_inferior = Q1 - 1.5 * IQR\n",
        "limite_superior = Q3 + 1.5 * IQR\n",
        "\n",
        "# Contar valores atípicos\n",
        "valores_atipicos = df2[(df2['Packets-Bytes'] < limite_inferior) | (df2['Packets-Bytes'] > limite_superior)]\n",
        "cantidad_valores_atipicos = len(valores_atipicos)\n",
        "\n",
        "print(f\"Cantidad de valores atípicos: {cantidad_valores_atipicos}\")"
      ],
      "metadata": {
        "colab": {
          "base_uri": "https://localhost:8080/"
        },
        "id": "aCZNYbKfoT5t",
        "outputId": "9386627c-3e6b-4a1d-b1b2-d1fb1cf6a7aa"
      },
      "execution_count": 10,
      "outputs": [
        {
          "output_type": "stream",
          "name": "stdout",
          "text": [
            "Cantidad de valores atípicos: 1098\n"
          ]
        }
      ]
    },
    {
      "cell_type": "markdown",
      "source": [
        "Ahora la cantidad de datos atípicos está mucho más acotada y la métrica tiene mucha más precisión, pues en lugar de analizar solo una columna está analizando 2 y creando una relación entre estas"
      ],
      "metadata": {
        "id": "UVKdCg4snf8G"
      }
    },
    {
      "cell_type": "markdown",
      "source": [
        "Podemos análogamente seguir involucrando más medidas, por ejemplo que la proporción anterior sea grande y que el tiempo de comunicación `Elapsed Time (sec)` sea muy corto o muy grande, es decir, esté fuera de un rango de valores determinado. O quizá en general la transferencia de paquetes grandes se realice por uno o algunos puertos específicos, aquí también estaríamos involucrando el puerto. en resumen nos daríamos cuenta que entre más variables pongamos, estamos imponiendo más condiciones al registro para determinar la categoría `Anómalo` o `No-Anómalo`"
      ],
      "metadata": {
        "id": "4nVu9y3Qo_XL"
      }
    },
    {
      "cell_type": "markdown",
      "source": [
        "#### **Ayudas Computacionales para la detección de Outliers**\n",
        "\n",
        "Existen herramientas computacionales que nos pueden ayudar en la detección de anomalías, un ejemplo de esto es la librería de `sklearn` con la clase `IsolationForest`. Este método está basado en árboles de decisión, la idea consiste en que las anomalías necesitan menos ramas para ser aisladas que los datos normales. Debemos además pasarle un parámetro de contaminación así que debemos conocer a priori qué qué porcentaje de nuestro dataset puede contener anomalías. Usemos el porcentaje encontrado anteriormente como contaminación, es decir, $\\frac{1098}{65532}=0,0168$\n",
        "\n",
        "Nota: -1 representa anomalía y 1 representa no anomalía"
      ],
      "metadata": {
        "id": "8EFVxyYQqjZK"
      }
    },
    {
      "cell_type": "code",
      "source": [
        "from sklearn.ensemble import IsolationForest\n",
        "X = df[['Bytes','Packets']]\n",
        "\n",
        "# Aplicar el modelo Isolation Forest\n",
        "iso_forest = IsolationForest(contamination=0.0168)\n",
        "iso_forest.fit(X)\n",
        "df['Isolation Forest Anomaly'] = iso_forest.predict(X)"
      ],
      "metadata": {
        "colab": {
          "base_uri": "https://localhost:8080/"
        },
        "id": "-LAwJOiMc9Rz",
        "outputId": "63d21f6c-f427-4208-8f38-f6461e6c5988"
      },
      "execution_count": 11,
      "outputs": [
        {
          "output_type": "stream",
          "name": "stderr",
          "text": [
            "/usr/local/lib/python3.10/dist-packages/sklearn/base.py:439: UserWarning: X does not have valid feature names, but IsolationForest was fitted with feature names\n",
            "  warnings.warn(\n"
          ]
        }
      ]
    },
    {
      "cell_type": "code",
      "source": [
        "df.tail()\n"
      ],
      "metadata": {
        "colab": {
          "base_uri": "https://localhost:8080/",
          "height": 261
        },
        "id": "1folJ_HLWdzn",
        "outputId": "969fdbcf-9ebe-42b1-e40e-2a9f303e9738"
      },
      "execution_count": 12,
      "outputs": [
        {
          "output_type": "execute_result",
          "data": {
            "text/plain": [
              "       Source Port  Destination Port  NAT Source Port  NAT Destination Port  \\\n",
              "65527        63691                80            13237                    80   \n",
              "65528        50964                80            13485                    80   \n",
              "65529        54871               445                0                     0   \n",
              "65530        54870               445                0                     0   \n",
              "65531        54867               445                0                     0   \n",
              "\n",
              "      Action    Bytes  Bytes Sent  Bytes Received  Packets  \\\n",
              "65527  allow      314         192             122        6   \n",
              "65528  allow  4680740       67312         4613428     4675   \n",
              "65529   drop       70          70               0        1   \n",
              "65530   drop       70          70               0        1   \n",
              "65531   drop       70          70               0        1   \n",
              "\n",
              "       Elapsed Time (sec)  pkts_sent  pkts_received  Isolation Forest Anomaly  \n",
              "65527                  15          4              2                         1  \n",
              "65528                  77        985           3690                        -1  \n",
              "65529                   0          1              0                         1  \n",
              "65530                   0          1              0                         1  \n",
              "65531                   0          1              0                         1  "
            ],
            "text/html": [
              "\n",
              "  <div id=\"df-5823899b-c4cf-436f-ae73-3c6ba8736419\" class=\"colab-df-container\">\n",
              "    <div>\n",
              "<style scoped>\n",
              "    .dataframe tbody tr th:only-of-type {\n",
              "        vertical-align: middle;\n",
              "    }\n",
              "\n",
              "    .dataframe tbody tr th {\n",
              "        vertical-align: top;\n",
              "    }\n",
              "\n",
              "    .dataframe thead th {\n",
              "        text-align: right;\n",
              "    }\n",
              "</style>\n",
              "<table border=\"1\" class=\"dataframe\">\n",
              "  <thead>\n",
              "    <tr style=\"text-align: right;\">\n",
              "      <th></th>\n",
              "      <th>Source Port</th>\n",
              "      <th>Destination Port</th>\n",
              "      <th>NAT Source Port</th>\n",
              "      <th>NAT Destination Port</th>\n",
              "      <th>Action</th>\n",
              "      <th>Bytes</th>\n",
              "      <th>Bytes Sent</th>\n",
              "      <th>Bytes Received</th>\n",
              "      <th>Packets</th>\n",
              "      <th>Elapsed Time (sec)</th>\n",
              "      <th>pkts_sent</th>\n",
              "      <th>pkts_received</th>\n",
              "      <th>Isolation Forest Anomaly</th>\n",
              "    </tr>\n",
              "  </thead>\n",
              "  <tbody>\n",
              "    <tr>\n",
              "      <th>65527</th>\n",
              "      <td>63691</td>\n",
              "      <td>80</td>\n",
              "      <td>13237</td>\n",
              "      <td>80</td>\n",
              "      <td>allow</td>\n",
              "      <td>314</td>\n",
              "      <td>192</td>\n",
              "      <td>122</td>\n",
              "      <td>6</td>\n",
              "      <td>15</td>\n",
              "      <td>4</td>\n",
              "      <td>2</td>\n",
              "      <td>1</td>\n",
              "    </tr>\n",
              "    <tr>\n",
              "      <th>65528</th>\n",
              "      <td>50964</td>\n",
              "      <td>80</td>\n",
              "      <td>13485</td>\n",
              "      <td>80</td>\n",
              "      <td>allow</td>\n",
              "      <td>4680740</td>\n",
              "      <td>67312</td>\n",
              "      <td>4613428</td>\n",
              "      <td>4675</td>\n",
              "      <td>77</td>\n",
              "      <td>985</td>\n",
              "      <td>3690</td>\n",
              "      <td>-1</td>\n",
              "    </tr>\n",
              "    <tr>\n",
              "      <th>65529</th>\n",
              "      <td>54871</td>\n",
              "      <td>445</td>\n",
              "      <td>0</td>\n",
              "      <td>0</td>\n",
              "      <td>drop</td>\n",
              "      <td>70</td>\n",
              "      <td>70</td>\n",
              "      <td>0</td>\n",
              "      <td>1</td>\n",
              "      <td>0</td>\n",
              "      <td>1</td>\n",
              "      <td>0</td>\n",
              "      <td>1</td>\n",
              "    </tr>\n",
              "    <tr>\n",
              "      <th>65530</th>\n",
              "      <td>54870</td>\n",
              "      <td>445</td>\n",
              "      <td>0</td>\n",
              "      <td>0</td>\n",
              "      <td>drop</td>\n",
              "      <td>70</td>\n",
              "      <td>70</td>\n",
              "      <td>0</td>\n",
              "      <td>1</td>\n",
              "      <td>0</td>\n",
              "      <td>1</td>\n",
              "      <td>0</td>\n",
              "      <td>1</td>\n",
              "    </tr>\n",
              "    <tr>\n",
              "      <th>65531</th>\n",
              "      <td>54867</td>\n",
              "      <td>445</td>\n",
              "      <td>0</td>\n",
              "      <td>0</td>\n",
              "      <td>drop</td>\n",
              "      <td>70</td>\n",
              "      <td>70</td>\n",
              "      <td>0</td>\n",
              "      <td>1</td>\n",
              "      <td>0</td>\n",
              "      <td>1</td>\n",
              "      <td>0</td>\n",
              "      <td>1</td>\n",
              "    </tr>\n",
              "  </tbody>\n",
              "</table>\n",
              "</div>\n",
              "    <div class=\"colab-df-buttons\">\n",
              "\n",
              "  <div class=\"colab-df-container\">\n",
              "    <button class=\"colab-df-convert\" onclick=\"convertToInteractive('df-5823899b-c4cf-436f-ae73-3c6ba8736419')\"\n",
              "            title=\"Convert this dataframe to an interactive table.\"\n",
              "            style=\"display:none;\">\n",
              "\n",
              "  <svg xmlns=\"http://www.w3.org/2000/svg\" height=\"24px\" viewBox=\"0 -960 960 960\">\n",
              "    <path d=\"M120-120v-720h720v720H120Zm60-500h600v-160H180v160Zm220 220h160v-160H400v160Zm0 220h160v-160H400v160ZM180-400h160v-160H180v160Zm440 0h160v-160H620v160ZM180-180h160v-160H180v160Zm440 0h160v-160H620v160Z\"/>\n",
              "  </svg>\n",
              "    </button>\n",
              "\n",
              "  <style>\n",
              "    .colab-df-container {\n",
              "      display:flex;\n",
              "      gap: 12px;\n",
              "    }\n",
              "\n",
              "    .colab-df-convert {\n",
              "      background-color: #E8F0FE;\n",
              "      border: none;\n",
              "      border-radius: 50%;\n",
              "      cursor: pointer;\n",
              "      display: none;\n",
              "      fill: #1967D2;\n",
              "      height: 32px;\n",
              "      padding: 0 0 0 0;\n",
              "      width: 32px;\n",
              "    }\n",
              "\n",
              "    .colab-df-convert:hover {\n",
              "      background-color: #E2EBFA;\n",
              "      box-shadow: 0px 1px 2px rgba(60, 64, 67, 0.3), 0px 1px 3px 1px rgba(60, 64, 67, 0.15);\n",
              "      fill: #174EA6;\n",
              "    }\n",
              "\n",
              "    .colab-df-buttons div {\n",
              "      margin-bottom: 4px;\n",
              "    }\n",
              "\n",
              "    [theme=dark] .colab-df-convert {\n",
              "      background-color: #3B4455;\n",
              "      fill: #D2E3FC;\n",
              "    }\n",
              "\n",
              "    [theme=dark] .colab-df-convert:hover {\n",
              "      background-color: #434B5C;\n",
              "      box-shadow: 0px 1px 3px 1px rgba(0, 0, 0, 0.15);\n",
              "      filter: drop-shadow(0px 1px 2px rgba(0, 0, 0, 0.3));\n",
              "      fill: #FFFFFF;\n",
              "    }\n",
              "  </style>\n",
              "\n",
              "    <script>\n",
              "      const buttonEl =\n",
              "        document.querySelector('#df-5823899b-c4cf-436f-ae73-3c6ba8736419 button.colab-df-convert');\n",
              "      buttonEl.style.display =\n",
              "        google.colab.kernel.accessAllowed ? 'block' : 'none';\n",
              "\n",
              "      async function convertToInteractive(key) {\n",
              "        const element = document.querySelector('#df-5823899b-c4cf-436f-ae73-3c6ba8736419');\n",
              "        const dataTable =\n",
              "          await google.colab.kernel.invokeFunction('convertToInteractive',\n",
              "                                                    [key], {});\n",
              "        if (!dataTable) return;\n",
              "\n",
              "        const docLinkHtml = 'Like what you see? Visit the ' +\n",
              "          '<a target=\"_blank\" href=https://colab.research.google.com/notebooks/data_table.ipynb>data table notebook</a>'\n",
              "          + ' to learn more about interactive tables.';\n",
              "        element.innerHTML = '';\n",
              "        dataTable['output_type'] = 'display_data';\n",
              "        await google.colab.output.renderOutput(dataTable, element);\n",
              "        const docLink = document.createElement('div');\n",
              "        docLink.innerHTML = docLinkHtml;\n",
              "        element.appendChild(docLink);\n",
              "      }\n",
              "    </script>\n",
              "  </div>\n",
              "\n",
              "\n",
              "<div id=\"df-a68e0ab8-b064-49b0-b126-96631320ff40\">\n",
              "  <button class=\"colab-df-quickchart\" onclick=\"quickchart('df-a68e0ab8-b064-49b0-b126-96631320ff40')\"\n",
              "            title=\"Suggest charts.\"\n",
              "            style=\"display:none;\">\n",
              "\n",
              "<svg xmlns=\"http://www.w3.org/2000/svg\" height=\"24px\"viewBox=\"0 0 24 24\"\n",
              "     width=\"24px\">\n",
              "    <g>\n",
              "        <path d=\"M19 3H5c-1.1 0-2 .9-2 2v14c0 1.1.9 2 2 2h14c1.1 0 2-.9 2-2V5c0-1.1-.9-2-2-2zM9 17H7v-7h2v7zm4 0h-2V7h2v10zm4 0h-2v-4h2v4z\"/>\n",
              "    </g>\n",
              "</svg>\n",
              "  </button>\n",
              "\n",
              "<style>\n",
              "  .colab-df-quickchart {\n",
              "      --bg-color: #E8F0FE;\n",
              "      --fill-color: #1967D2;\n",
              "      --hover-bg-color: #E2EBFA;\n",
              "      --hover-fill-color: #174EA6;\n",
              "      --disabled-fill-color: #AAA;\n",
              "      --disabled-bg-color: #DDD;\n",
              "  }\n",
              "\n",
              "  [theme=dark] .colab-df-quickchart {\n",
              "      --bg-color: #3B4455;\n",
              "      --fill-color: #D2E3FC;\n",
              "      --hover-bg-color: #434B5C;\n",
              "      --hover-fill-color: #FFFFFF;\n",
              "      --disabled-bg-color: #3B4455;\n",
              "      --disabled-fill-color: #666;\n",
              "  }\n",
              "\n",
              "  .colab-df-quickchart {\n",
              "    background-color: var(--bg-color);\n",
              "    border: none;\n",
              "    border-radius: 50%;\n",
              "    cursor: pointer;\n",
              "    display: none;\n",
              "    fill: var(--fill-color);\n",
              "    height: 32px;\n",
              "    padding: 0;\n",
              "    width: 32px;\n",
              "  }\n",
              "\n",
              "  .colab-df-quickchart:hover {\n",
              "    background-color: var(--hover-bg-color);\n",
              "    box-shadow: 0 1px 2px rgba(60, 64, 67, 0.3), 0 1px 3px 1px rgba(60, 64, 67, 0.15);\n",
              "    fill: var(--button-hover-fill-color);\n",
              "  }\n",
              "\n",
              "  .colab-df-quickchart-complete:disabled,\n",
              "  .colab-df-quickchart-complete:disabled:hover {\n",
              "    background-color: var(--disabled-bg-color);\n",
              "    fill: var(--disabled-fill-color);\n",
              "    box-shadow: none;\n",
              "  }\n",
              "\n",
              "  .colab-df-spinner {\n",
              "    border: 2px solid var(--fill-color);\n",
              "    border-color: transparent;\n",
              "    border-bottom-color: var(--fill-color);\n",
              "    animation:\n",
              "      spin 1s steps(1) infinite;\n",
              "  }\n",
              "\n",
              "  @keyframes spin {\n",
              "    0% {\n",
              "      border-color: transparent;\n",
              "      border-bottom-color: var(--fill-color);\n",
              "      border-left-color: var(--fill-color);\n",
              "    }\n",
              "    20% {\n",
              "      border-color: transparent;\n",
              "      border-left-color: var(--fill-color);\n",
              "      border-top-color: var(--fill-color);\n",
              "    }\n",
              "    30% {\n",
              "      border-color: transparent;\n",
              "      border-left-color: var(--fill-color);\n",
              "      border-top-color: var(--fill-color);\n",
              "      border-right-color: var(--fill-color);\n",
              "    }\n",
              "    40% {\n",
              "      border-color: transparent;\n",
              "      border-right-color: var(--fill-color);\n",
              "      border-top-color: var(--fill-color);\n",
              "    }\n",
              "    60% {\n",
              "      border-color: transparent;\n",
              "      border-right-color: var(--fill-color);\n",
              "    }\n",
              "    80% {\n",
              "      border-color: transparent;\n",
              "      border-right-color: var(--fill-color);\n",
              "      border-bottom-color: var(--fill-color);\n",
              "    }\n",
              "    90% {\n",
              "      border-color: transparent;\n",
              "      border-bottom-color: var(--fill-color);\n",
              "    }\n",
              "  }\n",
              "</style>\n",
              "\n",
              "  <script>\n",
              "    async function quickchart(key) {\n",
              "      const quickchartButtonEl =\n",
              "        document.querySelector('#' + key + ' button');\n",
              "      quickchartButtonEl.disabled = true;  // To prevent multiple clicks.\n",
              "      quickchartButtonEl.classList.add('colab-df-spinner');\n",
              "      try {\n",
              "        const charts = await google.colab.kernel.invokeFunction(\n",
              "            'suggestCharts', [key], {});\n",
              "      } catch (error) {\n",
              "        console.error('Error during call to suggestCharts:', error);\n",
              "      }\n",
              "      quickchartButtonEl.classList.remove('colab-df-spinner');\n",
              "      quickchartButtonEl.classList.add('colab-df-quickchart-complete');\n",
              "    }\n",
              "    (() => {\n",
              "      let quickchartButtonEl =\n",
              "        document.querySelector('#df-a68e0ab8-b064-49b0-b126-96631320ff40 button');\n",
              "      quickchartButtonEl.style.display =\n",
              "        google.colab.kernel.accessAllowed ? 'block' : 'none';\n",
              "    })();\n",
              "  </script>\n",
              "</div>\n",
              "    </div>\n",
              "  </div>\n"
            ]
          },
          "metadata": {},
          "execution_count": 12
        }
      ]
    },
    {
      "cell_type": "code",
      "source": [
        "df['Isolation Forest Anomaly'].value_counts()"
      ],
      "metadata": {
        "colab": {
          "base_uri": "https://localhost:8080/"
        },
        "id": "G8nrvktbcVeY",
        "outputId": "10928bae-1656-4f15-93d0-780950135718"
      },
      "execution_count": 13,
      "outputs": [
        {
          "output_type": "execute_result",
          "data": {
            "text/plain": [
              " 1    64431\n",
              "-1     1101\n",
              "Name: Isolation Forest Anomaly, dtype: int64"
            ]
          },
          "metadata": {},
          "execution_count": 13
        }
      ]
    },
    {
      "cell_type": "markdown",
      "source": [
        "El modelo `Isolation Forest Anomaly` encontro 1115 anomalías. Podria ser interesante comparar los Outliers generados por el diagrama de caja con las anomalías que genera el modelo `Isolation Forest Anomaly` y ver si hay algún tipo de correspondencia o cuál de los dos se ajusta mejor a las necesidades de la compañía"
      ],
      "metadata": {
        "id": "U7z6JViPQbdR"
      }
    },
    {
      "cell_type": "code",
      "source": [],
      "metadata": {
        "id": "HeVJz8avZgio"
      },
      "execution_count": null,
      "outputs": []
    }
  ]
}