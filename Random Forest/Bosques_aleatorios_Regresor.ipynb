{
  "nbformat": 4,
  "nbformat_minor": 0,
  "metadata": {
    "colab": {
      "provenance": []
    },
    "kernelspec": {
      "name": "python3",
      "display_name": "Python 3"
    },
    "language_info": {
      "name": "python"
    }
  },
  "cells": [
    {
      "cell_type": "markdown",
      "source": [
        "# Comparación de Linear Regression vs Random Forest\n",
        "\n",
        "## Predicción de precio de casas\n",
        "\n",
        "Recordemos las métricas obtenidas en la regresion multivariante con LinearRegression para el caso multivariante\n",
        "\n",
        "MAE :   121274.02\n",
        "\n",
        "MSE :   34081316608.80\n",
        "\n",
        "RMSE:   184611.26\n",
        "\n",
        "R2  :   0.74\n",
        "\n",
        "**Nota**: El contexto de este problema se encuentra en el notebook de LinearRegression"
      ],
      "metadata": {
        "id": "8Dk5oaZyR9Ht"
      }
    },
    {
      "cell_type": "code",
      "source": [
        "import pandas as pd\n",
        "import numpy as np\n",
        "import matplotlib.pyplot as plt\n",
        "from sklearn.ensemble import RandomForestRegressor\n",
        "from sklearn.model_selection import train_test_split\n",
        "from sklearn.preprocessing import StandardScaler\n",
        "from sklearn.metrics import r2_score, mean_absolute_error, mean_squared_error"
      ],
      "metadata": {
        "id": "eO1AGciRSKdg"
      },
      "execution_count": 49,
      "outputs": []
    },
    {
      "cell_type": "code",
      "source": [
        "df = pd.read_csv('kc_house_data_final.csv')"
      ],
      "metadata": {
        "id": "T34Zpc42S3Wv"
      },
      "execution_count": 35,
      "outputs": []
    },
    {
      "cell_type": "code",
      "source": [
        "x=df[['bedrooms',\n",
        "        'bathrooms',\n",
        "        'sqft_living',\n",
        "        'sqft_lot',\n",
        "        'floors',\n",
        "        'waterfront',\n",
        "        'view',\n",
        "        'condition',\n",
        "        'grade',\n",
        "        'sqft_basement',\n",
        "        'yr_built',\n",
        "        'year_renovated',\n",
        "        'zipcode',\n",
        "        'lat',\n",
        "        'long',\n",
        "        'sqft_living15',\n",
        "        'sqft_lot15',\n",
        "        'year',\n",
        "        'month',\n",
        "        'day'\n",
        "]].values\n",
        "y = df['price'].values"
      ],
      "metadata": {
        "id": "2L8arHj_S9cf"
      },
      "execution_count": 36,
      "outputs": []
    },
    {
      "cell_type": "code",
      "source": [
        "x_train, x_test, y_train, y_test = train_test_split(x,y,test_size = 0.2, random_state = 3)"
      ],
      "metadata": {
        "id": "0vRwyxo1S_Px"
      },
      "execution_count": 37,
      "outputs": []
    },
    {
      "cell_type": "code",
      "source": [
        "escalador = StandardScaler()\n",
        "\n",
        "escalador.fit(x_train)\n",
        "x_train = escalador.transform(x_train)\n",
        "x_test = escalador.transform(x_test)"
      ],
      "metadata": {
        "id": "rmFGXET-T-mv"
      },
      "execution_count": 38,
      "outputs": []
    },
    {
      "cell_type": "code",
      "source": [
        "modelo = RandomForestRegressor()"
      ],
      "metadata": {
        "id": "j3a-CL4KUTS-"
      },
      "execution_count": 39,
      "outputs": []
    },
    {
      "cell_type": "code",
      "source": [
        "modelo.fit(x_train,y_train)\n",
        "y_pred = modelo.predict(x_test)"
      ],
      "metadata": {
        "id": "5Sph9jWBUaC6"
      },
      "execution_count": 40,
      "outputs": []
    },
    {
      "cell_type": "code",
      "source": [
        "r2_score(y_test,y_pred)"
      ],
      "metadata": {
        "colab": {
          "base_uri": "https://localhost:8080/"
        },
        "id": "BGAYaFM4VfIX",
        "outputId": "038ed35d-2e6e-4b32-8840-6745f01f6a2e"
      },
      "execution_count": 41,
      "outputs": [
        {
          "output_type": "execute_result",
          "data": {
            "text/plain": [
              "0.862426578180856"
            ]
          },
          "metadata": {},
          "execution_count": 41
        }
      ]
    },
    {
      "cell_type": "markdown",
      "source": [
        "Aqui vemos una mejora notable en el R2 usando bosques aleatorios en comparación al R2 = 0,74 que obtuvimos usando la regresion lineal"
      ],
      "metadata": {
        "id": "1T4aTLexYB5_"
      }
    },
    {
      "cell_type": "code",
      "source": [
        "r2_linreg = r2_score(y_test, y_pred)\n",
        "MAE_linreg = mean_absolute_error(y_test, y_pred)\n",
        "MSE_linreg = mean_squared_error(y_test, y_pred)\n",
        "RMSE_linreg = np.sqrt(MSE_linreg)"
      ],
      "metadata": {
        "id": "xI4f9bmMXmy1"
      },
      "execution_count": 46,
      "outputs": []
    },
    {
      "cell_type": "markdown",
      "source": [
        "Veamos otras métricas"
      ],
      "metadata": {
        "id": "ron8K9S1Y04E"
      }
    },
    {
      "cell_type": "code",
      "source": [
        "print(\"\")\n",
        "print(f'MAE :   {MAE_linreg:.2f}')\n",
        "print(f'MSE :   {MSE_linreg:.2f}')\n",
        "print(f\"RMSE:   {RMSE_linreg:.2f}\")\n",
        "print(f\"R2  :   {r2_linreg:.2f}\")"
      ],
      "metadata": {
        "colab": {
          "base_uri": "https://localhost:8080/"
        },
        "id": "zwr4v1FOYjPQ",
        "outputId": "57dcbf7f-eb45-41fa-9126-09667170b70c"
      },
      "execution_count": 47,
      "outputs": [
        {
          "output_type": "stream",
          "name": "stdout",
          "text": [
            "\n",
            "MAE :   70184.05\n",
            "MSE :   19091042429.16\n",
            "RMSE:   138170.34\n",
            "R2  :   0.86\n"
          ]
        }
      ]
    },
    {
      "cell_type": "markdown",
      "source": [
        "Por último veamos cómo se comporta la dispersion de las predicciones y los valores reales"
      ],
      "metadata": {
        "id": "KZS-vimwY715"
      }
    },
    {
      "cell_type": "code",
      "source": [
        "fig,ax=plt.subplots(1,1,figsize=(8,6))\n",
        "\n",
        "x_ref=np.linspace(0,np.max(y_pred),100)\n",
        "y_ref=np.linspace(0,np.max(y_pred),100)\n",
        "ax.plot(x_ref,y_ref,'--r' ,label='predicción perfecta')\n",
        "\n",
        "ax.scatter(y_pred,y_test, label='training data',s=0.5)\n",
        "\n",
        "ax.set_xlabel('y_pred')\n",
        "ax.set_ylabel('y_test')\n",
        "ax.set_xlim(0,np.max(y_pred))\n",
        "ax.set_ylim(0,np.max(y_pred))\n",
        "ax.grid(True)\n",
        "ax.legend()"
      ],
      "metadata": {
        "colab": {
          "base_uri": "https://localhost:8080/",
          "height": 574
        },
        "id": "eGPElkhuYzAq",
        "outputId": "f4bd3dfa-d11a-4eb7-e159-fd62e9f02e76"
      },
      "execution_count": 50,
      "outputs": [
        {
          "output_type": "execute_result",
          "data": {
            "text/plain": [
              "<matplotlib.legend.Legend at 0x7972790a6fe0>"
            ]
          },
          "metadata": {},
          "execution_count": 50
        },
        {
          "output_type": "display_data",
          "data": {
            "text/plain": [
              "<Figure size 800x600 with 1 Axes>"
            ],
            "image/png": "[encoded data removed]"
          },
          "metadata": {}
        }
      ]
    },
    {
      "cell_type": "markdown",
      "source": [
        "Aquí se puede notar una dispersión menor que la obtenida en el caso de LinearRegression"
      ],
      "metadata": {
        "id": "rGKhmn9yZTdx"
      }
    },
    {
      "cell_type": "code",
      "source": [],
      "metadata": {
        "id": "tHUXv0tsZR03"
      },
      "execution_count": null,
      "outputs": []
    },
    {
      "cell_type": "code",
      "source": [],
      "metadata": {
        "id": "R0wlZERkZJoA"
      },
      "execution_count": null,
      "outputs": []
    }
  ]
}