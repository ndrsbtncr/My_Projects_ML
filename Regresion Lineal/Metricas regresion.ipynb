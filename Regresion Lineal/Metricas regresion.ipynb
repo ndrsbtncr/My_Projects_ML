{
  "cells": [
    {
      "cell_type": "markdown",
      "metadata": {
        "id": "5kyn4buFpT1n"
      },
      "source": [
        "<h1 style=\"color:purple\"> Métricas para Regresión </h1>"
      ]
    },
    {
      "cell_type": "markdown",
      "metadata": {
        "id": "dAnohm27pT1o"
      },
      "source": [
        "<h3 style=\"color:purple\">Error absoluto máximo (M)</h3>\n",
        "\n",
        "$y$ : valor verdadero\n",
        "\n",
        "$\\hat{y}$ : valor predicho\n",
        "\n",
        "$$\\text{M}(y, \\hat{y}) = max(\\left| y_i - \\hat{y}_i \\right|)$$\n",
        "\n",
        "Este error se usa mucho para estimar la sensibilidad máxima de nuestro modelo, por ejemplo no es muy bueno para un banco que el modelo falle con un cliente por un orden de magnitud muy elevado y le presten una cantidad de dinero dado que el modelo dice que es apto, pero que probablemente no vaya a pagar pues el modelo está admitiendo márgenes de error muy grandes\n"
      ]
    },
    {
      "cell_type": "code",
      "execution_count": null,
      "metadata": {
        "id": "YkRWFREBpT1p",
        "outputId": "e002f9b7-c542-496c-a6f1-793fd12fb55f"
      },
      "outputs": [
        {
          "data": {
            "text/plain": [
              "10"
            ]
          },
          "execution_count": 1,
          "metadata": {},
          "output_type": "execute_result"
        }
      ],
      "source": [
        "from sklearn.metrics import max_error\n",
        "\n",
        "y_verdadero = [1, 2, 3, 4, 5]\n",
        "y_predicho = [1, 2, 3, 4, -5]\n",
        "max_error(y_verdadero, y_predicho)"
      ]
    },
    {
      "cell_type": "markdown",
      "metadata": {
        "scrolled": false,
        "id": "GT8pvvPXpT1q"
      },
      "source": [
        "<h3 style=\"color:purple\">Error absoluto medio (mean absolute error - MAE)</h3>\n",
        "\n",
        "$y$ : valor verdadero\n",
        "\n",
        "$\\hat{y}$ : valor predicho\n",
        "\n",
        "$n$ : tamaño de la muestra\n",
        "\n",
        "$$\\text{MAE}(y, \\hat{y}) = \\frac{1}{n} \\sum_{i=1}^{n} \\left| y_i - \\hat{y}_i \\right|$$\n",
        "\n",
        "Este error se usa para medir la suma de los errores individuales, es interpretable en las mismas unidades de la variable\n",
        "\n",
        "\n"
      ]
    },
    {
      "cell_type": "code",
      "execution_count": null,
      "metadata": {
        "id": "lm89kTKzpT1q",
        "outputId": "977ffd96-bf3b-4216-c09a-93a6d3e67bcc"
      },
      "outputs": [
        {
          "data": {
            "text/plain": [
              "2.0"
            ]
          },
          "execution_count": 2,
          "metadata": {},
          "output_type": "execute_result"
        }
      ],
      "source": [
        "from sklearn.metrics import mean_absolute_error\n",
        "\n",
        "y_verdadero = [1, 2, 3, 4, 5]\n",
        "y_predicho = [1, 2, 3, 4, -5]\n",
        "mean_absolute_error(y_verdadero, y_predicho)"
      ]
    },
    {
      "cell_type": "markdown",
      "metadata": {
        "id": "Iom5X58YpT1q"
      },
      "source": [
        "<h3 style=\"color:purple\">Error cuadrático medio (mean squared error - MSE)</h3>\n",
        "$y$ : valor verdadero\n",
        "\n",
        "$\\hat{y}$ : valor predicho\n",
        "\n",
        "$n$ : tamaño de la muestra\n",
        "\n",
        "$$\\text{MSE}(y, \\hat{y}) = \\frac{1}{n} \\sum_{i=1}^{n} (y_i - \\hat{y}_i)^2$$\n",
        "\n",
        "Esta forma de propagar los errores en el modelo le da mayor peso a los errores grandes, las unidades del error quedan cuadráticas"
      ]
    },
    {
      "cell_type": "code",
      "execution_count": null,
      "metadata": {
        "id": "f-tmM51PpT1r",
        "outputId": "efb5fb53-6d97-45e8-d062-c2d65f4d9d17"
      },
      "outputs": [
        {
          "data": {
            "text/plain": [
              "20.0"
            ]
          },
          "execution_count": 3,
          "metadata": {},
          "output_type": "execute_result"
        }
      ],
      "source": [
        "from sklearn.metrics import mean_squared_error\n",
        "\n",
        "y_verdadero = [1, 2, 3, 4, 5]\n",
        "y_predicho = [1, 2, 3, 4, -5]\n",
        "mean_squared_error(y_verdadero, y_predicho)"
      ]
    },
    {
      "cell_type": "markdown",
      "metadata": {
        "id": "aS0sl9nJpT1r"
      },
      "source": [
        "<h3 style=\"color:purple\">Suma de los cuadrados de los residuos (RSS)</h3>\n",
        "\n",
        "$y$ : valor verdadero\n",
        "\n",
        "$\\hat{y}$ : valor predicho\n",
        "\n",
        "$n$ : tamaño de la muestra\n",
        "\n",
        "$$\\text{RSS}(y, \\hat{y}) = \\sum_{i=1}^{n} (y_i - \\hat{y}_i)^2$$\n",
        "\n",
        "Este error no toma la media dividiendo por el total de datos, solo propaga los errores sumandolos"
      ]
    },
    {
      "cell_type": "code",
      "execution_count": null,
      "metadata": {
        "id": "8U22Lww2pT1r",
        "outputId": "5c346075-02bc-4ec5-a6bb-62592267affa"
      },
      "outputs": [
        {
          "data": {
            "text/plain": [
              "100.0"
            ]
          },
          "execution_count": 4,
          "metadata": {},
          "output_type": "execute_result"
        }
      ],
      "source": [
        "from sklearn.metrics import mean_squared_error\n",
        "\n",
        "y_verdadero = [1, 2, 3, 4, 5]\n",
        "y_predicho = [1, 2, 3, 4, -5]\n",
        "mean_squared_error(y_verdadero, y_predicho)*len(y_predicho)"
      ]
    },
    {
      "cell_type": "markdown",
      "metadata": {
        "id": "bVYtVVsgpT1r"
      },
      "source": [
        "<h3 style=\"color:purple\">Raíz cuadrada del error cuadrático medio (RMSE)</h3>\n",
        "\n",
        "$y$ : valor verdadero\n",
        "\n",
        "$\\hat{y}$ : valor predicho\n",
        "\n",
        "$n$ : tamaño de la muestra\n",
        "\n",
        "$$\\text{RMSE}(y, \\hat{y}) = \\sqrt{\\frac{1}{n} \\sum_{i=1}^{n} (y_i - \\hat{y}_i)^2}$$\n",
        "\n",
        "Esta métrica soluciona en el caso del error cuadrático medio la interpretación de las unidades que quedaban cuadráticas y ahora las unidades serán las mismas que las de la variable."
      ]
    },
    {
      "cell_type": "code",
      "execution_count": null,
      "metadata": {
        "id": "-4k5ZgaepT1s",
        "outputId": "7caf54e0-0ecc-4748-f7f4-3387428aa200"
      },
      "outputs": [
        {
          "data": {
            "text/plain": [
              "4.47213595499958"
            ]
          },
          "execution_count": 5,
          "metadata": {},
          "output_type": "execute_result"
        }
      ],
      "source": [
        "from sklearn.metrics import mean_squared_error\n",
        "\n",
        "y_verdadero = [1, 2, 3, 4, 5]\n",
        "y_predicho = [1, 2, 3, 4, -5]\n",
        "mean_squared_error(y_verdadero, y_predicho, squared=False)"
      ]
    },
    {
      "cell_type": "markdown",
      "metadata": {
        "id": "MOsPR7QnpT1s"
      },
      "source": [
        "<h3 style=\"color:purple\">R^2 (Coeficiente de determinación)</h3>\n",
        "\n",
        "$y$ : valor verdadero\n",
        "\n",
        "$\\hat{y}$ : valor predicho\n",
        "\n",
        "$\\bar{y}$ : promedio de los valores verdaderos\n",
        "\n",
        "$n$ : tamaño de la muestra\n",
        "\n",
        "$$R^2(y, \\hat{y}) = 1 - \\frac{\\sum_{i=1}^{n} (y_i - \\hat{y}_i)^2}{\\sum_{i=1}^{n} (y_i - \\bar{y})^2}$$\n",
        "\n",
        "Esta es una métrica que está entre 0 y 1 donde 0 indica que no es bueno el modelo y 1 que sí hay una correlación grande"
      ]
    },
    {
      "cell_type": "code",
      "execution_count": 1,
      "metadata": {
        "colab": {
          "base_uri": "https://localhost:8080/"
        },
        "id": "9aGPN908pT1s",
        "outputId": "4a4de6d0-acdc-4c05-a7d6-d466ba5ea43c"
      },
      "outputs": [
        {
          "output_type": "execute_result",
          "data": {
            "text/plain": [
              "0.09999999999999998"
            ]
          },
          "metadata": {},
          "execution_count": 1
        }
      ],
      "source": [
        "from sklearn.metrics import r2_score\n",
        "\n",
        "y_verdadero = [1, 2, 3, 4, 5]\n",
        "y_predicho = [1, 2, 3, 4, 2]\n",
        "r2_score(y_verdadero, y_predicho)"
      ]
    },
    {
      "cell_type": "markdown",
      "metadata": {
        "id": "wGYN9v1wpT1s"
      },
      "source": [
        "Spiess, Andrej-Nikolai, and Natalie Neumeyer. \"An evaluation of R2 as an inadequate measure for nonlinear models in pharmacological and biochemical research: a Monte Carlo approach.\" BMC pharmacology 10.1 (2010): 1-11."
      ]
    },
    {
      "cell_type": "markdown",
      "source": [
        "# Coeficiente de correlación de Pearson\n",
        "\n",
        "Este coeficiente se encuentra entre -1 y 1, donde -1 indica una correlación de una recta de pendiente negativa y 1 una recta de pendiente positiva. 0 es un indicador de que no hay buena correlación"
      ],
      "metadata": {
        "id": "-_fBjFB4sdFo"
      }
    },
    {
      "cell_type": "code",
      "source": [
        "import numpy as np\n",
        "\n",
        "# Datos de ejemplo\n",
        "x = [1, 2, 3, 4, 5]\n",
        "y = [2, 3, 5, 4, 6]\n",
        "\n",
        "# Calcular el coeficiente de Pearson\n",
        "correlation_coefficient = np.corrcoef(x, y)[0, 1]\n",
        "\n",
        "# Imprimir el coeficiente de Pearson\n",
        "print(f\"Coeficiente de Pearson (r): {correlation_coefficient:.2f}\")\n"
      ],
      "metadata": {
        "colab": {
          "base_uri": "https://localhost:8080/"
        },
        "id": "bXuXc2jisjHn",
        "outputId": "8894615f-9e6f-4d72-c317-23ccd9339a66"
      },
      "execution_count": 2,
      "outputs": [
        {
          "output_type": "stream",
          "name": "stdout",
          "text": [
            "Coeficiente de Pearson (r): 0.90\n"
          ]
        }
      ]
    },
    {
      "cell_type": "markdown",
      "source": [
        "**Nota:** Las dos últimas métricas, es decir `R2` y `Pearson` son solo aplicables a modelos lineales, las demás sí son aplicames a modelos de regresión no lineales"
      ],
      "metadata": {
        "id": "buvyh36etDvL"
      }
    },
    {
      "cell_type": "code",
      "source": [],
      "metadata": {
        "id": "_urWNgVJskKe"
      },
      "execution_count": null,
      "outputs": []
    }
  ],
  "metadata": {
    "kernelspec": {
      "display_name": "Python 3",
      "language": "python",
      "name": "python3"
    },
    "language_info": {
      "codemirror_mode": {
        "name": "ipython",
        "version": 3
      },
      "file_extension": ".py",
      "mimetype": "text/x-python",
      "name": "python",
      "nbconvert_exporter": "python",
      "pygments_lexer": "ipython3",
      "version": "3.8.5"
    },
    "colab": {
      "provenance": []
    }
  },
  "nbformat": 4,
  "nbformat_minor": 0
}