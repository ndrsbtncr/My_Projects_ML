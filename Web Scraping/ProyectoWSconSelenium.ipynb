{
 "cells": [
  {
   "cell_type": "markdown",
   "id": "a9d72d5f",
   "metadata": {},
   "source": [
    "<h1 style=\"text-align:center;\">Web Scraping con Selenium</h1>\n",
    "\n",
    "\n",
    "Este robot extrae información de una página web como indeed la cual no permite el consumo de información a gran velocidad dado que usa tecnología antiscraping. La idea es simular un humano navegando por la página web y extrayendo la información, debido a esta limitación el proceso es mucho más lento que con la API, pues debemos evitar ser detectados por el antiscraping."
   ]
  },
  {
   "cell_type": "markdown",
   "id": "f732bc12",
   "metadata": {},
   "source": [
    "<img src=\"1.png\" alt=\"Texto alternativo\">"
   ]
  },
  {
   "cell_type": "code",
   "execution_count": 1,
   "id": "f4eebea6",
   "metadata": {},
   "outputs": [
    {
     "name": "stdout",
     "output_type": "stream",
     "text": [
      "Average base salary:$80,802\n"
     ]
    }
   ],
   "source": [
    "from selenium import webdriver\n",
    "from selenium.webdriver.common.by import By\n",
    "from time import sleep\n",
    "\n",
    "browser = webdriver.Chrome()\n",
    "\n",
    "browser.get('https://www.indeed.com/career/human-resources-manager/salaries')\n",
    "\n",
    "sleep(5)\n",
    "\n",
    "nombre = browser.find_element(By.XPATH, '//h2[contains(@class, \"css-19vvb0n e1tiznh50\")]')\n",
    "salario_promedio = browser.find_element(By.CSS_SELECTOR, 'div[data-testid=\"avg-salary-value\"]')\n",
    "print(nombre.text + \":\" + salario_promedio.text)\n",
    "\n",
    "browser.quit()"
   ]
  },
  {
   "cell_type": "markdown",
   "id": "db396128",
   "metadata": {},
   "source": [
    "<img src=\"1-1.png\" alt=\"Texto alternativo\">"
   ]
  },
  {
   "cell_type": "code",
   "execution_count": 2,
   "id": "971003cc",
   "metadata": {},
   "outputs": [
    {
     "name": "stdout",
     "output_type": "stream",
     "text": [
      "The average salary for a human resources manager is $80,802 per year in the United States.\n"
     ]
    }
   ],
   "source": [
    "from selenium import webdriver\n",
    "from selenium.webdriver.common.by import By\n",
    "from time import sleep\n",
    "\n",
    "browser = webdriver.Chrome()\n",
    "\n",
    "browser.get('https://www.indeed.com/career/human-resources-manager/salaries')\n",
    "\n",
    "element = browser.find_element(By.XPATH, '//span[contains(@class, \"css-1eop1kv e1wnkr790\")]')\n",
    "\n",
    "print(element.text)\n",
    "\n",
    "browser.quit()"
   ]
  },
  {
   "cell_type": "markdown",
   "id": "c35edc89",
   "metadata": {},
   "source": [
    "Ahora interactuando con la página y modificando el botón del periodo"
   ]
  },
  {
   "cell_type": "markdown",
   "id": "5277e3d2",
   "metadata": {},
   "source": [
    "<img src=\"1-2.png\" alt=\"Texto alternativo\">"
   ]
  },
  {
   "cell_type": "code",
   "execution_count": 3,
   "id": "673287e8",
   "metadata": {},
   "outputs": [
    {
     "name": "stdout",
     "output_type": "stream",
     "text": [
      "The average salary for a human resources manager is $5,721 per month in the United States.\n"
     ]
    }
   ],
   "source": [
    "from selenium import webdriver\n",
    "from selenium.webdriver.common.by import By\n",
    "from time import sleep\n",
    "from selenium.webdriver.support.ui import Select\n",
    "\n",
    "browser = webdriver.Chrome()\n",
    "\n",
    "browser.get('https://www.indeed.com/career/human-resources-manager/salaries')\n",
    "\n",
    "sleep(5)  \n",
    "\n",
    "\n",
    "select = Select(browser.find_element(By.ID, 'pay-period-selector'))\n",
    "select.select_by_value('MONTHLY')\n",
    "\n",
    "sleep(5)\n",
    "\n",
    "element = browser.find_element(By.XPATH, '//span[contains(@class, \"css-1eop1kv e1wnkr790\")]')\n",
    "\n",
    "print(element.text)\n",
    "\n",
    "browser.quit()"
   ]
  },
  {
   "cell_type": "markdown",
   "id": "9405d58a",
   "metadata": {},
   "source": [
    "Ahora extraemos la lista top de las compañias"
   ]
  },
  {
   "cell_type": "markdown",
   "id": "eee3a36e",
   "metadata": {},
   "source": [
    "<img src=\"1-3.png\" alt=\"Texto alternativo\">"
   ]
  },
  {
   "cell_type": "code",
   "execution_count": 4,
   "id": "e69885df",
   "metadata": {},
   "outputs": [
    {
     "name": "stdout",
     "output_type": "stream",
     "text": [
      "Jackson Lewis: $8,526 per monthly\n",
      "Dexian DISYS: $7,886 per monthly\n",
      "Arrow Workforce Solutions: $6,366 per monthly\n",
      "Confidential: $5,675 per monthly\n",
      "Snake River Lodge and Spa: $5,653 per monthly\n"
     ]
    }
   ],
   "source": [
    "from selenium import webdriver\n",
    "from selenium.webdriver.common.by import By\n",
    "from time import sleep\n",
    "from selenium.webdriver.support.ui import Select\n",
    "\n",
    "browser = webdriver.Chrome()\n",
    "\n",
    "\n",
    "browser.get('https://www.indeed.com/career/human-resources-manager/salaries')\n",
    "\n",
    "\n",
    "sleep(5)  \n",
    "\n",
    "periodo = 'MONTHLY'\n",
    "\n",
    "select = Select(browser.find_element(By.ID, 'pay-period-selector'))\n",
    "select.select_by_value(periodo)\n",
    "\n",
    "sleep(5)  \n",
    "\n",
    "elements = browser.find_elements(By.CLASS_NAME, 'css-15so73c.e19afand0')\n",
    "salaries = browser.find_elements(By.CLASS_NAME, 'css-k60owf.e1wnkr790')\n",
    "\n",
    "for i in range(len(salaries)):\n",
    "    company_name = elements[i].text\n",
    "    salary_info = salaries[i].text.split()\n",
    "    salary = salary_info[0]\n",
    "    print(f\"{company_name}: {salary} per {periodo.lower()}\")\n",
    "\n",
    "sleep(5)  \n",
    "browser.quit()"
   ]
  }
 ],
 "metadata": {
  "kernelspec": {
   "display_name": "Python 3 (ipykernel)",
   "language": "python",
   "name": "python3"
  },
  "language_info": {
   "codemirror_mode": {
    "name": "ipython",
    "version": 3
   },
   "file_extension": ".py",
   "mimetype": "text/x-python",
   "name": "python",
   "nbconvert_exporter": "python",
   "pygments_lexer": "ipython3",
   "version": "3.11.4"
  }
 },
 "nbformat": 4,
 "nbformat_minor": 5
}
